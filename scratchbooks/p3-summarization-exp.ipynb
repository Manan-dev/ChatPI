{
 "cells": [
  {
   "cell_type": "markdown",
   "metadata": {},
   "source": [
    "# Part 3 - Summarization\n",
    "\n",
    "For Part 3, use the same 300-word long sections as in Part 1, but instead of answering the questions about these sections, ask the ChatPI to summarize them for you, using Hugging Face summarization pipeline.\n",
    "\n",
    "Part 3.2 -- use two different HF summarization models: use the default summarization pipeline, then use other models of choice and discuss the differences in the result.\n",
    "\n",
    "https://huggingface.co/docs/transformers/main_classes/pipelines\n",
    "\n",
    "https://huggingface.co/docs/transformers/v4.35.0/en/main_classes/pipelines#transformers.SummarizationPipeline\n"
   ]
  },
  {
   "cell_type": "code",
   "execution_count": 5,
   "metadata": {},
   "outputs": [
    {
     "name": "stdout",
     "output_type": "stream",
     "text": [
      "Requirement already satisfied: matplotlib==3.8.2 in /Users/zacperry/Documents/school/cs-524/ChatPI/.venv/lib/python3.11/site-packages (from -r ../requirements.txt (line 1)) (3.8.2)\n",
      "Requirement already satisfied: spacy==3.7.2 in /Users/zacperry/Documents/school/cs-524/ChatPI/.venv/lib/python3.11/site-packages (from -r ../requirements.txt (line 2)) (3.7.2)\n",
      "Requirement already satisfied: torch==2.1.1 in /Users/zacperry/Documents/school/cs-524/ChatPI/.venv/lib/python3.11/site-packages (from -r ../requirements.txt (line 3)) (2.1.1)\n",
      "Requirement already satisfied: tqdm==4.66.1 in /Users/zacperry/Documents/school/cs-524/ChatPI/.venv/lib/python3.11/site-packages (from -r ../requirements.txt (line 4)) (4.66.1)\n",
      "Requirement already satisfied: transformers==4.35.0 in /Users/zacperry/Documents/school/cs-524/ChatPI/.venv/lib/python3.11/site-packages (from -r ../requirements.txt (line 5)) (4.35.0)\n",
      "Requirement already satisfied: termcolor==2.3.0 in /Users/zacperry/Documents/school/cs-524/ChatPI/.venv/lib/python3.11/site-packages (from -r ../requirements.txt (line 6)) (2.3.0)\n",
      "Requirement already satisfied: contourpy>=1.0.1 in /Users/zacperry/Documents/school/cs-524/ChatPI/.venv/lib/python3.11/site-packages (from matplotlib==3.8.2->-r ../requirements.txt (line 1)) (1.2.0)\n",
      "Requirement already satisfied: cycler>=0.10 in /Users/zacperry/Documents/school/cs-524/ChatPI/.venv/lib/python3.11/site-packages (from matplotlib==3.8.2->-r ../requirements.txt (line 1)) (0.12.1)\n",
      "Requirement already satisfied: fonttools>=4.22.0 in /Users/zacperry/Documents/school/cs-524/ChatPI/.venv/lib/python3.11/site-packages (from matplotlib==3.8.2->-r ../requirements.txt (line 1)) (4.45.0)\n",
      "Requirement already satisfied: kiwisolver>=1.3.1 in /Users/zacperry/Documents/school/cs-524/ChatPI/.venv/lib/python3.11/site-packages (from matplotlib==3.8.2->-r ../requirements.txt (line 1)) (1.4.5)\n",
      "Requirement already satisfied: numpy<2,>=1.21 in /Users/zacperry/Documents/school/cs-524/ChatPI/.venv/lib/python3.11/site-packages (from matplotlib==3.8.2->-r ../requirements.txt (line 1)) (1.26.2)\n",
      "Requirement already satisfied: packaging>=20.0 in /Users/zacperry/Documents/school/cs-524/ChatPI/.venv/lib/python3.11/site-packages (from matplotlib==3.8.2->-r ../requirements.txt (line 1)) (23.2)\n",
      "Requirement already satisfied: pillow>=8 in /Users/zacperry/Documents/school/cs-524/ChatPI/.venv/lib/python3.11/site-packages (from matplotlib==3.8.2->-r ../requirements.txt (line 1)) (10.1.0)\n",
      "Requirement already satisfied: pyparsing>=2.3.1 in /Users/zacperry/Documents/school/cs-524/ChatPI/.venv/lib/python3.11/site-packages (from matplotlib==3.8.2->-r ../requirements.txt (line 1)) (3.1.1)\n",
      "Requirement already satisfied: python-dateutil>=2.7 in /Users/zacperry/Documents/school/cs-524/ChatPI/.venv/lib/python3.11/site-packages (from matplotlib==3.8.2->-r ../requirements.txt (line 1)) (2.8.2)\n",
      "Requirement already satisfied: spacy-legacy<3.1.0,>=3.0.11 in /Users/zacperry/Documents/school/cs-524/ChatPI/.venv/lib/python3.11/site-packages (from spacy==3.7.2->-r ../requirements.txt (line 2)) (3.0.12)\n",
      "Requirement already satisfied: spacy-loggers<2.0.0,>=1.0.0 in /Users/zacperry/Documents/school/cs-524/ChatPI/.venv/lib/python3.11/site-packages (from spacy==3.7.2->-r ../requirements.txt (line 2)) (1.0.5)\n",
      "Requirement already satisfied: murmurhash<1.1.0,>=0.28.0 in /Users/zacperry/Documents/school/cs-524/ChatPI/.venv/lib/python3.11/site-packages (from spacy==3.7.2->-r ../requirements.txt (line 2)) (1.0.10)\n",
      "Requirement already satisfied: cymem<2.1.0,>=2.0.2 in /Users/zacperry/Documents/school/cs-524/ChatPI/.venv/lib/python3.11/site-packages (from spacy==3.7.2->-r ../requirements.txt (line 2)) (2.0.8)\n",
      "Requirement already satisfied: preshed<3.1.0,>=3.0.2 in /Users/zacperry/Documents/school/cs-524/ChatPI/.venv/lib/python3.11/site-packages (from spacy==3.7.2->-r ../requirements.txt (line 2)) (3.0.9)\n",
      "Requirement already satisfied: thinc<8.3.0,>=8.1.8 in /Users/zacperry/Documents/school/cs-524/ChatPI/.venv/lib/python3.11/site-packages (from spacy==3.7.2->-r ../requirements.txt (line 2)) (8.2.1)\n",
      "Requirement already satisfied: wasabi<1.2.0,>=0.9.1 in /Users/zacperry/Documents/school/cs-524/ChatPI/.venv/lib/python3.11/site-packages (from spacy==3.7.2->-r ../requirements.txt (line 2)) (1.1.2)\n",
      "Requirement already satisfied: srsly<3.0.0,>=2.4.3 in /Users/zacperry/Documents/school/cs-524/ChatPI/.venv/lib/python3.11/site-packages (from spacy==3.7.2->-r ../requirements.txt (line 2)) (2.4.8)\n",
      "Requirement already satisfied: catalogue<2.1.0,>=2.0.6 in /Users/zacperry/Documents/school/cs-524/ChatPI/.venv/lib/python3.11/site-packages (from spacy==3.7.2->-r ../requirements.txt (line 2)) (2.0.10)\n",
      "Requirement already satisfied: weasel<0.4.0,>=0.1.0 in /Users/zacperry/Documents/school/cs-524/ChatPI/.venv/lib/python3.11/site-packages (from spacy==3.7.2->-r ../requirements.txt (line 2)) (0.3.4)\n",
      "Requirement already satisfied: typer<0.10.0,>=0.3.0 in /Users/zacperry/Documents/school/cs-524/ChatPI/.venv/lib/python3.11/site-packages (from spacy==3.7.2->-r ../requirements.txt (line 2)) (0.9.0)\n",
      "Requirement already satisfied: smart-open<7.0.0,>=5.2.1 in /Users/zacperry/Documents/school/cs-524/ChatPI/.venv/lib/python3.11/site-packages (from spacy==3.7.2->-r ../requirements.txt (line 2)) (6.4.0)\n",
      "Requirement already satisfied: requests<3.0.0,>=2.13.0 in /Users/zacperry/Documents/school/cs-524/ChatPI/.venv/lib/python3.11/site-packages (from spacy==3.7.2->-r ../requirements.txt (line 2)) (2.31.0)\n",
      "Requirement already satisfied: pydantic!=1.8,!=1.8.1,<3.0.0,>=1.7.4 in /Users/zacperry/Documents/school/cs-524/ChatPI/.venv/lib/python3.11/site-packages (from spacy==3.7.2->-r ../requirements.txt (line 2)) (2.5.1)\n",
      "Requirement already satisfied: jinja2 in /Users/zacperry/Documents/school/cs-524/ChatPI/.venv/lib/python3.11/site-packages (from spacy==3.7.2->-r ../requirements.txt (line 2)) (3.1.2)\n",
      "Requirement already satisfied: setuptools in /Users/zacperry/Documents/school/cs-524/ChatPI/.venv/lib/python3.11/site-packages (from spacy==3.7.2->-r ../requirements.txt (line 2)) (65.5.0)\n",
      "Requirement already satisfied: langcodes<4.0.0,>=3.2.0 in /Users/zacperry/Documents/school/cs-524/ChatPI/.venv/lib/python3.11/site-packages (from spacy==3.7.2->-r ../requirements.txt (line 2)) (3.3.0)\n",
      "Requirement already satisfied: filelock in /Users/zacperry/Documents/school/cs-524/ChatPI/.venv/lib/python3.11/site-packages (from torch==2.1.1->-r ../requirements.txt (line 3)) (3.13.1)\n",
      "Requirement already satisfied: typing-extensions in /Users/zacperry/Documents/school/cs-524/ChatPI/.venv/lib/python3.11/site-packages (from torch==2.1.1->-r ../requirements.txt (line 3)) (4.8.0)\n",
      "Requirement already satisfied: sympy in /Users/zacperry/Documents/school/cs-524/ChatPI/.venv/lib/python3.11/site-packages (from torch==2.1.1->-r ../requirements.txt (line 3)) (1.12)\n",
      "Requirement already satisfied: networkx in /Users/zacperry/Documents/school/cs-524/ChatPI/.venv/lib/python3.11/site-packages (from torch==2.1.1->-r ../requirements.txt (line 3)) (3.2.1)\n",
      "Requirement already satisfied: fsspec in /Users/zacperry/Documents/school/cs-524/ChatPI/.venv/lib/python3.11/site-packages (from torch==2.1.1->-r ../requirements.txt (line 3)) (2023.10.0)\n",
      "Requirement already satisfied: huggingface-hub<1.0,>=0.16.4 in /Users/zacperry/Documents/school/cs-524/ChatPI/.venv/lib/python3.11/site-packages (from transformers==4.35.0->-r ../requirements.txt (line 5)) (0.17.3)\n",
      "Requirement already satisfied: pyyaml>=5.1 in /Users/zacperry/Documents/school/cs-524/ChatPI/.venv/lib/python3.11/site-packages (from transformers==4.35.0->-r ../requirements.txt (line 5)) (6.0.1)\n",
      "Requirement already satisfied: regex!=2019.12.17 in /Users/zacperry/Documents/school/cs-524/ChatPI/.venv/lib/python3.11/site-packages (from transformers==4.35.0->-r ../requirements.txt (line 5)) (2023.10.3)\n",
      "Requirement already satisfied: tokenizers<0.15,>=0.14 in /Users/zacperry/Documents/school/cs-524/ChatPI/.venv/lib/python3.11/site-packages (from transformers==4.35.0->-r ../requirements.txt (line 5)) (0.14.1)\n",
      "Requirement already satisfied: safetensors>=0.3.1 in /Users/zacperry/Documents/school/cs-524/ChatPI/.venv/lib/python3.11/site-packages (from transformers==4.35.0->-r ../requirements.txt (line 5)) (0.4.0)\n",
      "Requirement already satisfied: annotated-types>=0.4.0 in /Users/zacperry/Documents/school/cs-524/ChatPI/.venv/lib/python3.11/site-packages (from pydantic!=1.8,!=1.8.1,<3.0.0,>=1.7.4->spacy==3.7.2->-r ../requirements.txt (line 2)) (0.6.0)\n",
      "Requirement already satisfied: pydantic-core==2.14.3 in /Users/zacperry/Documents/school/cs-524/ChatPI/.venv/lib/python3.11/site-packages (from pydantic!=1.8,!=1.8.1,<3.0.0,>=1.7.4->spacy==3.7.2->-r ../requirements.txt (line 2)) (2.14.3)\n",
      "Requirement already satisfied: six>=1.5 in /Users/zacperry/Documents/school/cs-524/ChatPI/.venv/lib/python3.11/site-packages (from python-dateutil>=2.7->matplotlib==3.8.2->-r ../requirements.txt (line 1)) (1.16.0)\n",
      "Requirement already satisfied: charset-normalizer<4,>=2 in /Users/zacperry/Documents/school/cs-524/ChatPI/.venv/lib/python3.11/site-packages (from requests<3.0.0,>=2.13.0->spacy==3.7.2->-r ../requirements.txt (line 2)) (3.3.2)\n",
      "Requirement already satisfied: idna<4,>=2.5 in /Users/zacperry/Documents/school/cs-524/ChatPI/.venv/lib/python3.11/site-packages (from requests<3.0.0,>=2.13.0->spacy==3.7.2->-r ../requirements.txt (line 2)) (3.4)\n",
      "Requirement already satisfied: urllib3<3,>=1.21.1 in /Users/zacperry/Documents/school/cs-524/ChatPI/.venv/lib/python3.11/site-packages (from requests<3.0.0,>=2.13.0->spacy==3.7.2->-r ../requirements.txt (line 2)) (2.1.0)\n",
      "Requirement already satisfied: certifi>=2017.4.17 in /Users/zacperry/Documents/school/cs-524/ChatPI/.venv/lib/python3.11/site-packages (from requests<3.0.0,>=2.13.0->spacy==3.7.2->-r ../requirements.txt (line 2)) (2023.11.17)\n",
      "Requirement already satisfied: blis<0.8.0,>=0.7.8 in /Users/zacperry/Documents/school/cs-524/ChatPI/.venv/lib/python3.11/site-packages (from thinc<8.3.0,>=8.1.8->spacy==3.7.2->-r ../requirements.txt (line 2)) (0.7.11)\n",
      "Requirement already satisfied: confection<1.0.0,>=0.0.1 in /Users/zacperry/Documents/school/cs-524/ChatPI/.venv/lib/python3.11/site-packages (from thinc<8.3.0,>=8.1.8->spacy==3.7.2->-r ../requirements.txt (line 2)) (0.1.3)\n",
      "Requirement already satisfied: click<9.0.0,>=7.1.1 in /Users/zacperry/Documents/school/cs-524/ChatPI/.venv/lib/python3.11/site-packages (from typer<0.10.0,>=0.3.0->spacy==3.7.2->-r ../requirements.txt (line 2)) (8.1.7)\n",
      "Requirement already satisfied: cloudpathlib<0.17.0,>=0.7.0 in /Users/zacperry/Documents/school/cs-524/ChatPI/.venv/lib/python3.11/site-packages (from weasel<0.4.0,>=0.1.0->spacy==3.7.2->-r ../requirements.txt (line 2)) (0.16.0)\n",
      "Requirement already satisfied: MarkupSafe>=2.0 in /Users/zacperry/Documents/school/cs-524/ChatPI/.venv/lib/python3.11/site-packages (from jinja2->spacy==3.7.2->-r ../requirements.txt (line 2)) (2.1.3)\n",
      "Requirement already satisfied: mpmath>=0.19 in /Users/zacperry/Documents/school/cs-524/ChatPI/.venv/lib/python3.11/site-packages (from sympy->torch==2.1.1->-r ../requirements.txt (line 3)) (1.3.0)\n",
      "The autoreload extension is already loaded. To reload it, use:\n",
      "  %reload_ext autoreload\n"
     ]
    }
   ],
   "source": [
    "!pip3 install -r ../requirements.txt\n",
    "\n",
    "%load_ext autoreload\n",
    "%autoreload 2\n"
   ]
  },
  {
   "cell_type": "code",
   "execution_count": 6,
   "metadata": {},
   "outputs": [],
   "source": [
    "from collections import defaultdict\n",
    "\n",
    "from src import utils\n",
    "from src.summarization import run, run_models\n",
    "import evaluate"
   ]
  },
  {
   "cell_type": "markdown",
   "metadata": {},
   "source": [
    "---\n",
    "---\n",
    "\n",
    "## Experiments & Results\n",
    "\n",
    "Use the same 300-word long sections as in Part 1, but instead of answering the questions about these sections, ask the ChatPI to summarize them for you, using Hugging Face summarization pipeline.\n"
   ]
  },
  {
   "cell_type": "code",
   "execution_count": 7,
   "metadata": {},
   "outputs": [],
   "source": [
    "# TODO: Try out a good selection of models and keep some interesting ones\n",
    "models = [\n",
    "    \"sshleifer/distilbart-cnn-12-6\",\n",
    "    \"slauw87/bart_summarisation\",\n",
    "    \"pszemraj/pegasus-x-large-book-summary\",\n",
    "]\n"
   ]
  },
  {
   "cell_type": "code",
   "execution_count": 20,
   "metadata": {},
   "outputs": [
    {
     "name": "stdout",
     "output_type": "stream",
     "text": [
      "A map is drawn for them by an Englishman named Jonathan Small. You remember that we saw the name upon the chart in Captain Morstan's possession. He had signed it in behalf of himself and his associates,-the sign of the four, as he somewhat dramatically called it. Aided by this chart, the officers-or one of them-gets the treasure and brings it to England, leaving, we will suppose, some condition under which he received it unfulfilled. Now, then, why did not Jonathan Small get the treasure himself? The answer is obvious. The chart is dated at a time when Morstan was brought into close association with convicts. Jonathan Small did not get the treasure because he and his associates were themselves convicts and could not get away.\" \"But that is mere speculation,\" said I. \"It is more than that. It is the only hypothesis which covers the facts. Let us see how it fits in with the sequel. Major Sholto remains at peace for some years, happy in the possession of his treasure. Then he receives a letter from India which gives him a great fright. What was that?\" \"A letter to say that the men whom he had wronged had been set free.\" \"Or had escaped. That is much more likely, for he would have known what their term of imprisonment was. It would not have been a surprise to him. What does he do then? He guards himself against a wooden-legged man,-a white man, mark you, for he mistakes a white tradesman for him, and actually fires a pistol at him. Now, only one white man's name is on the chart. The others are Hindoos or Mohammedans. There is no other white man. Therefore we may say with confidence that the wooden-legged man is identical with Jonathan Small. Does\n",
      "------------------------------\n",
      "map drawn Englishman named Jonathan Small remember saw chart Captain Morstan possession signed behalf associates,-the sign somewhat dramatically called Aided chart officers gets treasure brings England leaving suppose condition received unfulfilled Jonathan Small treasure answer obvious chart dated time Morstan brought close association convicts Jonathan Small treasure associates convicts away mere speculation said I. hypothesis covers facts Let fits sequel Major Sholto remains peace years happy possession treasure receives letter India gives great fright letter men wronged set free escaped likely known term imprisonment surprise guards wooden legged man,-a white man mark mistakes white tradesman actually fires pistol white man chart Hindoos Mohammedans white man confidence wooden legged man identical Jonathan Small\n"
     ]
    },
    {
     "name": "stderr",
     "output_type": "stream",
     "text": [
      "[nltk_data] Downloading package wordnet to\n",
      "[nltk_data]     /Users/zacperry/nltk_data...\n",
      "[nltk_data]   Package wordnet is already up-to-date!\n",
      "[nltk_data] Downloading package punkt to /Users/zacperry/nltk_data...\n",
      "[nltk_data]   Package punkt is already up-to-date!\n",
      "[nltk_data] Downloading package omw-1.4 to\n",
      "[nltk_data]     /Users/zacperry/nltk_data...\n",
      "[nltk_data]   Package omw-1.4 is already up-to-date!\n"
     ]
    },
    {
     "name": "stdout",
     "output_type": "stream",
     "text": [
      "{'meteor': 0.24852717886425751}\n",
      "------------------------------\n",
      "{'meteor': 0.20632194253285413}\n"
     ]
    },
    {
     "name": "stderr",
     "output_type": "stream",
     "text": [
      "[nltk_data] Downloading package wordnet to\n",
      "[nltk_data]     /Users/zacperry/nltk_data...\n",
      "[nltk_data]   Package wordnet is already up-to-date!\n",
      "[nltk_data] Downloading package punkt to /Users/zacperry/nltk_data...\n",
      "[nltk_data]   Package punkt is already up-to-date!\n",
      "[nltk_data] Downloading package omw-1.4 to\n",
      "[nltk_data]     /Users/zacperry/nltk_data...\n",
      "[nltk_data]   Package omw-1.4 is already up-to-date!\n"
     ]
    }
   ],
   "source": [
    "\"\"\"\n",
    "Rouge1: unigram (1-gram) based scoring\n",
    "Rouge2: bigram (2-gram) based scoring\n",
    "RougeL: ROUGE-L measures the longest common subsequence between the generated summary and the reference summary.\n",
    "RougeLsum: splits text using \\n\n",
    "\n",
    "---- ROUGE is Punctuation invariant, whitespace invariant, removing stopwords does drastically affect the score\n",
    "---- ChatGPT got a low score whcih is interesting\n",
    "\"\"\"\n",
    "\n",
    "\n",
    "import spacy\n",
    "from spacy.cli import download\n",
    "from src import utils\n",
    "\n",
    "ctx = \"../sections/resolution.0.md\"\n",
    "text = \"\"\n",
    "\n",
    "with open(ctx, \"r\") as f:\n",
    "    text = f.read().strip()\n",
    "print(text)\n",
    "print(\"---\" * 10)\n",
    "\n",
    "    \n",
    "file = \"en_core_web_lg\"\n",
    "if not spacy.util.is_package(file):\n",
    "    download(file)\n",
    "nlp = spacy.load(file)\n",
    "\n",
    "\n",
    "doc1 = nlp(text)\n",
    "# doc1 = [t for t in doc1 if not t.is_stop and not t.is_punct]\n",
    "doc1 = [t for t in doc1 if not t.is_stop and not t.is_punct]\n",
    "text_proc = \" \".join([t.text for t in doc1])\n",
    "print(text_proc)\n",
    "\n",
    "# _, scores = run_models(text, models=models, expected_answer=text, score_type=\"rouge\")\n",
    "\n",
    "\n",
    "# s = utils.get_summarization_score(text_proc, text, \"bertscore\", model_type=\"distilbert-base-uncased\")\n",
    "# s = utils.get_summarization_score(text_proc, text, \"meteor\")\n",
    "\n",
    "\n",
    "text_proc = \"\"\"\n",
    "In this passage from Sir Arthur Conan Doyle's \"The Sign of Four,\" Sherlock Holmes deduces the connection between the treasure, the convicts, and Major Sholto. Jonathan Small, an Englishman associated with convicts, drew a map for the treasure, signed as the \"sign of the four,\" but couldn't retrieve it because he and his associates were convicts themselves. Major Sholto, in possession of the treasure, receives a letter informing him that the men he wronged had been set free or escaped. Fearing retribution, he becomes paranoid, mistaking a white tradesman for a wooden-legged man, whom Holmes deduces is Jonathan Small. The passage connects the treasure, convicts, and Sholto's fear of revenge, linking Small's pursuit of the treasure with Sholto's resulting paranoia and defensive actions.\n",
    "\"\"\"\n",
    "print(\"---\" * 10)\n",
    "\n",
    "\n",
    "# s = utils.get_summarization_score(text_proc, text, \"bertscore\", model_type=\"distilbert-base-uncased\")\n",
    "# s = utils.get_summarization_score(text_proc, text, \"meteor\")"
   ]
  }
 ],
 "metadata": {
  "kernelspec": {
   "display_name": "Python 3.11.5 ('.venv': venv)",
   "language": "python",
   "name": "python3"
  },
  "language_info": {
   "codemirror_mode": {
    "name": "ipython",
    "version": 3
   },
   "file_extension": ".py",
   "mimetype": "text/x-python",
   "name": "python",
   "nbconvert_exporter": "python",
   "pygments_lexer": "ipython3",
   "version": "3.11.5"
  },
  "vscode": {
   "interpreter": {
    "hash": "e22577b96ae4292ce4f56ac62ee5d572607fd90aee9aa8e67f8a1f5a6d69949d"
   }
  }
 },
 "nbformat": 4,
 "nbformat_minor": 2
}
