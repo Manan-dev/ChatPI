{
 "cells": [
  {
   "cell_type": "markdown",
   "metadata": {},
   "source": [
    "# Part 3 - Summarization\n",
    "\n",
    "For Part 3, use the same 300-word long sections as in Part 1, but instead of answering the questions about these sections, ask the ChatPI to summarize them for you, using Hugging Face summarization pipeline.\n",
    "\n",
    "Part 3.2 -- use two different HF summarization models: use the default summarization pipeline, then use other models of choice and discuss the differences in the result.\n",
    "\n",
    "https://huggingface.co/docs/transformers/main_classes/pipelines\n",
    "\n",
    "https://huggingface.co/docs/transformers/v4.35.0/en/main_classes/pipelines#transformers.SummarizationPipeline\n"
   ]
  },
  {
   "cell_type": "code",
   "execution_count": null,
   "metadata": {},
   "outputs": [],
   "source": [
    "!pip3 install -r ../requirements.txt\n",
    "\n",
    "%load_ext autoreload\n",
    "%autoreload 2\n"
   ]
  },
  {
   "cell_type": "code",
   "execution_count": 10,
   "metadata": {},
   "outputs": [],
   "source": [
    "from collections import defaultdict\n",
    "\n",
    "from src import utils\n",
    "from src.summarization import run, run_models\n",
    "import evaluate\n",
    "\n",
    "import spacy\n",
    "from spacy.cli import download\n",
    "import csv\n",
    "import os"
   ]
  },
  {
   "cell_type": "markdown",
   "metadata": {},
   "source": [
    "---\n",
    "---\n",
    "\n",
    "## Experiments & Results\n",
    "\n",
    "Use the same 300-word long sections as in Part 1, but instead of answering the questions about these sections, ask the ChatPI to summarize them for you, using Hugging Face summarization pipeline.\n"
   ]
  },
  {
   "cell_type": "code",
   "execution_count": 11,
   "metadata": {},
   "outputs": [],
   "source": [
    "models = [\n",
    "    \"sshleifer/distilbart-cnn-12-6\",\n",
    "    \"slauw87/bart_summarisation\",\n",
    "    \"pszemraj/pegasus-x-large-book-summary\",\n",
    "]\n",
    "\n",
    "score_metrics = [\n",
    "    \"rouge\", \n",
    "    \"bleu\",\n",
    "    \"bertscore\",\n",
    "    \"spacy_sim\",\n",
    "]\n",
    "\n",
    "\n",
    "rouge_metric_data = [\"rouge1\", \"rouge2\", \"rougeL\", \"rougeLsum\"]\n",
    "bleu_metric_data = [\"bleu\", \"precisions\", \"brevity_penalty\", \"length_ratio\", \"translation_length\", \"reference_length\"]\n",
    "bert_metric_data = [\"precision\", \"recall\", \"f1\", \"hashcode\"]\n",
    "\n"
   ]
  },
  {
   "cell_type": "code",
   "execution_count": 12,
   "metadata": {},
   "outputs": [
    {
     "name": "stdout",
     "output_type": "stream",
     "text": [
      "Found: ['protagonist.0.md', 'protagonist.qa.md']\n",
      "################################################################################\n",
      "################################################################################\n",
      "Sherlock Holmes took his bottle from the corner of the mantel-piece and his hypodermic syringe from its neat morocco case. With his long, white, nervous fingers he adjusted the delicate needle, and rolled back his left shirt-cuff. For some little time his eyes rested thoughtfully upon the sinewy forearm and wrist all dotted and scarred with innumerable puncture-marks. Finally he thrust the sharp point home, pressed down the tiny piston, and sank back into the velvet-lined arm-chair with a long sigh of satisfaction. Three times a day for many months I had witnessed this performance, but custom had not reconciled my mind to it. On the contrary, from day to day I had become more irritable at the sight, and my conscience swelled nightly within me at the thought that I had lacked the courage to protest. Again and again I had registered a vow that I should deliver my soul upon the subject, but there was that in the cool, nonchalant air of my companion which made him the last man with whom one would care to take anything approaching to a liberty. His great powers, his masterly manner, and the experience which I had had of his many extraordinary qualities, all made me diffident and backward in crossing him. Yet upon that afternoon, whether it was the Beaune which I had taken with my lunch, or the additional exasperation produced by the extreme deliberation of his manner, I suddenly felt that I could hold out no longer. \"Which is it to-day?\" I asked,-\"morphine or cocaine?\" He raised his eyes languidly from the old black-letter volume which he had opened. \"It is cocaine,\" he said,-\"a seven-per-cent. solution. Would you care to try it?\" \"No, indeed,\" I answered, brusquely. \"My constitution has not got over the Afghan campaign yet. I\n",
      "--------------------------------------------------------------------------------\n",
      "> Sherlock Holmes took his bottle from the corner of the mantel-piece and his hypodermic syringe from its neat morocco case. With his long, white, nervous fingers he adjusted the delicate needle, and rolled back his left shirt-cuff. For some little time his eyes rested thoughtfully upon the sinewy forearm and wrist all dotted and scarred with innumerable puncture-marks. Finally he thrust the sharp point home, pressed down the tiny piston, and sank back into the velvet-lined arm-chair with a long sigh of satisfaction. Three times a day for many months I had witnessed this performance, but custom had not reconciled my mind to it. On the contrary, from day to day I had become more irritable at the sight, and my conscience swelled nightly within me at the thought that I had lacked the courage to protest. Again and again I had registered a vow that I should deliver my soul upon the subject, but there was that in the cool, nonchalant air of my companion which made him the last man with whom one would care to take anything approaching to a liberty. His great powers, his masterly manner, and the experience which I had had of his many extraordinary qualities, all made me diffident and backward in crossing him. Yet upon that afternoon, whether it was the Beaune which I had taken with my lunch, or the additional exasperation produced by the extreme deliberation of his manner, I suddenly felt that I could hold out no longer. \"Which is it to-day?\" I asked,-\"morphine or cocaine?\" He raised his eyes languidly from the old black-letter volume which he had opened. \"It is cocaine,\" he said,-\"a seven-per-cent. solution. Would you care to try it?\" \"No, indeed,\" I answered, brusquely. \"My constitution has not got over the Afghan campaign yet. I\n",
      "> Holmes took his bottle from the corner of the mantel-piece and his hypodermic syringe from its neat morocco case . Holmes took the needle home, thrust the sharp point home, pressed down the tiny piston, and sank back into the velvet-lined arm-chair with a long sigh of satisfaction . Three times a day for many months I had witnessed this performance, but custom had not reconciled my mind to it .\n",
      "--------------------------------------------------------------------------------\n",
      "> Sherlock Holmes took his bottle from the corner of the mantel-piece and his hypodermic syringe from its neat morocco case. With his long, white, nervous fingers he adjusted the delicate needle, and rolled back his left shirt-cuff. For some little time his eyes rested thoughtfully upon the sinewy forearm and wrist all dotted and scarred with innumerable puncture-marks. Finally he thrust the sharp point home, pressed down the tiny piston, and sank back into the velvet-lined arm-chair with a long sigh of satisfaction. Three times a day for many months I had witnessed this performance, but custom had not reconciled my mind to it. On the contrary, from day to day I had become more irritable at the sight, and my conscience swelled nightly within me at the thought that I had lacked the courage to protest. Again and again I had registered a vow that I should deliver my soul upon the subject, but there was that in the cool, nonchalant air of my companion which made him the last man with whom one would care to take anything approaching to a liberty. His great powers, his masterly manner, and the experience which I had had of his many extraordinary qualities, all made me diffident and backward in crossing him. Yet upon that afternoon, whether it was the Beaune which I had taken with my lunch, or the additional exasperation produced by the extreme deliberation of his manner, I suddenly felt that I could hold out no longer. \"Which is it to-day?\" I asked,-\"morphine or cocaine?\" He raised his eyes languidly from the old black-letter volume which he had opened. \"It is cocaine,\" he said,-\"a seven-per-cent. solution. Would you care to try it?\" \"No, indeed,\" I answered, brusquely. \"My constitution has not got over the Afghan campaign yet. I\n",
      "> Sherlock Holmes took his bottle from the corner of the mantel-piece and his hypodermic syringe from its neat morocco case. Three times a day for many months he used the syringe. Holmes is addicted to cocaine. Holmes doesn't want to try it as his constitution has not got over the Afghan campaign yet.\n",
      "--------------------------------------------------------------------------------\n"
     ]
    },
    {
     "name": "stderr",
     "output_type": "stream",
     "text": [
      "Your max_length is set to 512, but your input_length is only 382. Since this is a summarization task, where outputs shorter than the input are typically wanted, you might consider decreasing max_length manually, e.g. summarizer('...', max_length=191)\n"
     ]
    },
    {
     "name": "stdout",
     "output_type": "stream",
     "text": [
      "> Sherlock Holmes took his bottle from the corner of the mantel-piece and his hypodermic syringe from its neat morocco case. With his long, white, nervous fingers he adjusted the delicate needle, and rolled back his left shirt-cuff. For some little time his eyes rested thoughtfully upon the sinewy forearm and wrist all dotted and scarred with innumerable puncture-marks. Finally he thrust the sharp point home, pressed down the tiny piston, and sank back into the velvet-lined arm-chair with a long sigh of satisfaction. Three times a day for many months I had witnessed this performance, but custom had not reconciled my mind to it. On the contrary, from day to day I had become more irritable at the sight, and my conscience swelled nightly within me at the thought that I had lacked the courage to protest. Again and again I had registered a vow that I should deliver my soul upon the subject, but there was that in the cool, nonchalant air of my companion which made him the last man with whom one would care to take anything approaching to a liberty. His great powers, his masterly manner, and the experience which I had had of his many extraordinary qualities, all made me diffident and backward in crossing him. Yet upon that afternoon, whether it was the Beaune which I had taken with my lunch, or the additional exasperation produced by the extreme deliberation of his manner, I suddenly felt that I could hold out no longer. \"Which is it to-day?\" I asked,-\"morphine or cocaine?\" He raised his eyes languidly from the old black-letter volume which he had opened. \"It is cocaine,\" he said,-\"a seven-per-cent. solution. Would you care to try it?\" \"No, indeed,\" I answered, brusquely. \"My constitution has not got over the Afghan campaign yet. I\n",
      "> Holmes takes his bottle of morphine and his syringe and carefully places the needle into his arm chair. For some time, Holmes stares at the scar on his wrist and forearm. He then thrusts the needle back into the chair and sighs of satisfaction. For the past few months, Watson has watched Holmes perform this routine three times a day, but he has grown increasingly irritable with the sight and his conscience swells with the thought that he lacks the courage to express his disapproval. He had vowed to do so, but Holmes' cool, nonchalant manner made him the only man who would care to do anything approaching a liberty. Watson asks Holmes if he would like to try morphine or cocaine. Holmes says that it is a seven-cent solution. Watson says that his constitution has not yet healed from the war in Afghanistan.\n",
      "--------------------------------------------------------------------------------\n",
      "> Sherlock Holmes took his bottle from the corner of the mantel-piece and his hypodermic syringe from its neat morocco case. With his long, white, nervous fingers he adjusted the delicate needle, and rolled back his left shirt-cuff. For some little time his eyes rested thoughtfully upon the sinewy forearm and wrist all dotted and scarred with innumerable puncture-marks. Finally he thrust the sharp point home, pressed down the tiny piston, and sank back into the velvet-lined arm-chair with a long sigh of satisfaction. Three times a day for many months I had witnessed this performance, but custom had not reconciled my mind to it. On the contrary, from day to day I had become more irritable at the sight, and my conscience swelled nightly within me at the thought that I had lacked the courage to protest. Again and again I had registered a vow that I should deliver my soul upon the subject, but there was that in the cool, nonchalant air of my companion which made him the last man with whom one would care to take anything approaching to a liberty. His great powers, his masterly manner, and the experience which I had had of his many extraordinary qualities, all made me diffident and backward in crossing him. Yet upon that afternoon, whether it was the Beaune which I had taken with my lunch, or the additional exasperation produced by the extreme deliberation of his manner, I suddenly felt that I could hold out no longer. \"Which is it to-day?\" I asked,-\"morphine or cocaine?\" He raised his eyes languidly from the old black-letter volume which he had opened. \"It is cocaine,\" he said,-\"a seven-per-cent. solution. Would you care to try it?\" \"No, indeed,\" I answered, brusquely. \"My constitution has not got over the Afghan campaign yet. I\n",
      "> Holmes took his bottle from the corner of the mantel-piece and his hypodermic syringe from its neat morocco case . Holmes took the needle home, thrust the sharp point home, pressed down the tiny piston, and sank back into the velvet-lined arm-chair with a long sigh of satisfaction . Three times a day for many months I had witnessed this performance, but custom had not reconciled my mind to it .\n",
      "--------------------------------------------------------------------------------\n",
      "> Sherlock Holmes took his bottle from the corner of the mantel-piece and his hypodermic syringe from its neat morocco case. With his long, white, nervous fingers he adjusted the delicate needle, and rolled back his left shirt-cuff. For some little time his eyes rested thoughtfully upon the sinewy forearm and wrist all dotted and scarred with innumerable puncture-marks. Finally he thrust the sharp point home, pressed down the tiny piston, and sank back into the velvet-lined arm-chair with a long sigh of satisfaction. Three times a day for many months I had witnessed this performance, but custom had not reconciled my mind to it. On the contrary, from day to day I had become more irritable at the sight, and my conscience swelled nightly within me at the thought that I had lacked the courage to protest. Again and again I had registered a vow that I should deliver my soul upon the subject, but there was that in the cool, nonchalant air of my companion which made him the last man with whom one would care to take anything approaching to a liberty. His great powers, his masterly manner, and the experience which I had had of his many extraordinary qualities, all made me diffident and backward in crossing him. Yet upon that afternoon, whether it was the Beaune which I had taken with my lunch, or the additional exasperation produced by the extreme deliberation of his manner, I suddenly felt that I could hold out no longer. \"Which is it to-day?\" I asked,-\"morphine or cocaine?\" He raised his eyes languidly from the old black-letter volume which he had opened. \"It is cocaine,\" he said,-\"a seven-per-cent. solution. Would you care to try it?\" \"No, indeed,\" I answered, brusquely. \"My constitution has not got over the Afghan campaign yet. I\n",
      "> Sherlock Holmes took his bottle from the corner of the mantel-piece and his hypodermic syringe from its neat morocco case. Three times a day for many months he used the syringe. Holmes is addicted to cocaine. Holmes doesn't want to try it as his constitution has not got over the Afghan campaign yet.\n",
      "--------------------------------------------------------------------------------\n"
     ]
    },
    {
     "name": "stderr",
     "output_type": "stream",
     "text": [
      "Your max_length is set to 512, but your input_length is only 382. Since this is a summarization task, where outputs shorter than the input are typically wanted, you might consider decreasing max_length manually, e.g. summarizer('...', max_length=191)\n"
     ]
    },
    {
     "name": "stdout",
     "output_type": "stream",
     "text": [
      "> Sherlock Holmes took his bottle from the corner of the mantel-piece and his hypodermic syringe from its neat morocco case. With his long, white, nervous fingers he adjusted the delicate needle, and rolled back his left shirt-cuff. For some little time his eyes rested thoughtfully upon the sinewy forearm and wrist all dotted and scarred with innumerable puncture-marks. Finally he thrust the sharp point home, pressed down the tiny piston, and sank back into the velvet-lined arm-chair with a long sigh of satisfaction. Three times a day for many months I had witnessed this performance, but custom had not reconciled my mind to it. On the contrary, from day to day I had become more irritable at the sight, and my conscience swelled nightly within me at the thought that I had lacked the courage to protest. Again and again I had registered a vow that I should deliver my soul upon the subject, but there was that in the cool, nonchalant air of my companion which made him the last man with whom one would care to take anything approaching to a liberty. His great powers, his masterly manner, and the experience which I had had of his many extraordinary qualities, all made me diffident and backward in crossing him. Yet upon that afternoon, whether it was the Beaune which I had taken with my lunch, or the additional exasperation produced by the extreme deliberation of his manner, I suddenly felt that I could hold out no longer. \"Which is it to-day?\" I asked,-\"morphine or cocaine?\" He raised his eyes languidly from the old black-letter volume which he had opened. \"It is cocaine,\" he said,-\"a seven-per-cent. solution. Would you care to try it?\" \"No, indeed,\" I answered, brusquely. \"My constitution has not got over the Afghan campaign yet. I\n",
      "> Holmes takes his bottle of morphine and his syringe and carefully places the needle into his arm chair. For some time, Holmes stares at the scar on his wrist and forearm. He then thrusts the needle back into the chair and sighs of satisfaction. For the past few months, Watson has watched Holmes perform this routine three times a day, but he has grown increasingly irritable with the sight and his conscience swells with the thought that he lacks the courage to express his disapproval. He had vowed to do so, but Holmes' cool, nonchalant manner made him the only man who would care to do anything approaching a liberty. Watson asks Holmes if he would like to try morphine or cocaine. Holmes says that it is a seven-cent solution. Watson says that his constitution has not yet healed from the war in Afghanistan.\n",
      "--------------------------------------------------------------------------------\n",
      "> Sherlock Holmes took his bottle from the corner of the mantel-piece and his hypodermic syringe from its neat morocco case. With his long, white, nervous fingers he adjusted the delicate needle, and rolled back his left shirt-cuff. For some little time his eyes rested thoughtfully upon the sinewy forearm and wrist all dotted and scarred with innumerable puncture-marks. Finally he thrust the sharp point home, pressed down the tiny piston, and sank back into the velvet-lined arm-chair with a long sigh of satisfaction. Three times a day for many months I had witnessed this performance, but custom had not reconciled my mind to it. On the contrary, from day to day I had become more irritable at the sight, and my conscience swelled nightly within me at the thought that I had lacked the courage to protest. Again and again I had registered a vow that I should deliver my soul upon the subject, but there was that in the cool, nonchalant air of my companion which made him the last man with whom one would care to take anything approaching to a liberty. His great powers, his masterly manner, and the experience which I had had of his many extraordinary qualities, all made me diffident and backward in crossing him. Yet upon that afternoon, whether it was the Beaune which I had taken with my lunch, or the additional exasperation produced by the extreme deliberation of his manner, I suddenly felt that I could hold out no longer. \"Which is it to-day?\" I asked,-\"morphine or cocaine?\" He raised his eyes languidly from the old black-letter volume which he had opened. \"It is cocaine,\" he said,-\"a seven-per-cent. solution. Would you care to try it?\" \"No, indeed,\" I answered, brusquely. \"My constitution has not got over the Afghan campaign yet. I\n",
      "> Holmes took his bottle from the corner of the mantel-piece and his hypodermic syringe from its neat morocco case . Holmes took the needle home, thrust the sharp point home, pressed down the tiny piston, and sank back into the velvet-lined arm-chair with a long sigh of satisfaction . Three times a day for many months I had witnessed this performance, but custom had not reconciled my mind to it .\n"
     ]
    },
    {
     "name": "stderr",
     "output_type": "stream",
     "text": [
      "Some weights of RobertaModel were not initialized from the model checkpoint at roberta-large and are newly initialized: ['roberta.pooler.dense.bias', 'roberta.pooler.dense.weight']\n",
      "You should probably TRAIN this model on a down-stream task to be able to use it for predictions and inference.\n"
     ]
    },
    {
     "name": "stdout",
     "output_type": "stream",
     "text": [
      "--------------------------------------------------------------------------------\n",
      "> Sherlock Holmes took his bottle from the corner of the mantel-piece and his hypodermic syringe from its neat morocco case. With his long, white, nervous fingers he adjusted the delicate needle, and rolled back his left shirt-cuff. For some little time his eyes rested thoughtfully upon the sinewy forearm and wrist all dotted and scarred with innumerable puncture-marks. Finally he thrust the sharp point home, pressed down the tiny piston, and sank back into the velvet-lined arm-chair with a long sigh of satisfaction. Three times a day for many months I had witnessed this performance, but custom had not reconciled my mind to it. On the contrary, from day to day I had become more irritable at the sight, and my conscience swelled nightly within me at the thought that I had lacked the courage to protest. Again and again I had registered a vow that I should deliver my soul upon the subject, but there was that in the cool, nonchalant air of my companion which made him the last man with whom one would care to take anything approaching to a liberty. His great powers, his masterly manner, and the experience which I had had of his many extraordinary qualities, all made me diffident and backward in crossing him. Yet upon that afternoon, whether it was the Beaune which I had taken with my lunch, or the additional exasperation produced by the extreme deliberation of his manner, I suddenly felt that I could hold out no longer. \"Which is it to-day?\" I asked,-\"morphine or cocaine?\" He raised his eyes languidly from the old black-letter volume which he had opened. \"It is cocaine,\" he said,-\"a seven-per-cent. solution. Would you care to try it?\" \"No, indeed,\" I answered, brusquely. \"My constitution has not got over the Afghan campaign yet. I\n",
      "> Sherlock Holmes took his bottle from the corner of the mantel-piece and his hypodermic syringe from its neat morocco case. Three times a day for many months he used the syringe. Holmes is addicted to cocaine. Holmes doesn't want to try it as his constitution has not got over the Afghan campaign yet.\n"
     ]
    },
    {
     "name": "stderr",
     "output_type": "stream",
     "text": [
      "Some weights of RobertaModel were not initialized from the model checkpoint at roberta-large and are newly initialized: ['roberta.pooler.dense.bias', 'roberta.pooler.dense.weight']\n",
      "You should probably TRAIN this model on a down-stream task to be able to use it for predictions and inference.\n"
     ]
    },
    {
     "name": "stdout",
     "output_type": "stream",
     "text": [
      "--------------------------------------------------------------------------------\n"
     ]
    },
    {
     "name": "stderr",
     "output_type": "stream",
     "text": [
      "Your max_length is set to 512, but your input_length is only 382. Since this is a summarization task, where outputs shorter than the input are typically wanted, you might consider decreasing max_length manually, e.g. summarizer('...', max_length=191)\n"
     ]
    },
    {
     "name": "stdout",
     "output_type": "stream",
     "text": [
      "> Sherlock Holmes took his bottle from the corner of the mantel-piece and his hypodermic syringe from its neat morocco case. With his long, white, nervous fingers he adjusted the delicate needle, and rolled back his left shirt-cuff. For some little time his eyes rested thoughtfully upon the sinewy forearm and wrist all dotted and scarred with innumerable puncture-marks. Finally he thrust the sharp point home, pressed down the tiny piston, and sank back into the velvet-lined arm-chair with a long sigh of satisfaction. Three times a day for many months I had witnessed this performance, but custom had not reconciled my mind to it. On the contrary, from day to day I had become more irritable at the sight, and my conscience swelled nightly within me at the thought that I had lacked the courage to protest. Again and again I had registered a vow that I should deliver my soul upon the subject, but there was that in the cool, nonchalant air of my companion which made him the last man with whom one would care to take anything approaching to a liberty. His great powers, his masterly manner, and the experience which I had had of his many extraordinary qualities, all made me diffident and backward in crossing him. Yet upon that afternoon, whether it was the Beaune which I had taken with my lunch, or the additional exasperation produced by the extreme deliberation of his manner, I suddenly felt that I could hold out no longer. \"Which is it to-day?\" I asked,-\"morphine or cocaine?\" He raised his eyes languidly from the old black-letter volume which he had opened. \"It is cocaine,\" he said,-\"a seven-per-cent. solution. Would you care to try it?\" \"No, indeed,\" I answered, brusquely. \"My constitution has not got over the Afghan campaign yet. I\n",
      "> Holmes takes his bottle of morphine and his syringe and carefully places the needle into his arm chair. For some time, Holmes stares at the scar on his wrist and forearm. He then thrusts the needle back into the chair and sighs of satisfaction. For the past few months, Watson has watched Holmes perform this routine three times a day, but he has grown increasingly irritable with the sight and his conscience swells with the thought that he lacks the courage to express his disapproval. He had vowed to do so, but Holmes' cool, nonchalant manner made him the only man who would care to do anything approaching a liberty. Watson asks Holmes if he would like to try morphine or cocaine. Holmes says that it is a seven-cent solution. Watson says that his constitution has not yet healed from the war in Afghanistan.\n"
     ]
    },
    {
     "name": "stderr",
     "output_type": "stream",
     "text": [
      "Some weights of RobertaModel were not initialized from the model checkpoint at roberta-large and are newly initialized: ['roberta.pooler.dense.bias', 'roberta.pooler.dense.weight']\n",
      "You should probably TRAIN this model on a down-stream task to be able to use it for predictions and inference.\n"
     ]
    },
    {
     "name": "stdout",
     "output_type": "stream",
     "text": [
      "--------------------------------------------------------------------------------\n",
      "> Sherlock Holmes took his bottle from the corner of the mantel-piece and his hypodermic syringe from its neat morocco case. With his long, white, nervous fingers he adjusted the delicate needle, and rolled back his left shirt-cuff. For some little time his eyes rested thoughtfully upon the sinewy forearm and wrist all dotted and scarred with innumerable puncture-marks. Finally he thrust the sharp point home, pressed down the tiny piston, and sank back into the velvet-lined arm-chair with a long sigh of satisfaction. Three times a day for many months I had witnessed this performance, but custom had not reconciled my mind to it. On the contrary, from day to day I had become more irritable at the sight, and my conscience swelled nightly within me at the thought that I had lacked the courage to protest. Again and again I had registered a vow that I should deliver my soul upon the subject, but there was that in the cool, nonchalant air of my companion which made him the last man with whom one would care to take anything approaching to a liberty. His great powers, his masterly manner, and the experience which I had had of his many extraordinary qualities, all made me diffident and backward in crossing him. Yet upon that afternoon, whether it was the Beaune which I had taken with my lunch, or the additional exasperation produced by the extreme deliberation of his manner, I suddenly felt that I could hold out no longer. \"Which is it to-day?\" I asked,-\"morphine or cocaine?\" He raised his eyes languidly from the old black-letter volume which he had opened. \"It is cocaine,\" he said,-\"a seven-per-cent. solution. Would you care to try it?\" \"No, indeed,\" I answered, brusquely. \"My constitution has not got over the Afghan campaign yet. I\n",
      "> Holmes took his bottle from the corner of the mantel-piece and his hypodermic syringe from its neat morocco case . Holmes took the needle home, thrust the sharp point home, pressed down the tiny piston, and sank back into the velvet-lined arm-chair with a long sigh of satisfaction . Three times a day for many months I had witnessed this performance, but custom had not reconciled my mind to it .\n",
      "--------------------------------------------------------------------------------\n",
      "> Sherlock Holmes took his bottle from the corner of the mantel-piece and his hypodermic syringe from its neat morocco case. With his long, white, nervous fingers he adjusted the delicate needle, and rolled back his left shirt-cuff. For some little time his eyes rested thoughtfully upon the sinewy forearm and wrist all dotted and scarred with innumerable puncture-marks. Finally he thrust the sharp point home, pressed down the tiny piston, and sank back into the velvet-lined arm-chair with a long sigh of satisfaction. Three times a day for many months I had witnessed this performance, but custom had not reconciled my mind to it. On the contrary, from day to day I had become more irritable at the sight, and my conscience swelled nightly within me at the thought that I had lacked the courage to protest. Again and again I had registered a vow that I should deliver my soul upon the subject, but there was that in the cool, nonchalant air of my companion which made him the last man with whom one would care to take anything approaching to a liberty. His great powers, his masterly manner, and the experience which I had had of his many extraordinary qualities, all made me diffident and backward in crossing him. Yet upon that afternoon, whether it was the Beaune which I had taken with my lunch, or the additional exasperation produced by the extreme deliberation of his manner, I suddenly felt that I could hold out no longer. \"Which is it to-day?\" I asked,-\"morphine or cocaine?\" He raised his eyes languidly from the old black-letter volume which he had opened. \"It is cocaine,\" he said,-\"a seven-per-cent. solution. Would you care to try it?\" \"No, indeed,\" I answered, brusquely. \"My constitution has not got over the Afghan campaign yet. I\n",
      "> Sherlock Holmes took his bottle from the corner of the mantel-piece and his hypodermic syringe from its neat morocco case. Three times a day for many months he used the syringe. Holmes is addicted to cocaine. Holmes doesn't want to try it as his constitution has not got over the Afghan campaign yet.\n",
      "--------------------------------------------------------------------------------\n"
     ]
    },
    {
     "name": "stderr",
     "output_type": "stream",
     "text": [
      "Your max_length is set to 512, but your input_length is only 382. Since this is a summarization task, where outputs shorter than the input are typically wanted, you might consider decreasing max_length manually, e.g. summarizer('...', max_length=191)\n"
     ]
    },
    {
     "name": "stdout",
     "output_type": "stream",
     "text": [
      "> Sherlock Holmes took his bottle from the corner of the mantel-piece and his hypodermic syringe from its neat morocco case. With his long, white, nervous fingers he adjusted the delicate needle, and rolled back his left shirt-cuff. For some little time his eyes rested thoughtfully upon the sinewy forearm and wrist all dotted and scarred with innumerable puncture-marks. Finally he thrust the sharp point home, pressed down the tiny piston, and sank back into the velvet-lined arm-chair with a long sigh of satisfaction. Three times a day for many months I had witnessed this performance, but custom had not reconciled my mind to it. On the contrary, from day to day I had become more irritable at the sight, and my conscience swelled nightly within me at the thought that I had lacked the courage to protest. Again and again I had registered a vow that I should deliver my soul upon the subject, but there was that in the cool, nonchalant air of my companion which made him the last man with whom one would care to take anything approaching to a liberty. His great powers, his masterly manner, and the experience which I had had of his many extraordinary qualities, all made me diffident and backward in crossing him. Yet upon that afternoon, whether it was the Beaune which I had taken with my lunch, or the additional exasperation produced by the extreme deliberation of his manner, I suddenly felt that I could hold out no longer. \"Which is it to-day?\" I asked,-\"morphine or cocaine?\" He raised his eyes languidly from the old black-letter volume which he had opened. \"It is cocaine,\" he said,-\"a seven-per-cent. solution. Would you care to try it?\" \"No, indeed,\" I answered, brusquely. \"My constitution has not got over the Afghan campaign yet. I\n",
      "> Holmes takes his bottle of morphine and his syringe and carefully places the needle into his arm chair. For some time, Holmes stares at the scar on his wrist and forearm. He then thrusts the needle back into the chair and sighs of satisfaction. For the past few months, Watson has watched Holmes perform this routine three times a day, but he has grown increasingly irritable with the sight and his conscience swells with the thought that he lacks the courage to express his disapproval. He had vowed to do so, but Holmes' cool, nonchalant manner made him the only man who would care to do anything approaching a liberty. Watson asks Holmes if he would like to try morphine or cocaine. Holmes says that it is a seven-cent solution. Watson says that his constitution has not yet healed from the war in Afghanistan.\n",
      "Found: ['antagonist.0.md', 'antagonist.qa.md']\n",
      "################################################################################\n",
      "################################################################################\n",
      "His name, I have every reason to believe, is Jonathan Small. He is a poorly-educated man, small, active, with his right leg off, and wearing a wooden stump which is worn away upon the inner side. His left boot has a coarse, square-toed sole, with an iron band round the heel. He is a middle-aged man, much sunburned, and has been a convict. These few indications may be of some assistance to you, coupled with the fact that there is a good deal of skin missing from the palm of his hand. The other man-\" \"Ah! the other man-?\" asked Athelney Jones, in a sneering voice, but impressed none the less, as I could easily see, by the precision of the other's manner. \"Is a rather curious person,\" said Sherlock Holmes, turning upon his heel. \"I hope before very long to be able to introduce you to the pair of them.-A word with you, Watson.\" He led me out to the head of the stair. \"This unexpected occurrence,\" he said, \"has caused us rather to lose sight of the original purpose of our journey.\" \"I have just been thinking so,\" I answered. \"It is not right that Miss Morstan should remain in this stricken house.\" \"No. You must escort her home. She lives with Mrs. Cecil Forrester, in Lower Camberwell: so it is not very far. I will wait for you here if you will drive out again. Or perhaps you are too tired?\" \"By no means. I don't think I could rest until I know more of this fantastic business. I have seen something of the rough side of life, but I give you my word that this quick succession of strange surprises to-night has shaken my nerve completely. I should like, however, to see the matter through with\n",
      "--------------------------------------------------------------------------------\n",
      "> His name, I have every reason to believe, is Jonathan Small. He is a poorly-educated man, small, active, with his right leg off, and wearing a wooden stump which is worn away upon the inner side. His left boot has a coarse, square-toed sole, with an iron band round the heel. He is a middle-aged man, much sunburned, and has been a convict. These few indications may be of some assistance to you, coupled with the fact that there is a good deal of skin missing from the palm of his hand. The other man-\" \"Ah! the other man-?\" asked Athelney Jones, in a sneering voice, but impressed none the less, as I could easily see, by the precision of the other's manner. \"Is a rather curious person,\" said Sherlock Holmes, turning upon his heel. \"I hope before very long to be able to introduce you to the pair of them.-A word with you, Watson.\" He led me out to the head of the stair. \"This unexpected occurrence,\" he said, \"has caused us rather to lose sight of the original purpose of our journey.\" \"I have just been thinking so,\" I answered. \"It is not right that Miss Morstan should remain in this stricken house.\" \"No. You must escort her home. She lives with Mrs. Cecil Forrester, in Lower Camberwell: so it is not very far. I will wait for you here if you will drive out again. Or perhaps you are too tired?\" \"By no means. I don't think I could rest until I know more of this fantastic business. I have seen something of the rough side of life, but I give you my word that this quick succession of strange surprises to-night has shaken my nerve completely. I should like, however, to see the matter through with\n",
      "> Athelney Jones is a middle-aged man, much sunburned, and has been a convict . He is a poorly-educated man, small, active, with his right leg off, and wearing a wooden stump which is worn away upon the inner side of his left boot . Holmes led him out to the head of the stair . \"I don't think I could rest until I know more of this fantastic business,\" he said .\n",
      "--------------------------------------------------------------------------------\n",
      "> His name, I have every reason to believe, is Jonathan Small. He is a poorly-educated man, small, active, with his right leg off, and wearing a wooden stump which is worn away upon the inner side. His left boot has a coarse, square-toed sole, with an iron band round the heel. He is a middle-aged man, much sunburned, and has been a convict. These few indications may be of some assistance to you, coupled with the fact that there is a good deal of skin missing from the palm of his hand. The other man-\" \"Ah! the other man-?\" asked Athelney Jones, in a sneering voice, but impressed none the less, as I could easily see, by the precision of the other's manner. \"Is a rather curious person,\" said Sherlock Holmes, turning upon his heel. \"I hope before very long to be able to introduce you to the pair of them.-A word with you, Watson.\" He led me out to the head of the stair. \"This unexpected occurrence,\" he said, \"has caused us rather to lose sight of the original purpose of our journey.\" \"I have just been thinking so,\" I answered. \"It is not right that Miss Morstan should remain in this stricken house.\" \"No. You must escort her home. She lives with Mrs. Cecil Forrester, in Lower Camberwell: so it is not very far. I will wait for you here if you will drive out again. Or perhaps you are too tired?\" \"By no means. I don't think I could rest until I know more of this fantastic business. I have seen something of the rough side of life, but I give you my word that this quick succession of strange surprises to-night has shaken my nerve completely. I should like, however, to see the matter through with\n",
      "> Sherlock Holmes wants to introduce Athelney Jones to Jonathan Small and a middle-aged man he suspects of being a former convict. He wants to escort Miss Morstan home. She lives with Mrs. Cecil Forrester, in Lower Camberwell. Sherlock will wait for him here if he will drive out.\n",
      "--------------------------------------------------------------------------------\n"
     ]
    },
    {
     "name": "stderr",
     "output_type": "stream",
     "text": [
      "Your max_length is set to 512, but your input_length is only 385. Since this is a summarization task, where outputs shorter than the input are typically wanted, you might consider decreasing max_length manually, e.g. summarizer('...', max_length=192)\n"
     ]
    },
    {
     "name": "stdout",
     "output_type": "stream",
     "text": [
      "> His name, I have every reason to believe, is Jonathan Small. He is a poorly-educated man, small, active, with his right leg off, and wearing a wooden stump which is worn away upon the inner side. His left boot has a coarse, square-toed sole, with an iron band round the heel. He is a middle-aged man, much sunburned, and has been a convict. These few indications may be of some assistance to you, coupled with the fact that there is a good deal of skin missing from the palm of his hand. The other man-\" \"Ah! the other man-?\" asked Athelney Jones, in a sneering voice, but impressed none the less, as I could easily see, by the precision of the other's manner. \"Is a rather curious person,\" said Sherlock Holmes, turning upon his heel. \"I hope before very long to be able to introduce you to the pair of them.-A word with you, Watson.\" He led me out to the head of the stair. \"This unexpected occurrence,\" he said, \"has caused us rather to lose sight of the original purpose of our journey.\" \"I have just been thinking so,\" I answered. \"It is not right that Miss Morstan should remain in this stricken house.\" \"No. You must escort her home. She lives with Mrs. Cecil Forrester, in Lower Camberwell: so it is not very far. I will wait for you here if you will drive out again. Or perhaps you are too tired?\" \"By no means. I don't think I could rest until I know more of this fantastic business. I have seen something of the rough side of life, but I give you my word that this quick succession of strange surprises to-night has shaken my nerve completely. I should like, however, to see the matter through with\n",
      "> Jonathan Small is described as a small, poorly educated man, with a wooden stump on his inner side. He is wearing a coarse square toed boot with a band around the heel. Jonathan Small looks sunburned and has been convicted. Athelney asks if the other man is the same Jonathan Small. Sherlock Holmes introduces Jonathan Small to Watson. He says that the unexpected occurrence has caused them to lose sight on their original purpose of their journey. He explains that it is not right for Miss Morstan to remain in the house. He escorts her home. Watson says that he does not think he could rest until he knows more about the business.\n",
      "--------------------------------------------------------------------------------\n",
      "> His name, I have every reason to believe, is Jonathan Small. He is a poorly-educated man, small, active, with his right leg off, and wearing a wooden stump which is worn away upon the inner side. His left boot has a coarse, square-toed sole, with an iron band round the heel. He is a middle-aged man, much sunburned, and has been a convict. These few indications may be of some assistance to you, coupled with the fact that there is a good deal of skin missing from the palm of his hand. The other man-\" \"Ah! the other man-?\" asked Athelney Jones, in a sneering voice, but impressed none the less, as I could easily see, by the precision of the other's manner. \"Is a rather curious person,\" said Sherlock Holmes, turning upon his heel. \"I hope before very long to be able to introduce you to the pair of them.-A word with you, Watson.\" He led me out to the head of the stair. \"This unexpected occurrence,\" he said, \"has caused us rather to lose sight of the original purpose of our journey.\" \"I have just been thinking so,\" I answered. \"It is not right that Miss Morstan should remain in this stricken house.\" \"No. You must escort her home. She lives with Mrs. Cecil Forrester, in Lower Camberwell: so it is not very far. I will wait for you here if you will drive out again. Or perhaps you are too tired?\" \"By no means. I don't think I could rest until I know more of this fantastic business. I have seen something of the rough side of life, but I give you my word that this quick succession of strange surprises to-night has shaken my nerve completely. I should like, however, to see the matter through with\n",
      "> Athelney Jones is a middle-aged man, much sunburned, and has been a convict . He is a poorly-educated man, small, active, with his right leg off, and wearing a wooden stump which is worn away upon the inner side of his left boot . Holmes led him out to the head of the stair . \"I don't think I could rest until I know more of this fantastic business,\" he said .\n",
      "--------------------------------------------------------------------------------\n",
      "> His name, I have every reason to believe, is Jonathan Small. He is a poorly-educated man, small, active, with his right leg off, and wearing a wooden stump which is worn away upon the inner side. His left boot has a coarse, square-toed sole, with an iron band round the heel. He is a middle-aged man, much sunburned, and has been a convict. These few indications may be of some assistance to you, coupled with the fact that there is a good deal of skin missing from the palm of his hand. The other man-\" \"Ah! the other man-?\" asked Athelney Jones, in a sneering voice, but impressed none the less, as I could easily see, by the precision of the other's manner. \"Is a rather curious person,\" said Sherlock Holmes, turning upon his heel. \"I hope before very long to be able to introduce you to the pair of them.-A word with you, Watson.\" He led me out to the head of the stair. \"This unexpected occurrence,\" he said, \"has caused us rather to lose sight of the original purpose of our journey.\" \"I have just been thinking so,\" I answered. \"It is not right that Miss Morstan should remain in this stricken house.\" \"No. You must escort her home. She lives with Mrs. Cecil Forrester, in Lower Camberwell: so it is not very far. I will wait for you here if you will drive out again. Or perhaps you are too tired?\" \"By no means. I don't think I could rest until I know more of this fantastic business. I have seen something of the rough side of life, but I give you my word that this quick succession of strange surprises to-night has shaken my nerve completely. I should like, however, to see the matter through with\n",
      "> Sherlock Holmes wants to introduce Athelney Jones to Jonathan Small and a middle-aged man he suspects of being a former convict. He wants to escort Miss Morstan home. She lives with Mrs. Cecil Forrester, in Lower Camberwell. Sherlock will wait for him here if he will drive out.\n",
      "--------------------------------------------------------------------------------\n"
     ]
    },
    {
     "name": "stderr",
     "output_type": "stream",
     "text": [
      "Your max_length is set to 512, but your input_length is only 385. Since this is a summarization task, where outputs shorter than the input are typically wanted, you might consider decreasing max_length manually, e.g. summarizer('...', max_length=192)\n"
     ]
    },
    {
     "name": "stdout",
     "output_type": "stream",
     "text": [
      "> His name, I have every reason to believe, is Jonathan Small. He is a poorly-educated man, small, active, with his right leg off, and wearing a wooden stump which is worn away upon the inner side. His left boot has a coarse, square-toed sole, with an iron band round the heel. He is a middle-aged man, much sunburned, and has been a convict. These few indications may be of some assistance to you, coupled with the fact that there is a good deal of skin missing from the palm of his hand. The other man-\" \"Ah! the other man-?\" asked Athelney Jones, in a sneering voice, but impressed none the less, as I could easily see, by the precision of the other's manner. \"Is a rather curious person,\" said Sherlock Holmes, turning upon his heel. \"I hope before very long to be able to introduce you to the pair of them.-A word with you, Watson.\" He led me out to the head of the stair. \"This unexpected occurrence,\" he said, \"has caused us rather to lose sight of the original purpose of our journey.\" \"I have just been thinking so,\" I answered. \"It is not right that Miss Morstan should remain in this stricken house.\" \"No. You must escort her home. She lives with Mrs. Cecil Forrester, in Lower Camberwell: so it is not very far. I will wait for you here if you will drive out again. Or perhaps you are too tired?\" \"By no means. I don't think I could rest until I know more of this fantastic business. I have seen something of the rough side of life, but I give you my word that this quick succession of strange surprises to-night has shaken my nerve completely. I should like, however, to see the matter through with\n",
      "> Jonathan Small is described as a small, poorly educated man, with a wooden stump on his inner side. He is wearing a coarse square toed boot with a band around the heel. Jonathan Small looks sunburned and has been convicted. Athelney asks if the other man is the same Jonathan Small. Sherlock Holmes introduces Jonathan Small to Watson. He says that the unexpected occurrence has caused them to lose sight on their original purpose of their journey. He explains that it is not right for Miss Morstan to remain in the house. He escorts her home. Watson says that he does not think he could rest until he knows more about the business.\n",
      "--------------------------------------------------------------------------------\n",
      "> His name, I have every reason to believe, is Jonathan Small. He is a poorly-educated man, small, active, with his right leg off, and wearing a wooden stump which is worn away upon the inner side. His left boot has a coarse, square-toed sole, with an iron band round the heel. He is a middle-aged man, much sunburned, and has been a convict. These few indications may be of some assistance to you, coupled with the fact that there is a good deal of skin missing from the palm of his hand. The other man-\" \"Ah! the other man-?\" asked Athelney Jones, in a sneering voice, but impressed none the less, as I could easily see, by the precision of the other's manner. \"Is a rather curious person,\" said Sherlock Holmes, turning upon his heel. \"I hope before very long to be able to introduce you to the pair of them.-A word with you, Watson.\" He led me out to the head of the stair. \"This unexpected occurrence,\" he said, \"has caused us rather to lose sight of the original purpose of our journey.\" \"I have just been thinking so,\" I answered. \"It is not right that Miss Morstan should remain in this stricken house.\" \"No. You must escort her home. She lives with Mrs. Cecil Forrester, in Lower Camberwell: so it is not very far. I will wait for you here if you will drive out again. Or perhaps you are too tired?\" \"By no means. I don't think I could rest until I know more of this fantastic business. I have seen something of the rough side of life, but I give you my word that this quick succession of strange surprises to-night has shaken my nerve completely. I should like, however, to see the matter through with\n",
      "> Athelney Jones is a middle-aged man, much sunburned, and has been a convict . He is a poorly-educated man, small, active, with his right leg off, and wearing a wooden stump which is worn away upon the inner side of his left boot . Holmes led him out to the head of the stair . \"I don't think I could rest until I know more of this fantastic business,\" he said .\n"
     ]
    },
    {
     "name": "stderr",
     "output_type": "stream",
     "text": [
      "Some weights of RobertaModel were not initialized from the model checkpoint at roberta-large and are newly initialized: ['roberta.pooler.dense.bias', 'roberta.pooler.dense.weight']\n",
      "You should probably TRAIN this model on a down-stream task to be able to use it for predictions and inference.\n"
     ]
    },
    {
     "name": "stdout",
     "output_type": "stream",
     "text": [
      "--------------------------------------------------------------------------------\n",
      "> His name, I have every reason to believe, is Jonathan Small. He is a poorly-educated man, small, active, with his right leg off, and wearing a wooden stump which is worn away upon the inner side. His left boot has a coarse, square-toed sole, with an iron band round the heel. He is a middle-aged man, much sunburned, and has been a convict. These few indications may be of some assistance to you, coupled with the fact that there is a good deal of skin missing from the palm of his hand. The other man-\" \"Ah! the other man-?\" asked Athelney Jones, in a sneering voice, but impressed none the less, as I could easily see, by the precision of the other's manner. \"Is a rather curious person,\" said Sherlock Holmes, turning upon his heel. \"I hope before very long to be able to introduce you to the pair of them.-A word with you, Watson.\" He led me out to the head of the stair. \"This unexpected occurrence,\" he said, \"has caused us rather to lose sight of the original purpose of our journey.\" \"I have just been thinking so,\" I answered. \"It is not right that Miss Morstan should remain in this stricken house.\" \"No. You must escort her home. She lives with Mrs. Cecil Forrester, in Lower Camberwell: so it is not very far. I will wait for you here if you will drive out again. Or perhaps you are too tired?\" \"By no means. I don't think I could rest until I know more of this fantastic business. I have seen something of the rough side of life, but I give you my word that this quick succession of strange surprises to-night has shaken my nerve completely. I should like, however, to see the matter through with\n",
      "> Sherlock Holmes wants to introduce Athelney Jones to Jonathan Small and a middle-aged man he suspects of being a former convict. He wants to escort Miss Morstan home. She lives with Mrs. Cecil Forrester, in Lower Camberwell. Sherlock will wait for him here if he will drive out.\n"
     ]
    },
    {
     "name": "stderr",
     "output_type": "stream",
     "text": [
      "Some weights of RobertaModel were not initialized from the model checkpoint at roberta-large and are newly initialized: ['roberta.pooler.dense.bias', 'roberta.pooler.dense.weight']\n",
      "You should probably TRAIN this model on a down-stream task to be able to use it for predictions and inference.\n"
     ]
    },
    {
     "name": "stdout",
     "output_type": "stream",
     "text": [
      "--------------------------------------------------------------------------------\n"
     ]
    },
    {
     "name": "stderr",
     "output_type": "stream",
     "text": [
      "Your max_length is set to 512, but your input_length is only 385. Since this is a summarization task, where outputs shorter than the input are typically wanted, you might consider decreasing max_length manually, e.g. summarizer('...', max_length=192)\n"
     ]
    },
    {
     "name": "stdout",
     "output_type": "stream",
     "text": [
      "> His name, I have every reason to believe, is Jonathan Small. He is a poorly-educated man, small, active, with his right leg off, and wearing a wooden stump which is worn away upon the inner side. His left boot has a coarse, square-toed sole, with an iron band round the heel. He is a middle-aged man, much sunburned, and has been a convict. These few indications may be of some assistance to you, coupled with the fact that there is a good deal of skin missing from the palm of his hand. The other man-\" \"Ah! the other man-?\" asked Athelney Jones, in a sneering voice, but impressed none the less, as I could easily see, by the precision of the other's manner. \"Is a rather curious person,\" said Sherlock Holmes, turning upon his heel. \"I hope before very long to be able to introduce you to the pair of them.-A word with you, Watson.\" He led me out to the head of the stair. \"This unexpected occurrence,\" he said, \"has caused us rather to lose sight of the original purpose of our journey.\" \"I have just been thinking so,\" I answered. \"It is not right that Miss Morstan should remain in this stricken house.\" \"No. You must escort her home. She lives with Mrs. Cecil Forrester, in Lower Camberwell: so it is not very far. I will wait for you here if you will drive out again. Or perhaps you are too tired?\" \"By no means. I don't think I could rest until I know more of this fantastic business. I have seen something of the rough side of life, but I give you my word that this quick succession of strange surprises to-night has shaken my nerve completely. I should like, however, to see the matter through with\n",
      "> Jonathan Small is described as a small, poorly educated man, with a wooden stump on his inner side. He is wearing a coarse square toed boot with a band around the heel. Jonathan Small looks sunburned and has been convicted. Athelney asks if the other man is the same Jonathan Small. Sherlock Holmes introduces Jonathan Small to Watson. He says that the unexpected occurrence has caused them to lose sight on their original purpose of their journey. He explains that it is not right for Miss Morstan to remain in the house. He escorts her home. Watson says that he does not think he could rest until he knows more about the business.\n"
     ]
    },
    {
     "name": "stderr",
     "output_type": "stream",
     "text": [
      "Some weights of RobertaModel were not initialized from the model checkpoint at roberta-large and are newly initialized: ['roberta.pooler.dense.bias', 'roberta.pooler.dense.weight']\n",
      "You should probably TRAIN this model on a down-stream task to be able to use it for predictions and inference.\n"
     ]
    },
    {
     "name": "stdout",
     "output_type": "stream",
     "text": [
      "--------------------------------------------------------------------------------\n",
      "> His name, I have every reason to believe, is Jonathan Small. He is a poorly-educated man, small, active, with his right leg off, and wearing a wooden stump which is worn away upon the inner side. His left boot has a coarse, square-toed sole, with an iron band round the heel. He is a middle-aged man, much sunburned, and has been a convict. These few indications may be of some assistance to you, coupled with the fact that there is a good deal of skin missing from the palm of his hand. The other man-\" \"Ah! the other man-?\" asked Athelney Jones, in a sneering voice, but impressed none the less, as I could easily see, by the precision of the other's manner. \"Is a rather curious person,\" said Sherlock Holmes, turning upon his heel. \"I hope before very long to be able to introduce you to the pair of them.-A word with you, Watson.\" He led me out to the head of the stair. \"This unexpected occurrence,\" he said, \"has caused us rather to lose sight of the original purpose of our journey.\" \"I have just been thinking so,\" I answered. \"It is not right that Miss Morstan should remain in this stricken house.\" \"No. You must escort her home. She lives with Mrs. Cecil Forrester, in Lower Camberwell: so it is not very far. I will wait for you here if you will drive out again. Or perhaps you are too tired?\" \"By no means. I don't think I could rest until I know more of this fantastic business. I have seen something of the rough side of life, but I give you my word that this quick succession of strange surprises to-night has shaken my nerve completely. I should like, however, to see the matter through with\n",
      "> Athelney Jones is a middle-aged man, much sunburned, and has been a convict . He is a poorly-educated man, small, active, with his right leg off, and wearing a wooden stump which is worn away upon the inner side of his left boot . Holmes led him out to the head of the stair . \"I don't think I could rest until I know more of this fantastic business,\" he said .\n",
      "--------------------------------------------------------------------------------\n",
      "> His name, I have every reason to believe, is Jonathan Small. He is a poorly-educated man, small, active, with his right leg off, and wearing a wooden stump which is worn away upon the inner side. His left boot has a coarse, square-toed sole, with an iron band round the heel. He is a middle-aged man, much sunburned, and has been a convict. These few indications may be of some assistance to you, coupled with the fact that there is a good deal of skin missing from the palm of his hand. The other man-\" \"Ah! the other man-?\" asked Athelney Jones, in a sneering voice, but impressed none the less, as I could easily see, by the precision of the other's manner. \"Is a rather curious person,\" said Sherlock Holmes, turning upon his heel. \"I hope before very long to be able to introduce you to the pair of them.-A word with you, Watson.\" He led me out to the head of the stair. \"This unexpected occurrence,\" he said, \"has caused us rather to lose sight of the original purpose of our journey.\" \"I have just been thinking so,\" I answered. \"It is not right that Miss Morstan should remain in this stricken house.\" \"No. You must escort her home. She lives with Mrs. Cecil Forrester, in Lower Camberwell: so it is not very far. I will wait for you here if you will drive out again. Or perhaps you are too tired?\" \"By no means. I don't think I could rest until I know more of this fantastic business. I have seen something of the rough side of life, but I give you my word that this quick succession of strange surprises to-night has shaken my nerve completely. I should like, however, to see the matter through with\n",
      "> Sherlock Holmes wants to introduce Athelney Jones to Jonathan Small and a middle-aged man he suspects of being a former convict. He wants to escort Miss Morstan home. She lives with Mrs. Cecil Forrester, in Lower Camberwell. Sherlock will wait for him here if he will drive out.\n",
      "--------------------------------------------------------------------------------\n"
     ]
    },
    {
     "name": "stderr",
     "output_type": "stream",
     "text": [
      "Your max_length is set to 512, but your input_length is only 385. Since this is a summarization task, where outputs shorter than the input are typically wanted, you might consider decreasing max_length manually, e.g. summarizer('...', max_length=192)\n"
     ]
    },
    {
     "name": "stdout",
     "output_type": "stream",
     "text": [
      "> His name, I have every reason to believe, is Jonathan Small. He is a poorly-educated man, small, active, with his right leg off, and wearing a wooden stump which is worn away upon the inner side. His left boot has a coarse, square-toed sole, with an iron band round the heel. He is a middle-aged man, much sunburned, and has been a convict. These few indications may be of some assistance to you, coupled with the fact that there is a good deal of skin missing from the palm of his hand. The other man-\" \"Ah! the other man-?\" asked Athelney Jones, in a sneering voice, but impressed none the less, as I could easily see, by the precision of the other's manner. \"Is a rather curious person,\" said Sherlock Holmes, turning upon his heel. \"I hope before very long to be able to introduce you to the pair of them.-A word with you, Watson.\" He led me out to the head of the stair. \"This unexpected occurrence,\" he said, \"has caused us rather to lose sight of the original purpose of our journey.\" \"I have just been thinking so,\" I answered. \"It is not right that Miss Morstan should remain in this stricken house.\" \"No. You must escort her home. She lives with Mrs. Cecil Forrester, in Lower Camberwell: so it is not very far. I will wait for you here if you will drive out again. Or perhaps you are too tired?\" \"By no means. I don't think I could rest until I know more of this fantastic business. I have seen something of the rough side of life, but I give you my word that this quick succession of strange surprises to-night has shaken my nerve completely. I should like, however, to see the matter through with\n",
      "> Jonathan Small is described as a small, poorly educated man, with a wooden stump on his inner side. He is wearing a coarse square toed boot with a band around the heel. Jonathan Small looks sunburned and has been convicted. Athelney asks if the other man is the same Jonathan Small. Sherlock Holmes introduces Jonathan Small to Watson. He says that the unexpected occurrence has caused them to lose sight on their original purpose of their journey. He explains that it is not right for Miss Morstan to remain in the house. He escorts her home. Watson says that he does not think he could rest until he knows more about the business.\n",
      "Found: ['crime.0.md', 'crime.qa.md']\n",
      "################################################################################\n",
      "################################################################################\n",
      "\"We earned a living at this time by my exhibiting poor Tonga at fairs and other such places as the black cannibal. He would eat raw meat and dance his war-dance: so we always had a hatful of pennies after a day's work. I still heard all the news from Pondicherry Lodge, and for some years there was no news to hear, except that they were hunting for the treasure. At last, however, came what we had waited for so long. The treasure had been found. It was up at the top of the house, in Mr. Bartholomew Sholto's chemical laboratory. I came at once and had a look at the place, but I could not see how with my wooden leg I was to make my way up to it. I learned, however, about a trap-door in the roof, and also about Mr. Sholto's supper-hour. It seemed to me that I could manage the thing easily through Tonga. I brought him out with me with a long rope wound round his waist. He could climb like a cat, and he soon made his way through the roof, but, as ill luck would have it, Bartholomew Sholto was still in the room, to his cost. Tonga thought he had done something very clever in killing him, for when I came up by the rope I found him strutting about as proud as a peacock. Very much surprised was he when I made at him with the rope's end and cursed him for a little blood-thirsty imp. I took the treasure-box and let it down, and then slid down myself, having first left the sign of the four upon the table, to show that the jewels had come back at last to those who had most right to them. Tonga then\n",
      "--------------------------------------------------------------------------------\n",
      "> \"We earned a living at this time by my exhibiting poor Tonga at fairs and other such places as the black cannibal. He would eat raw meat and dance his war-dance: so we always had a hatful of pennies after a day's work. I still heard all the news from Pondicherry Lodge, and for some years there was no news to hear, except that they were hunting for the treasure. At last, however, came what we had waited for so long. The treasure had been found. It was up at the top of the house, in Mr. Bartholomew Sholto's chemical laboratory. I came at once and had a look at the place, but I could not see how with my wooden leg I was to make my way up to it. I learned, however, about a trap-door in the roof, and also about Mr. Sholto's supper-hour. It seemed to me that I could manage the thing easily through Tonga. I brought him out with me with a long rope wound round his waist. He could climb like a cat, and he soon made his way through the roof, but, as ill luck would have it, Bartholomew Sholto was still in the room, to his cost. Tonga thought he had done something very clever in killing him, for when I came up by the rope I found him strutting about as proud as a peacock. Very much surprised was he when I made at him with the rope's end and cursed him for a little blood-thirsty imp. I took the treasure-box and let it down, and then slid down myself, having first left the sign of the four upon the table, to show that the jewels had come back at last to those who had most right to them. Tonga then\n",
      "> \"We earned a living at this time by my exhibiting poor Tonga at fairs and other such places as the black cannibal. He would eat raw meat and dance his war-dance: so we always had a hatful of pennies after a day's work. I still heard all the news from Pondicherry Lodge, and for some years there was no news to hear, except that they were hunting for the treasure . At last, however, came what we had waited for so long. The treasure had been found. It was up at the top of the house, in Mr. Bartholomew Sholto's chemical laboratory. I came at once and had a look at\n",
      "--------------------------------------------------------------------------------\n",
      "> \"We earned a living at this time by my exhibiting poor Tonga at fairs and other such places as the black cannibal. He would eat raw meat and dance his war-dance: so we always had a hatful of pennies after a day's work. I still heard all the news from Pondicherry Lodge, and for some years there was no news to hear, except that they were hunting for the treasure. At last, however, came what we had waited for so long. The treasure had been found. It was up at the top of the house, in Mr. Bartholomew Sholto's chemical laboratory. I came at once and had a look at the place, but I could not see how with my wooden leg I was to make my way up to it. I learned, however, about a trap-door in the roof, and also about Mr. Sholto's supper-hour. It seemed to me that I could manage the thing easily through Tonga. I brought him out with me with a long rope wound round his waist. He could climb like a cat, and he soon made his way through the roof, but, as ill luck would have it, Bartholomew Sholto was still in the room, to his cost. Tonga thought he had done something very clever in killing him, for when I came up by the rope I found him strutting about as proud as a peacock. Very much surprised was he when I made at him with the rope's end and cursed him for a little blood-thirsty imp. I took the treasure-box and let it down, and then slid down myself, having first left the sign of the four upon the table, to show that the jewels had come back at last to those who had most right to them. Tonga then\n",
      "> \"We earned a living at this time by my exhibiting Tonga at fairs and other places as the black cannibal. I still heard all the news from Pondicherry Lodge, and for some years there was no news to hear except that they were hunting for the treasure. The treasure had been found up at the top of the house in Mr. Bartholomew Sholto's chemical laboratory. Tonga made his way through the roof, but Bartholomet Shol to was still in the room and Tonga had to kill him.\n",
      "--------------------------------------------------------------------------------\n"
     ]
    },
    {
     "name": "stderr",
     "output_type": "stream",
     "text": [
      "Your max_length is set to 512, but your input_length is only 365. Since this is a summarization task, where outputs shorter than the input are typically wanted, you might consider decreasing max_length manually, e.g. summarizer('...', max_length=182)\n"
     ]
    },
    {
     "name": "stdout",
     "output_type": "stream",
     "text": [
      "> \"We earned a living at this time by my exhibiting poor Tonga at fairs and other such places as the black cannibal. He would eat raw meat and dance his war-dance: so we always had a hatful of pennies after a day's work. I still heard all the news from Pondicherry Lodge, and for some years there was no news to hear, except that they were hunting for the treasure. At last, however, came what we had waited for so long. The treasure had been found. It was up at the top of the house, in Mr. Bartholomew Sholto's chemical laboratory. I came at once and had a look at the place, but I could not see how with my wooden leg I was to make my way up to it. I learned, however, about a trap-door in the roof, and also about Mr. Sholto's supper-hour. It seemed to me that I could manage the thing easily through Tonga. I brought him out with me with a long rope wound round his waist. He could climb like a cat, and he soon made his way through the roof, but, as ill luck would have it, Bartholomew Sholto was still in the room, to his cost. Tonga thought he had done something very clever in killing him, for when I came up by the rope I found him strutting about as proud as a peacock. Very much surprised was he when I made at him with the rope's end and cursed him for a little blood-thirsty imp. I took the treasure-box and let it down, and then slid down myself, having first left the sign of the four upon the table, to show that the jewels had come back at last to those who had most right to them. Tonga then\n",
      "> The narrator explains that he and his friend, the cannibal, earned a living by exhibiting at fairs and by selling raw meat and dancing war dances. He heard all about the treasure and waited for it to be found. One day, he came upon the treasure. He learned about the trap door in the roof and about the supper hour. He brought the man out with a rope wound around his waist. The man climbed through the roof but was unable to get to the top. He found that Bartholomew Shola was still inside the room. He was surprised when he saw that the man was proud and that he was cursing him for a \"little blood-thirty imp.\" The narrator took the treasure box and slid it down to show that all the jewels were back.\n",
      "--------------------------------------------------------------------------------\n",
      "> \"We earned a living at this time by my exhibiting poor Tonga at fairs and other such places as the black cannibal. He would eat raw meat and dance his war-dance: so we always had a hatful of pennies after a day's work. I still heard all the news from Pondicherry Lodge, and for some years there was no news to hear, except that they were hunting for the treasure. At last, however, came what we had waited for so long. The treasure had been found. It was up at the top of the house, in Mr. Bartholomew Sholto's chemical laboratory. I came at once and had a look at the place, but I could not see how with my wooden leg I was to make my way up to it. I learned, however, about a trap-door in the roof, and also about Mr. Sholto's supper-hour. It seemed to me that I could manage the thing easily through Tonga. I brought him out with me with a long rope wound round his waist. He could climb like a cat, and he soon made his way through the roof, but, as ill luck would have it, Bartholomew Sholto was still in the room, to his cost. Tonga thought he had done something very clever in killing him, for when I came up by the rope I found him strutting about as proud as a peacock. Very much surprised was he when I made at him with the rope's end and cursed him for a little blood-thirsty imp. I took the treasure-box and let it down, and then slid down myself, having first left the sign of the four upon the table, to show that the jewels had come back at last to those who had most right to them. Tonga then\n",
      "> \"We earned a living at this time by my exhibiting poor Tonga at fairs and other such places as the black cannibal. He would eat raw meat and dance his war-dance: so we always had a hatful of pennies after a day's work. I still heard all the news from Pondicherry Lodge, and for some years there was no news to hear, except that they were hunting for the treasure . At last, however, came what we had waited for so long. The treasure had been found. It was up at the top of the house, in Mr. Bartholomew Sholto's chemical laboratory. I came at once and had a look at\n",
      "--------------------------------------------------------------------------------\n",
      "> \"We earned a living at this time by my exhibiting poor Tonga at fairs and other such places as the black cannibal. He would eat raw meat and dance his war-dance: so we always had a hatful of pennies after a day's work. I still heard all the news from Pondicherry Lodge, and for some years there was no news to hear, except that they were hunting for the treasure. At last, however, came what we had waited for so long. The treasure had been found. It was up at the top of the house, in Mr. Bartholomew Sholto's chemical laboratory. I came at once and had a look at the place, but I could not see how with my wooden leg I was to make my way up to it. I learned, however, about a trap-door in the roof, and also about Mr. Sholto's supper-hour. It seemed to me that I could manage the thing easily through Tonga. I brought him out with me with a long rope wound round his waist. He could climb like a cat, and he soon made his way through the roof, but, as ill luck would have it, Bartholomew Sholto was still in the room, to his cost. Tonga thought he had done something very clever in killing him, for when I came up by the rope I found him strutting about as proud as a peacock. Very much surprised was he when I made at him with the rope's end and cursed him for a little blood-thirsty imp. I took the treasure-box and let it down, and then slid down myself, having first left the sign of the four upon the table, to show that the jewels had come back at last to those who had most right to them. Tonga then\n",
      "> \"We earned a living at this time by my exhibiting Tonga at fairs and other places as the black cannibal. I still heard all the news from Pondicherry Lodge, and for some years there was no news to hear except that they were hunting for the treasure. The treasure had been found up at the top of the house in Mr. Bartholomew Sholto's chemical laboratory. Tonga made his way through the roof, but Bartholomet Shol to was still in the room and Tonga had to kill him.\n",
      "--------------------------------------------------------------------------------\n"
     ]
    },
    {
     "name": "stderr",
     "output_type": "stream",
     "text": [
      "Your max_length is set to 512, but your input_length is only 365. Since this is a summarization task, where outputs shorter than the input are typically wanted, you might consider decreasing max_length manually, e.g. summarizer('...', max_length=182)\n"
     ]
    },
    {
     "name": "stdout",
     "output_type": "stream",
     "text": [
      "> \"We earned a living at this time by my exhibiting poor Tonga at fairs and other such places as the black cannibal. He would eat raw meat and dance his war-dance: so we always had a hatful of pennies after a day's work. I still heard all the news from Pondicherry Lodge, and for some years there was no news to hear, except that they were hunting for the treasure. At last, however, came what we had waited for so long. The treasure had been found. It was up at the top of the house, in Mr. Bartholomew Sholto's chemical laboratory. I came at once and had a look at the place, but I could not see how with my wooden leg I was to make my way up to it. I learned, however, about a trap-door in the roof, and also about Mr. Sholto's supper-hour. It seemed to me that I could manage the thing easily through Tonga. I brought him out with me with a long rope wound round his waist. He could climb like a cat, and he soon made his way through the roof, but, as ill luck would have it, Bartholomew Sholto was still in the room, to his cost. Tonga thought he had done something very clever in killing him, for when I came up by the rope I found him strutting about as proud as a peacock. Very much surprised was he when I made at him with the rope's end and cursed him for a little blood-thirsty imp. I took the treasure-box and let it down, and then slid down myself, having first left the sign of the four upon the table, to show that the jewels had come back at last to those who had most right to them. Tonga then\n",
      "> The narrator explains that he and his friend, the cannibal, earned a living by exhibiting at fairs and by selling raw meat and dancing war dances. He heard all about the treasure and waited for it to be found. One day, he came upon the treasure. He learned about the trap door in the roof and about the supper hour. He brought the man out with a rope wound around his waist. The man climbed through the roof but was unable to get to the top. He found that Bartholomew Shola was still inside the room. He was surprised when he saw that the man was proud and that he was cursing him for a \"little blood-thirty imp.\" The narrator took the treasure box and slid it down to show that all the jewels were back.\n",
      "--------------------------------------------------------------------------------\n",
      "> \"We earned a living at this time by my exhibiting poor Tonga at fairs and other such places as the black cannibal. He would eat raw meat and dance his war-dance: so we always had a hatful of pennies after a day's work. I still heard all the news from Pondicherry Lodge, and for some years there was no news to hear, except that they were hunting for the treasure. At last, however, came what we had waited for so long. The treasure had been found. It was up at the top of the house, in Mr. Bartholomew Sholto's chemical laboratory. I came at once and had a look at the place, but I could not see how with my wooden leg I was to make my way up to it. I learned, however, about a trap-door in the roof, and also about Mr. Sholto's supper-hour. It seemed to me that I could manage the thing easily through Tonga. I brought him out with me with a long rope wound round his waist. He could climb like a cat, and he soon made his way through the roof, but, as ill luck would have it, Bartholomew Sholto was still in the room, to his cost. Tonga thought he had done something very clever in killing him, for when I came up by the rope I found him strutting about as proud as a peacock. Very much surprised was he when I made at him with the rope's end and cursed him for a little blood-thirsty imp. I took the treasure-box and let it down, and then slid down myself, having first left the sign of the four upon the table, to show that the jewels had come back at last to those who had most right to them. Tonga then\n",
      "> \"We earned a living at this time by my exhibiting poor Tonga at fairs and other such places as the black cannibal. He would eat raw meat and dance his war-dance: so we always had a hatful of pennies after a day's work. I still heard all the news from Pondicherry Lodge, and for some years there was no news to hear, except that they were hunting for the treasure . At last, however, came what we had waited for so long. The treasure had been found. It was up at the top of the house, in Mr. Bartholomew Sholto's chemical laboratory. I came at once and had a look at\n"
     ]
    },
    {
     "name": "stderr",
     "output_type": "stream",
     "text": [
      "Some weights of RobertaModel were not initialized from the model checkpoint at roberta-large and are newly initialized: ['roberta.pooler.dense.bias', 'roberta.pooler.dense.weight']\n",
      "You should probably TRAIN this model on a down-stream task to be able to use it for predictions and inference.\n"
     ]
    },
    {
     "name": "stdout",
     "output_type": "stream",
     "text": [
      "--------------------------------------------------------------------------------\n",
      "> \"We earned a living at this time by my exhibiting poor Tonga at fairs and other such places as the black cannibal. He would eat raw meat and dance his war-dance: so we always had a hatful of pennies after a day's work. I still heard all the news from Pondicherry Lodge, and for some years there was no news to hear, except that they were hunting for the treasure. At last, however, came what we had waited for so long. The treasure had been found. It was up at the top of the house, in Mr. Bartholomew Sholto's chemical laboratory. I came at once and had a look at the place, but I could not see how with my wooden leg I was to make my way up to it. I learned, however, about a trap-door in the roof, and also about Mr. Sholto's supper-hour. It seemed to me that I could manage the thing easily through Tonga. I brought him out with me with a long rope wound round his waist. He could climb like a cat, and he soon made his way through the roof, but, as ill luck would have it, Bartholomew Sholto was still in the room, to his cost. Tonga thought he had done something very clever in killing him, for when I came up by the rope I found him strutting about as proud as a peacock. Very much surprised was he when I made at him with the rope's end and cursed him for a little blood-thirsty imp. I took the treasure-box and let it down, and then slid down myself, having first left the sign of the four upon the table, to show that the jewels had come back at last to those who had most right to them. Tonga then\n",
      "> \"We earned a living at this time by my exhibiting Tonga at fairs and other places as the black cannibal. I still heard all the news from Pondicherry Lodge, and for some years there was no news to hear except that they were hunting for the treasure. The treasure had been found up at the top of the house in Mr. Bartholomew Sholto's chemical laboratory. Tonga made his way through the roof, but Bartholomet Shol to was still in the room and Tonga had to kill him.\n"
     ]
    },
    {
     "name": "stderr",
     "output_type": "stream",
     "text": [
      "Some weights of RobertaModel were not initialized from the model checkpoint at roberta-large and are newly initialized: ['roberta.pooler.dense.bias', 'roberta.pooler.dense.weight']\n",
      "You should probably TRAIN this model on a down-stream task to be able to use it for predictions and inference.\n"
     ]
    },
    {
     "name": "stdout",
     "output_type": "stream",
     "text": [
      "--------------------------------------------------------------------------------\n"
     ]
    },
    {
     "name": "stderr",
     "output_type": "stream",
     "text": [
      "Your max_length is set to 512, but your input_length is only 365. Since this is a summarization task, where outputs shorter than the input are typically wanted, you might consider decreasing max_length manually, e.g. summarizer('...', max_length=182)\n"
     ]
    },
    {
     "name": "stdout",
     "output_type": "stream",
     "text": [
      "> \"We earned a living at this time by my exhibiting poor Tonga at fairs and other such places as the black cannibal. He would eat raw meat and dance his war-dance: so we always had a hatful of pennies after a day's work. I still heard all the news from Pondicherry Lodge, and for some years there was no news to hear, except that they were hunting for the treasure. At last, however, came what we had waited for so long. The treasure had been found. It was up at the top of the house, in Mr. Bartholomew Sholto's chemical laboratory. I came at once and had a look at the place, but I could not see how with my wooden leg I was to make my way up to it. I learned, however, about a trap-door in the roof, and also about Mr. Sholto's supper-hour. It seemed to me that I could manage the thing easily through Tonga. I brought him out with me with a long rope wound round his waist. He could climb like a cat, and he soon made his way through the roof, but, as ill luck would have it, Bartholomew Sholto was still in the room, to his cost. Tonga thought he had done something very clever in killing him, for when I came up by the rope I found him strutting about as proud as a peacock. Very much surprised was he when I made at him with the rope's end and cursed him for a little blood-thirsty imp. I took the treasure-box and let it down, and then slid down myself, having first left the sign of the four upon the table, to show that the jewels had come back at last to those who had most right to them. Tonga then\n",
      "> The narrator explains that he and his friend, the cannibal, earned a living by exhibiting at fairs and by selling raw meat and dancing war dances. He heard all about the treasure and waited for it to be found. One day, he came upon the treasure. He learned about the trap door in the roof and about the supper hour. He brought the man out with a rope wound around his waist. The man climbed through the roof but was unable to get to the top. He found that Bartholomew Shola was still inside the room. He was surprised when he saw that the man was proud and that he was cursing him for a \"little blood-thirty imp.\" The narrator took the treasure box and slid it down to show that all the jewels were back.\n"
     ]
    },
    {
     "name": "stderr",
     "output_type": "stream",
     "text": [
      "Some weights of RobertaModel were not initialized from the model checkpoint at roberta-large and are newly initialized: ['roberta.pooler.dense.bias', 'roberta.pooler.dense.weight']\n",
      "You should probably TRAIN this model on a down-stream task to be able to use it for predictions and inference.\n"
     ]
    },
    {
     "name": "stdout",
     "output_type": "stream",
     "text": [
      "--------------------------------------------------------------------------------\n",
      "> \"We earned a living at this time by my exhibiting poor Tonga at fairs and other such places as the black cannibal. He would eat raw meat and dance his war-dance: so we always had a hatful of pennies after a day's work. I still heard all the news from Pondicherry Lodge, and for some years there was no news to hear, except that they were hunting for the treasure. At last, however, came what we had waited for so long. The treasure had been found. It was up at the top of the house, in Mr. Bartholomew Sholto's chemical laboratory. I came at once and had a look at the place, but I could not see how with my wooden leg I was to make my way up to it. I learned, however, about a trap-door in the roof, and also about Mr. Sholto's supper-hour. It seemed to me that I could manage the thing easily through Tonga. I brought him out with me with a long rope wound round his waist. He could climb like a cat, and he soon made his way through the roof, but, as ill luck would have it, Bartholomew Sholto was still in the room, to his cost. Tonga thought he had done something very clever in killing him, for when I came up by the rope I found him strutting about as proud as a peacock. Very much surprised was he when I made at him with the rope's end and cursed him for a little blood-thirsty imp. I took the treasure-box and let it down, and then slid down myself, having first left the sign of the four upon the table, to show that the jewels had come back at last to those who had most right to them. Tonga then\n",
      "> \"We earned a living at this time by my exhibiting poor Tonga at fairs and other such places as the black cannibal. He would eat raw meat and dance his war-dance: so we always had a hatful of pennies after a day's work. I still heard all the news from Pondicherry Lodge, and for some years there was no news to hear, except that they were hunting for the treasure . At last, however, came what we had waited for so long. The treasure had been found. It was up at the top of the house, in Mr. Bartholomew Sholto's chemical laboratory. I came at once and had a look at\n",
      "--------------------------------------------------------------------------------\n",
      "> \"We earned a living at this time by my exhibiting poor Tonga at fairs and other such places as the black cannibal. He would eat raw meat and dance his war-dance: so we always had a hatful of pennies after a day's work. I still heard all the news from Pondicherry Lodge, and for some years there was no news to hear, except that they were hunting for the treasure. At last, however, came what we had waited for so long. The treasure had been found. It was up at the top of the house, in Mr. Bartholomew Sholto's chemical laboratory. I came at once and had a look at the place, but I could not see how with my wooden leg I was to make my way up to it. I learned, however, about a trap-door in the roof, and also about Mr. Sholto's supper-hour. It seemed to me that I could manage the thing easily through Tonga. I brought him out with me with a long rope wound round his waist. He could climb like a cat, and he soon made his way through the roof, but, as ill luck would have it, Bartholomew Sholto was still in the room, to his cost. Tonga thought he had done something very clever in killing him, for when I came up by the rope I found him strutting about as proud as a peacock. Very much surprised was he when I made at him with the rope's end and cursed him for a little blood-thirsty imp. I took the treasure-box and let it down, and then slid down myself, having first left the sign of the four upon the table, to show that the jewels had come back at last to those who had most right to them. Tonga then\n",
      "> \"We earned a living at this time by my exhibiting Tonga at fairs and other places as the black cannibal. I still heard all the news from Pondicherry Lodge, and for some years there was no news to hear except that they were hunting for the treasure. The treasure had been found up at the top of the house in Mr. Bartholomew Sholto's chemical laboratory. Tonga made his way through the roof, but Bartholomet Shol to was still in the room and Tonga had to kill him.\n",
      "--------------------------------------------------------------------------------\n"
     ]
    },
    {
     "name": "stderr",
     "output_type": "stream",
     "text": [
      "Your max_length is set to 512, but your input_length is only 365. Since this is a summarization task, where outputs shorter than the input are typically wanted, you might consider decreasing max_length manually, e.g. summarizer('...', max_length=182)\n"
     ]
    },
    {
     "name": "stdout",
     "output_type": "stream",
     "text": [
      "> \"We earned a living at this time by my exhibiting poor Tonga at fairs and other such places as the black cannibal. He would eat raw meat and dance his war-dance: so we always had a hatful of pennies after a day's work. I still heard all the news from Pondicherry Lodge, and for some years there was no news to hear, except that they were hunting for the treasure. At last, however, came what we had waited for so long. The treasure had been found. It was up at the top of the house, in Mr. Bartholomew Sholto's chemical laboratory. I came at once and had a look at the place, but I could not see how with my wooden leg I was to make my way up to it. I learned, however, about a trap-door in the roof, and also about Mr. Sholto's supper-hour. It seemed to me that I could manage the thing easily through Tonga. I brought him out with me with a long rope wound round his waist. He could climb like a cat, and he soon made his way through the roof, but, as ill luck would have it, Bartholomew Sholto was still in the room, to his cost. Tonga thought he had done something very clever in killing him, for when I came up by the rope I found him strutting about as proud as a peacock. Very much surprised was he when I made at him with the rope's end and cursed him for a little blood-thirsty imp. I took the treasure-box and let it down, and then slid down myself, having first left the sign of the four upon the table, to show that the jewels had come back at last to those who had most right to them. Tonga then\n",
      "> The narrator explains that he and his friend, the cannibal, earned a living by exhibiting at fairs and by selling raw meat and dancing war dances. He heard all about the treasure and waited for it to be found. One day, he came upon the treasure. He learned about the trap door in the roof and about the supper hour. He brought the man out with a rope wound around his waist. The man climbed through the roof but was unable to get to the top. He found that Bartholomew Shola was still inside the room. He was surprised when he saw that the man was proud and that he was cursing him for a \"little blood-thirty imp.\" The narrator took the treasure box and slid it down to show that all the jewels were back.\n",
      "Found: ['evidence.0.md', 'evidence.qa.md']\n",
      "################################################################################\n",
      "################################################################################\n",
      "\"Just sit in the corner there, that your footprints may not complicate matters. Now to work! In the first place, how did these folk come, and how did they go? The door has not been opened since last night. How of the window?\" He carried the lamp across to it, muttering his observations aloud the while, but addressing them to himself rather than to me. \"Window is snibbed on the inner side. Framework is solid. No hinges at the side. Let us open it. No water-pipe near. Roof quite out of reach. Yet a man has mounted by the window. It rained a little last night. Here is the print of a foot in mould upon the sill. And here is a circular muddy mark, and here again upon the floor, and here again by the table. See here, Watson! This is really a very pretty demonstration.\" I looked at the round, well-defined muddy discs. \"This is not a footmark,\" said I. \"It is something much more valuable to us. It is the impression of a wooden stump. You see here on the sill is the boot-mark, a heavy boot with the broad metal heel, and beside it is the mark of the timber-toe.\" \"It is the wooden-legged man.\" \"Quite so. But there has been some one else,-a very able and efficient ally. Could you scale that wall, doctor?\" I looked out of the open window. The moon still shone brightly on that angle of the house. We were a good sixty feet from the ground, and, look where I would, I could see no foothold, nor as much as a crevice in the brick-work. \"It is absolutely impossible,\" I answered. \"Without aid it is so. But suppose you had a friend up here who lowered you this good stout\n",
      "--------------------------------------------------------------------------------\n",
      "> \"Just sit in the corner there, that your footprints may not complicate matters. Now to work! In the first place, how did these folk come, and how did they go? The door has not been opened since last night. How of the window?\" He carried the lamp across to it, muttering his observations aloud the while, but addressing them to himself rather than to me. \"Window is snibbed on the inner side. Framework is solid. No hinges at the side. Let us open it. No water-pipe near. Roof quite out of reach. Yet a man has mounted by the window. It rained a little last night. Here is the print of a foot in mould upon the sill. And here is a circular muddy mark, and here again upon the floor, and here again by the table. See here, Watson! This is really a very pretty demonstration.\" I looked at the round, well-defined muddy discs. \"This is not a footmark,\" said I. \"It is something much more valuable to us. It is the impression of a wooden stump. You see here on the sill is the boot-mark, a heavy boot with the broad metal heel, and beside it is the mark of the timber-toe.\" \"It is the wooden-legged man.\" \"Quite so. But there has been some one else,-a very able and efficient ally. Could you scale that wall, doctor?\" I looked out of the open window. The moon still shone brightly on that angle of the house. We were a good sixty feet from the ground, and, look where I would, I could see no foothold, nor as much as a crevice in the brick-work. \"It is absolutely impossible,\" I answered. \"Without aid it is so. But suppose you had a friend up here who lowered you this good stout\n",
      "> Watson carried the lamp across to the window, muttering his observations aloud the while . \"Just sit in the corner there, that your footprints may not complicate matters,\" he said . \"This is not a footmark,\" said I. \"It is the impression of a wooden stump,\" said Watson . \"Quite so, but there has been some one else,\" he replied .\n",
      "--------------------------------------------------------------------------------\n",
      "> \"Just sit in the corner there, that your footprints may not complicate matters. Now to work! In the first place, how did these folk come, and how did they go? The door has not been opened since last night. How of the window?\" He carried the lamp across to it, muttering his observations aloud the while, but addressing them to himself rather than to me. \"Window is snibbed on the inner side. Framework is solid. No hinges at the side. Let us open it. No water-pipe near. Roof quite out of reach. Yet a man has mounted by the window. It rained a little last night. Here is the print of a foot in mould upon the sill. And here is a circular muddy mark, and here again upon the floor, and here again by the table. See here, Watson! This is really a very pretty demonstration.\" I looked at the round, well-defined muddy discs. \"This is not a footmark,\" said I. \"It is something much more valuable to us. It is the impression of a wooden stump. You see here on the sill is the boot-mark, a heavy boot with the broad metal heel, and beside it is the mark of the timber-toe.\" \"It is the wooden-legged man.\" \"Quite so. But there has been some one else,-a very able and efficient ally. Could you scale that wall, doctor?\" I looked out of the open window. The moon still shone brightly on that angle of the house. We were a good sixty feet from the ground, and, look where I would, I could see no foothold, nor as much as a crevice in the brick-work. \"It is absolutely impossible,\" I answered. \"Without aid it is so. But suppose you had a friend up here who lowered you this good stout\n",
      "> The door has not been opened since last night. The window is snibbed on the inner side, the framework is solid, there are no hinges at the side, and the roof is out of reach, but a man has mounted by the window and left footprints on the sill, floor and table.\n",
      "--------------------------------------------------------------------------------\n"
     ]
    },
    {
     "name": "stderr",
     "output_type": "stream",
     "text": [
      "Your max_length is set to 512, but your input_length is only 377. Since this is a summarization task, where outputs shorter than the input are typically wanted, you might consider decreasing max_length manually, e.g. summarizer('...', max_length=188)\n"
     ]
    },
    {
     "name": "stdout",
     "output_type": "stream",
     "text": [
      "> \"Just sit in the corner there, that your footprints may not complicate matters. Now to work! In the first place, how did these folk come, and how did they go? The door has not been opened since last night. How of the window?\" He carried the lamp across to it, muttering his observations aloud the while, but addressing them to himself rather than to me. \"Window is snibbed on the inner side. Framework is solid. No hinges at the side. Let us open it. No water-pipe near. Roof quite out of reach. Yet a man has mounted by the window. It rained a little last night. Here is the print of a foot in mould upon the sill. And here is a circular muddy mark, and here again upon the floor, and here again by the table. See here, Watson! This is really a very pretty demonstration.\" I looked at the round, well-defined muddy discs. \"This is not a footmark,\" said I. \"It is something much more valuable to us. It is the impression of a wooden stump. You see here on the sill is the boot-mark, a heavy boot with the broad metal heel, and beside it is the mark of the timber-toe.\" \"It is the wooden-legged man.\" \"Quite so. But there has been some one else,-a very able and efficient ally. Could you scale that wall, doctor?\" I looked out of the open window. The moon still shone brightly on that angle of the house. We were a good sixty feet from the ground, and, look where I would, I could see no foothold, nor as much as a crevice in the brick-work. \"It is absolutely impossible,\" I answered. \"Without aid it is so. But suppose you had a friend up here who lowered you this good stout\n",
      "> The next morning, Watson and Dr. Rivers go to investigate the damage done to the house. They find that the window has been left open, and that a man has been using it to hide. Watson compares the mark on the sill to a wooden stump, and says that the man is probably a friend of the house, but that it is impossible to scale the wall\n",
      "--------------------------------------------------------------------------------\n",
      "> \"Just sit in the corner there, that your footprints may not complicate matters. Now to work! In the first place, how did these folk come, and how did they go? The door has not been opened since last night. How of the window?\" He carried the lamp across to it, muttering his observations aloud the while, but addressing them to himself rather than to me. \"Window is snibbed on the inner side. Framework is solid. No hinges at the side. Let us open it. No water-pipe near. Roof quite out of reach. Yet a man has mounted by the window. It rained a little last night. Here is the print of a foot in mould upon the sill. And here is a circular muddy mark, and here again upon the floor, and here again by the table. See here, Watson! This is really a very pretty demonstration.\" I looked at the round, well-defined muddy discs. \"This is not a footmark,\" said I. \"It is something much more valuable to us. It is the impression of a wooden stump. You see here on the sill is the boot-mark, a heavy boot with the broad metal heel, and beside it is the mark of the timber-toe.\" \"It is the wooden-legged man.\" \"Quite so. But there has been some one else,-a very able and efficient ally. Could you scale that wall, doctor?\" I looked out of the open window. The moon still shone brightly on that angle of the house. We were a good sixty feet from the ground, and, look where I would, I could see no foothold, nor as much as a crevice in the brick-work. \"It is absolutely impossible,\" I answered. \"Without aid it is so. But suppose you had a friend up here who lowered you this good stout\n",
      "> Watson carried the lamp across to the window, muttering his observations aloud the while . \"Just sit in the corner there, that your footprints may not complicate matters,\" he said . \"This is not a footmark,\" said I. \"It is the impression of a wooden stump,\" said Watson . \"Quite so, but there has been some one else,\" he replied .\n",
      "--------------------------------------------------------------------------------\n",
      "> \"Just sit in the corner there, that your footprints may not complicate matters. Now to work! In the first place, how did these folk come, and how did they go? The door has not been opened since last night. How of the window?\" He carried the lamp across to it, muttering his observations aloud the while, but addressing them to himself rather than to me. \"Window is snibbed on the inner side. Framework is solid. No hinges at the side. Let us open it. No water-pipe near. Roof quite out of reach. Yet a man has mounted by the window. It rained a little last night. Here is the print of a foot in mould upon the sill. And here is a circular muddy mark, and here again upon the floor, and here again by the table. See here, Watson! This is really a very pretty demonstration.\" I looked at the round, well-defined muddy discs. \"This is not a footmark,\" said I. \"It is something much more valuable to us. It is the impression of a wooden stump. You see here on the sill is the boot-mark, a heavy boot with the broad metal heel, and beside it is the mark of the timber-toe.\" \"It is the wooden-legged man.\" \"Quite so. But there has been some one else,-a very able and efficient ally. Could you scale that wall, doctor?\" I looked out of the open window. The moon still shone brightly on that angle of the house. We were a good sixty feet from the ground, and, look where I would, I could see no foothold, nor as much as a crevice in the brick-work. \"It is absolutely impossible,\" I answered. \"Without aid it is so. But suppose you had a friend up here who lowered you this good stout\n",
      "> The door has not been opened since last night. The window is snibbed on the inner side, the framework is solid, there are no hinges at the side, and the roof is out of reach, but a man has mounted by the window and left footprints on the sill, floor and table.\n",
      "--------------------------------------------------------------------------------\n"
     ]
    },
    {
     "name": "stderr",
     "output_type": "stream",
     "text": [
      "Your max_length is set to 512, but your input_length is only 377. Since this is a summarization task, where outputs shorter than the input are typically wanted, you might consider decreasing max_length manually, e.g. summarizer('...', max_length=188)\n"
     ]
    },
    {
     "name": "stdout",
     "output_type": "stream",
     "text": [
      "> \"Just sit in the corner there, that your footprints may not complicate matters. Now to work! In the first place, how did these folk come, and how did they go? The door has not been opened since last night. How of the window?\" He carried the lamp across to it, muttering his observations aloud the while, but addressing them to himself rather than to me. \"Window is snibbed on the inner side. Framework is solid. No hinges at the side. Let us open it. No water-pipe near. Roof quite out of reach. Yet a man has mounted by the window. It rained a little last night. Here is the print of a foot in mould upon the sill. And here is a circular muddy mark, and here again upon the floor, and here again by the table. See here, Watson! This is really a very pretty demonstration.\" I looked at the round, well-defined muddy discs. \"This is not a footmark,\" said I. \"It is something much more valuable to us. It is the impression of a wooden stump. You see here on the sill is the boot-mark, a heavy boot with the broad metal heel, and beside it is the mark of the timber-toe.\" \"It is the wooden-legged man.\" \"Quite so. But there has been some one else,-a very able and efficient ally. Could you scale that wall, doctor?\" I looked out of the open window. The moon still shone brightly on that angle of the house. We were a good sixty feet from the ground, and, look where I would, I could see no foothold, nor as much as a crevice in the brick-work. \"It is absolutely impossible,\" I answered. \"Without aid it is so. But suppose you had a friend up here who lowered you this good stout\n",
      "> The next morning, Watson and Dr. Rivers go to investigate the damage done to the house. They find that the window has been left open, and that a man has been using it to hide. Watson compares the mark on the sill to a wooden stump, and says that the man is probably a friend of the house, but that it is impossible to scale the wall\n",
      "--------------------------------------------------------------------------------\n",
      "> \"Just sit in the corner there, that your footprints may not complicate matters. Now to work! In the first place, how did these folk come, and how did they go? The door has not been opened since last night. How of the window?\" He carried the lamp across to it, muttering his observations aloud the while, but addressing them to himself rather than to me. \"Window is snibbed on the inner side. Framework is solid. No hinges at the side. Let us open it. No water-pipe near. Roof quite out of reach. Yet a man has mounted by the window. It rained a little last night. Here is the print of a foot in mould upon the sill. And here is a circular muddy mark, and here again upon the floor, and here again by the table. See here, Watson! This is really a very pretty demonstration.\" I looked at the round, well-defined muddy discs. \"This is not a footmark,\" said I. \"It is something much more valuable to us. It is the impression of a wooden stump. You see here on the sill is the boot-mark, a heavy boot with the broad metal heel, and beside it is the mark of the timber-toe.\" \"It is the wooden-legged man.\" \"Quite so. But there has been some one else,-a very able and efficient ally. Could you scale that wall, doctor?\" I looked out of the open window. The moon still shone brightly on that angle of the house. We were a good sixty feet from the ground, and, look where I would, I could see no foothold, nor as much as a crevice in the brick-work. \"It is absolutely impossible,\" I answered. \"Without aid it is so. But suppose you had a friend up here who lowered you this good stout\n",
      "> Watson carried the lamp across to the window, muttering his observations aloud the while . \"Just sit in the corner there, that your footprints may not complicate matters,\" he said . \"This is not a footmark,\" said I. \"It is the impression of a wooden stump,\" said Watson . \"Quite so, but there has been some one else,\" he replied .\n"
     ]
    },
    {
     "name": "stderr",
     "output_type": "stream",
     "text": [
      "Some weights of RobertaModel were not initialized from the model checkpoint at roberta-large and are newly initialized: ['roberta.pooler.dense.bias', 'roberta.pooler.dense.weight']\n",
      "You should probably TRAIN this model on a down-stream task to be able to use it for predictions and inference.\n"
     ]
    },
    {
     "name": "stdout",
     "output_type": "stream",
     "text": [
      "--------------------------------------------------------------------------------\n",
      "> \"Just sit in the corner there, that your footprints may not complicate matters. Now to work! In the first place, how did these folk come, and how did they go? The door has not been opened since last night. How of the window?\" He carried the lamp across to it, muttering his observations aloud the while, but addressing them to himself rather than to me. \"Window is snibbed on the inner side. Framework is solid. No hinges at the side. Let us open it. No water-pipe near. Roof quite out of reach. Yet a man has mounted by the window. It rained a little last night. Here is the print of a foot in mould upon the sill. And here is a circular muddy mark, and here again upon the floor, and here again by the table. See here, Watson! This is really a very pretty demonstration.\" I looked at the round, well-defined muddy discs. \"This is not a footmark,\" said I. \"It is something much more valuable to us. It is the impression of a wooden stump. You see here on the sill is the boot-mark, a heavy boot with the broad metal heel, and beside it is the mark of the timber-toe.\" \"It is the wooden-legged man.\" \"Quite so. But there has been some one else,-a very able and efficient ally. Could you scale that wall, doctor?\" I looked out of the open window. The moon still shone brightly on that angle of the house. We were a good sixty feet from the ground, and, look where I would, I could see no foothold, nor as much as a crevice in the brick-work. \"It is absolutely impossible,\" I answered. \"Without aid it is so. But suppose you had a friend up here who lowered you this good stout\n",
      "> The door has not been opened since last night. The window is snibbed on the inner side, the framework is solid, there are no hinges at the side, and the roof is out of reach, but a man has mounted by the window and left footprints on the sill, floor and table.\n"
     ]
    },
    {
     "name": "stderr",
     "output_type": "stream",
     "text": [
      "Some weights of RobertaModel were not initialized from the model checkpoint at roberta-large and are newly initialized: ['roberta.pooler.dense.bias', 'roberta.pooler.dense.weight']\n",
      "You should probably TRAIN this model on a down-stream task to be able to use it for predictions and inference.\n"
     ]
    },
    {
     "name": "stdout",
     "output_type": "stream",
     "text": [
      "--------------------------------------------------------------------------------\n"
     ]
    },
    {
     "name": "stderr",
     "output_type": "stream",
     "text": [
      "Your max_length is set to 512, but your input_length is only 377. Since this is a summarization task, where outputs shorter than the input are typically wanted, you might consider decreasing max_length manually, e.g. summarizer('...', max_length=188)\n"
     ]
    },
    {
     "name": "stdout",
     "output_type": "stream",
     "text": [
      "> \"Just sit in the corner there, that your footprints may not complicate matters. Now to work! In the first place, how did these folk come, and how did they go? The door has not been opened since last night. How of the window?\" He carried the lamp across to it, muttering his observations aloud the while, but addressing them to himself rather than to me. \"Window is snibbed on the inner side. Framework is solid. No hinges at the side. Let us open it. No water-pipe near. Roof quite out of reach. Yet a man has mounted by the window. It rained a little last night. Here is the print of a foot in mould upon the sill. And here is a circular muddy mark, and here again upon the floor, and here again by the table. See here, Watson! This is really a very pretty demonstration.\" I looked at the round, well-defined muddy discs. \"This is not a footmark,\" said I. \"It is something much more valuable to us. It is the impression of a wooden stump. You see here on the sill is the boot-mark, a heavy boot with the broad metal heel, and beside it is the mark of the timber-toe.\" \"It is the wooden-legged man.\" \"Quite so. But there has been some one else,-a very able and efficient ally. Could you scale that wall, doctor?\" I looked out of the open window. The moon still shone brightly on that angle of the house. We were a good sixty feet from the ground, and, look where I would, I could see no foothold, nor as much as a crevice in the brick-work. \"It is absolutely impossible,\" I answered. \"Without aid it is so. But suppose you had a friend up here who lowered you this good stout\n",
      "> The next morning, Watson and Dr. Rivers go to investigate the damage done to the house. They find that the window has been left open, and that a man has been using it to hide. Watson compares the mark on the sill to a wooden stump, and says that the man is probably a friend of the house, but that it is impossible to scale the wall\n"
     ]
    },
    {
     "name": "stderr",
     "output_type": "stream",
     "text": [
      "Some weights of RobertaModel were not initialized from the model checkpoint at roberta-large and are newly initialized: ['roberta.pooler.dense.bias', 'roberta.pooler.dense.weight']\n",
      "You should probably TRAIN this model on a down-stream task to be able to use it for predictions and inference.\n"
     ]
    },
    {
     "name": "stdout",
     "output_type": "stream",
     "text": [
      "--------------------------------------------------------------------------------\n",
      "> \"Just sit in the corner there, that your footprints may not complicate matters. Now to work! In the first place, how did these folk come, and how did they go? The door has not been opened since last night. How of the window?\" He carried the lamp across to it, muttering his observations aloud the while, but addressing them to himself rather than to me. \"Window is snibbed on the inner side. Framework is solid. No hinges at the side. Let us open it. No water-pipe near. Roof quite out of reach. Yet a man has mounted by the window. It rained a little last night. Here is the print of a foot in mould upon the sill. And here is a circular muddy mark, and here again upon the floor, and here again by the table. See here, Watson! This is really a very pretty demonstration.\" I looked at the round, well-defined muddy discs. \"This is not a footmark,\" said I. \"It is something much more valuable to us. It is the impression of a wooden stump. You see here on the sill is the boot-mark, a heavy boot with the broad metal heel, and beside it is the mark of the timber-toe.\" \"It is the wooden-legged man.\" \"Quite so. But there has been some one else,-a very able and efficient ally. Could you scale that wall, doctor?\" I looked out of the open window. The moon still shone brightly on that angle of the house. We were a good sixty feet from the ground, and, look where I would, I could see no foothold, nor as much as a crevice in the brick-work. \"It is absolutely impossible,\" I answered. \"Without aid it is so. But suppose you had a friend up here who lowered you this good stout\n",
      "> Watson carried the lamp across to the window, muttering his observations aloud the while . \"Just sit in the corner there, that your footprints may not complicate matters,\" he said . \"This is not a footmark,\" said I. \"It is the impression of a wooden stump,\" said Watson . \"Quite so, but there has been some one else,\" he replied .\n",
      "--------------------------------------------------------------------------------\n",
      "> \"Just sit in the corner there, that your footprints may not complicate matters. Now to work! In the first place, how did these folk come, and how did they go? The door has not been opened since last night. How of the window?\" He carried the lamp across to it, muttering his observations aloud the while, but addressing them to himself rather than to me. \"Window is snibbed on the inner side. Framework is solid. No hinges at the side. Let us open it. No water-pipe near. Roof quite out of reach. Yet a man has mounted by the window. It rained a little last night. Here is the print of a foot in mould upon the sill. And here is a circular muddy mark, and here again upon the floor, and here again by the table. See here, Watson! This is really a very pretty demonstration.\" I looked at the round, well-defined muddy discs. \"This is not a footmark,\" said I. \"It is something much more valuable to us. It is the impression of a wooden stump. You see here on the sill is the boot-mark, a heavy boot with the broad metal heel, and beside it is the mark of the timber-toe.\" \"It is the wooden-legged man.\" \"Quite so. But there has been some one else,-a very able and efficient ally. Could you scale that wall, doctor?\" I looked out of the open window. The moon still shone brightly on that angle of the house. We were a good sixty feet from the ground, and, look where I would, I could see no foothold, nor as much as a crevice in the brick-work. \"It is absolutely impossible,\" I answered. \"Without aid it is so. But suppose you had a friend up here who lowered you this good stout\n",
      "> The door has not been opened since last night. The window is snibbed on the inner side, the framework is solid, there are no hinges at the side, and the roof is out of reach, but a man has mounted by the window and left footprints on the sill, floor and table.\n",
      "--------------------------------------------------------------------------------\n"
     ]
    },
    {
     "name": "stderr",
     "output_type": "stream",
     "text": [
      "Your max_length is set to 512, but your input_length is only 377. Since this is a summarization task, where outputs shorter than the input are typically wanted, you might consider decreasing max_length manually, e.g. summarizer('...', max_length=188)\n"
     ]
    },
    {
     "name": "stdout",
     "output_type": "stream",
     "text": [
      "> \"Just sit in the corner there, that your footprints may not complicate matters. Now to work! In the first place, how did these folk come, and how did they go? The door has not been opened since last night. How of the window?\" He carried the lamp across to it, muttering his observations aloud the while, but addressing them to himself rather than to me. \"Window is snibbed on the inner side. Framework is solid. No hinges at the side. Let us open it. No water-pipe near. Roof quite out of reach. Yet a man has mounted by the window. It rained a little last night. Here is the print of a foot in mould upon the sill. And here is a circular muddy mark, and here again upon the floor, and here again by the table. See here, Watson! This is really a very pretty demonstration.\" I looked at the round, well-defined muddy discs. \"This is not a footmark,\" said I. \"It is something much more valuable to us. It is the impression of a wooden stump. You see here on the sill is the boot-mark, a heavy boot with the broad metal heel, and beside it is the mark of the timber-toe.\" \"It is the wooden-legged man.\" \"Quite so. But there has been some one else,-a very able and efficient ally. Could you scale that wall, doctor?\" I looked out of the open window. The moon still shone brightly on that angle of the house. We were a good sixty feet from the ground, and, look where I would, I could see no foothold, nor as much as a crevice in the brick-work. \"It is absolutely impossible,\" I answered. \"Without aid it is so. But suppose you had a friend up here who lowered you this good stout\n",
      "> The next morning, Watson and Dr. Rivers go to investigate the damage done to the house. They find that the window has been left open, and that a man has been using it to hide. Watson compares the mark on the sill to a wooden stump, and says that the man is probably a friend of the house, but that it is impossible to scale the wall\n",
      "Found: ['resolution.0.md', 'resolution.qa.md']\n",
      "################################################################################\n",
      "################################################################################\n",
      "A map is drawn for them by an Englishman named Jonathan Small. You remember that we saw the name upon the chart in Captain Morstan's possession. He had signed it in behalf of himself and his associates,-the sign of the four, as he somewhat dramatically called it. Aided by this chart, the officers-or one of them-gets the treasure and brings it to England, leaving, we will suppose, some condition under which he received it unfulfilled. Now, then, why did not Jonathan Small get the treasure himself? The answer is obvious. The chart is dated at a time when Morstan was brought into close association with convicts. Jonathan Small did not get the treasure because he and his associates were themselves convicts and could not get away.\" \"But that is mere speculation,\" said I. \"It is more than that. It is the only hypothesis which covers the facts. Let us see how it fits in with the sequel. Major Sholto remains at peace for some years, happy in the possession of his treasure. Then he receives a letter from India which gives him a great fright. What was that?\" \"A letter to say that the men whom he had wronged had been set free.\" \"Or had escaped. That is much more likely, for he would have known what their term of imprisonment was. It would not have been a surprise to him. What does he do then? He guards himself against a wooden-legged man,-a white man, mark you, for he mistakes a white tradesman for him, and actually fires a pistol at him. Now, only one white man's name is on the chart. The others are Hindoos or Mohammedans. There is no other white man. Therefore we may say with confidence that the wooden-legged man is identical with Jonathan Small. Does\n",
      "--------------------------------------------------------------------------------\n",
      "> A map is drawn for them by an Englishman named Jonathan Small. You remember that we saw the name upon the chart in Captain Morstan's possession. He had signed it in behalf of himself and his associates,-the sign of the four, as he somewhat dramatically called it. Aided by this chart, the officers-or one of them-gets the treasure and brings it to England, leaving, we will suppose, some condition under which he received it unfulfilled. Now, then, why did not Jonathan Small get the treasure himself? The answer is obvious. The chart is dated at a time when Morstan was brought into close association with convicts. Jonathan Small did not get the treasure because he and his associates were themselves convicts and could not get away.\" \"But that is mere speculation,\" said I. \"It is more than that. It is the only hypothesis which covers the facts. Let us see how it fits in with the sequel. Major Sholto remains at peace for some years, happy in the possession of his treasure. Then he receives a letter from India which gives him a great fright. What was that?\" \"A letter to say that the men whom he had wronged had been set free.\" \"Or had escaped. That is much more likely, for he would have known what their term of imprisonment was. It would not have been a surprise to him. What does he do then? He guards himself against a wooden-legged man,-a white man, mark you, for he mistakes a white tradesman for him, and actually fires a pistol at him. Now, only one white man's name is on the chart. The others are Hindoos or Mohammedans. There is no other white man. Therefore we may say with confidence that the wooden-legged man is identical with Jonathan Small. Does\n",
      "> A map is drawn for them by an Englishman named Jonathan Small . Aided by this chart, the officers- or one of them- gets the treasure and brings it to England . Now, then, why did not Jonathan Small get the treasure himself? The answer is obvious . The chart is dated at a time when Morstan was brought into close association with convicts .\n",
      "--------------------------------------------------------------------------------\n",
      "> A map is drawn for them by an Englishman named Jonathan Small. You remember that we saw the name upon the chart in Captain Morstan's possession. He had signed it in behalf of himself and his associates,-the sign of the four, as he somewhat dramatically called it. Aided by this chart, the officers-or one of them-gets the treasure and brings it to England, leaving, we will suppose, some condition under which he received it unfulfilled. Now, then, why did not Jonathan Small get the treasure himself? The answer is obvious. The chart is dated at a time when Morstan was brought into close association with convicts. Jonathan Small did not get the treasure because he and his associates were themselves convicts and could not get away.\" \"But that is mere speculation,\" said I. \"It is more than that. It is the only hypothesis which covers the facts. Let us see how it fits in with the sequel. Major Sholto remains at peace for some years, happy in the possession of his treasure. Then he receives a letter from India which gives him a great fright. What was that?\" \"A letter to say that the men whom he had wronged had been set free.\" \"Or had escaped. That is much more likely, for he would have known what their term of imprisonment was. It would not have been a surprise to him. What does he do then? He guards himself against a wooden-legged man,-a white man, mark you, for he mistakes a white tradesman for him, and actually fires a pistol at him. Now, only one white man's name is on the chart. The others are Hindoos or Mohammedans. There is no other white man. Therefore we may say with confidence that the wooden-legged man is identical with Jonathan Small. Does\n",
      "> Jonathan Small drew a map for Captain Morstan and his associates and they got the treasure. Major Sholto received a letter from India saying that the men whom he had wronged had been set free or escaped. He guards himself against a wooden-legged man and fires a pistol at him.\n",
      "--------------------------------------------------------------------------------\n"
     ]
    },
    {
     "name": "stderr",
     "output_type": "stream",
     "text": [
      "Your max_length is set to 512, but your input_length is only 373. Since this is a summarization task, where outputs shorter than the input are typically wanted, you might consider decreasing max_length manually, e.g. summarizer('...', max_length=186)\n"
     ]
    },
    {
     "name": "stdout",
     "output_type": "stream",
     "text": [
      "> A map is drawn for them by an Englishman named Jonathan Small. You remember that we saw the name upon the chart in Captain Morstan's possession. He had signed it in behalf of himself and his associates,-the sign of the four, as he somewhat dramatically called it. Aided by this chart, the officers-or one of them-gets the treasure and brings it to England, leaving, we will suppose, some condition under which he received it unfulfilled. Now, then, why did not Jonathan Small get the treasure himself? The answer is obvious. The chart is dated at a time when Morstan was brought into close association with convicts. Jonathan Small did not get the treasure because he and his associates were themselves convicts and could not get away.\" \"But that is mere speculation,\" said I. \"It is more than that. It is the only hypothesis which covers the facts. Let us see how it fits in with the sequel. Major Sholto remains at peace for some years, happy in the possession of his treasure. Then he receives a letter from India which gives him a great fright. What was that?\" \"A letter to say that the men whom he had wronged had been set free.\" \"Or had escaped. That is much more likely, for he would have known what their term of imprisonment was. It would not have been a surprise to him. What does he do then? He guards himself against a wooden-legged man,-a white man, mark you, for he mistakes a white tradesman for him, and actually fires a pistol at him. Now, only one white man's name is on the chart. The others are Hindoos or Mohammedans. There is no other white man. Therefore we may say with confidence that the wooden-legged man is identical with Jonathan Small. Does\n",
      "> Jonathan Small draws a map for the four men. He signs it in behalf himself and his friends. The officers or one of them gets the treasure and returns it to England. Jonathan Small does not get it because he and the other convicts were themselves prisoners and could not escape. This is the only explanation that covers the facts, and it fits in well with the next chapter. Sholto is happy with his treasure for a long time, but then he receives a fright from India. He receives a letter saying that the men who he wronged had been released or had escaped. He guards himself with a white man. The white man mistakes him for a tradesman, and fires a gun at him\n",
      "--------------------------------------------------------------------------------\n",
      "> A map is drawn for them by an Englishman named Jonathan Small. You remember that we saw the name upon the chart in Captain Morstan's possession. He had signed it in behalf of himself and his associates,-the sign of the four, as he somewhat dramatically called it. Aided by this chart, the officers-or one of them-gets the treasure and brings it to England, leaving, we will suppose, some condition under which he received it unfulfilled. Now, then, why did not Jonathan Small get the treasure himself? The answer is obvious. The chart is dated at a time when Morstan was brought into close association with convicts. Jonathan Small did not get the treasure because he and his associates were themselves convicts and could not get away.\" \"But that is mere speculation,\" said I. \"It is more than that. It is the only hypothesis which covers the facts. Let us see how it fits in with the sequel. Major Sholto remains at peace for some years, happy in the possession of his treasure. Then he receives a letter from India which gives him a great fright. What was that?\" \"A letter to say that the men whom he had wronged had been set free.\" \"Or had escaped. That is much more likely, for he would have known what their term of imprisonment was. It would not have been a surprise to him. What does he do then? He guards himself against a wooden-legged man,-a white man, mark you, for he mistakes a white tradesman for him, and actually fires a pistol at him. Now, only one white man's name is on the chart. The others are Hindoos or Mohammedans. There is no other white man. Therefore we may say with confidence that the wooden-legged man is identical with Jonathan Small. Does\n",
      "> A map is drawn for them by an Englishman named Jonathan Small . Aided by this chart, the officers- or one of them- gets the treasure and brings it to England . Now, then, why did not Jonathan Small get the treasure himself? The answer is obvious . The chart is dated at a time when Morstan was brought into close association with convicts .\n",
      "--------------------------------------------------------------------------------\n",
      "> A map is drawn for them by an Englishman named Jonathan Small. You remember that we saw the name upon the chart in Captain Morstan's possession. He had signed it in behalf of himself and his associates,-the sign of the four, as he somewhat dramatically called it. Aided by this chart, the officers-or one of them-gets the treasure and brings it to England, leaving, we will suppose, some condition under which he received it unfulfilled. Now, then, why did not Jonathan Small get the treasure himself? The answer is obvious. The chart is dated at a time when Morstan was brought into close association with convicts. Jonathan Small did not get the treasure because he and his associates were themselves convicts and could not get away.\" \"But that is mere speculation,\" said I. \"It is more than that. It is the only hypothesis which covers the facts. Let us see how it fits in with the sequel. Major Sholto remains at peace for some years, happy in the possession of his treasure. Then he receives a letter from India which gives him a great fright. What was that?\" \"A letter to say that the men whom he had wronged had been set free.\" \"Or had escaped. That is much more likely, for he would have known what their term of imprisonment was. It would not have been a surprise to him. What does he do then? He guards himself against a wooden-legged man,-a white man, mark you, for he mistakes a white tradesman for him, and actually fires a pistol at him. Now, only one white man's name is on the chart. The others are Hindoos or Mohammedans. There is no other white man. Therefore we may say with confidence that the wooden-legged man is identical with Jonathan Small. Does\n",
      "> Jonathan Small drew a map for Captain Morstan and his associates and they got the treasure. Major Sholto received a letter from India saying that the men whom he had wronged had been set free or escaped. He guards himself against a wooden-legged man and fires a pistol at him.\n",
      "--------------------------------------------------------------------------------\n"
     ]
    },
    {
     "name": "stderr",
     "output_type": "stream",
     "text": [
      "Your max_length is set to 512, but your input_length is only 373. Since this is a summarization task, where outputs shorter than the input are typically wanted, you might consider decreasing max_length manually, e.g. summarizer('...', max_length=186)\n"
     ]
    },
    {
     "name": "stdout",
     "output_type": "stream",
     "text": [
      "> A map is drawn for them by an Englishman named Jonathan Small. You remember that we saw the name upon the chart in Captain Morstan's possession. He had signed it in behalf of himself and his associates,-the sign of the four, as he somewhat dramatically called it. Aided by this chart, the officers-or one of them-gets the treasure and brings it to England, leaving, we will suppose, some condition under which he received it unfulfilled. Now, then, why did not Jonathan Small get the treasure himself? The answer is obvious. The chart is dated at a time when Morstan was brought into close association with convicts. Jonathan Small did not get the treasure because he and his associates were themselves convicts and could not get away.\" \"But that is mere speculation,\" said I. \"It is more than that. It is the only hypothesis which covers the facts. Let us see how it fits in with the sequel. Major Sholto remains at peace for some years, happy in the possession of his treasure. Then he receives a letter from India which gives him a great fright. What was that?\" \"A letter to say that the men whom he had wronged had been set free.\" \"Or had escaped. That is much more likely, for he would have known what their term of imprisonment was. It would not have been a surprise to him. What does he do then? He guards himself against a wooden-legged man,-a white man, mark you, for he mistakes a white tradesman for him, and actually fires a pistol at him. Now, only one white man's name is on the chart. The others are Hindoos or Mohammedans. There is no other white man. Therefore we may say with confidence that the wooden-legged man is identical with Jonathan Small. Does\n",
      "> Jonathan Small draws a map for the four men. He signs it in behalf himself and his friends. The officers or one of them gets the treasure and returns it to England. Jonathan Small does not get it because he and the other convicts were themselves prisoners and could not escape. This is the only explanation that covers the facts, and it fits in well with the next chapter. Sholto is happy with his treasure for a long time, but then he receives a fright from India. He receives a letter saying that the men who he wronged had been released or had escaped. He guards himself with a white man. The white man mistakes him for a tradesman, and fires a gun at him\n",
      "--------------------------------------------------------------------------------\n",
      "> A map is drawn for them by an Englishman named Jonathan Small. You remember that we saw the name upon the chart in Captain Morstan's possession. He had signed it in behalf of himself and his associates,-the sign of the four, as he somewhat dramatically called it. Aided by this chart, the officers-or one of them-gets the treasure and brings it to England, leaving, we will suppose, some condition under which he received it unfulfilled. Now, then, why did not Jonathan Small get the treasure himself? The answer is obvious. The chart is dated at a time when Morstan was brought into close association with convicts. Jonathan Small did not get the treasure because he and his associates were themselves convicts and could not get away.\" \"But that is mere speculation,\" said I. \"It is more than that. It is the only hypothesis which covers the facts. Let us see how it fits in with the sequel. Major Sholto remains at peace for some years, happy in the possession of his treasure. Then he receives a letter from India which gives him a great fright. What was that?\" \"A letter to say that the men whom he had wronged had been set free.\" \"Or had escaped. That is much more likely, for he would have known what their term of imprisonment was. It would not have been a surprise to him. What does he do then? He guards himself against a wooden-legged man,-a white man, mark you, for he mistakes a white tradesman for him, and actually fires a pistol at him. Now, only one white man's name is on the chart. The others are Hindoos or Mohammedans. There is no other white man. Therefore we may say with confidence that the wooden-legged man is identical with Jonathan Small. Does\n",
      "> A map is drawn for them by an Englishman named Jonathan Small . Aided by this chart, the officers- or one of them- gets the treasure and brings it to England . Now, then, why did not Jonathan Small get the treasure himself? The answer is obvious . The chart is dated at a time when Morstan was brought into close association with convicts .\n"
     ]
    },
    {
     "name": "stderr",
     "output_type": "stream",
     "text": [
      "Some weights of RobertaModel were not initialized from the model checkpoint at roberta-large and are newly initialized: ['roberta.pooler.dense.bias', 'roberta.pooler.dense.weight']\n",
      "You should probably TRAIN this model on a down-stream task to be able to use it for predictions and inference.\n"
     ]
    },
    {
     "name": "stdout",
     "output_type": "stream",
     "text": [
      "--------------------------------------------------------------------------------\n",
      "> A map is drawn for them by an Englishman named Jonathan Small. You remember that we saw the name upon the chart in Captain Morstan's possession. He had signed it in behalf of himself and his associates,-the sign of the four, as he somewhat dramatically called it. Aided by this chart, the officers-or one of them-gets the treasure and brings it to England, leaving, we will suppose, some condition under which he received it unfulfilled. Now, then, why did not Jonathan Small get the treasure himself? The answer is obvious. The chart is dated at a time when Morstan was brought into close association with convicts. Jonathan Small did not get the treasure because he and his associates were themselves convicts and could not get away.\" \"But that is mere speculation,\" said I. \"It is more than that. It is the only hypothesis which covers the facts. Let us see how it fits in with the sequel. Major Sholto remains at peace for some years, happy in the possession of his treasure. Then he receives a letter from India which gives him a great fright. What was that?\" \"A letter to say that the men whom he had wronged had been set free.\" \"Or had escaped. That is much more likely, for he would have known what their term of imprisonment was. It would not have been a surprise to him. What does he do then? He guards himself against a wooden-legged man,-a white man, mark you, for he mistakes a white tradesman for him, and actually fires a pistol at him. Now, only one white man's name is on the chart. The others are Hindoos or Mohammedans. There is no other white man. Therefore we may say with confidence that the wooden-legged man is identical with Jonathan Small. Does\n",
      "> Jonathan Small drew a map for Captain Morstan and his associates and they got the treasure. Major Sholto received a letter from India saying that the men whom he had wronged had been set free or escaped. He guards himself against a wooden-legged man and fires a pistol at him.\n"
     ]
    },
    {
     "name": "stderr",
     "output_type": "stream",
     "text": [
      "Some weights of RobertaModel were not initialized from the model checkpoint at roberta-large and are newly initialized: ['roberta.pooler.dense.bias', 'roberta.pooler.dense.weight']\n",
      "You should probably TRAIN this model on a down-stream task to be able to use it for predictions and inference.\n"
     ]
    },
    {
     "name": "stdout",
     "output_type": "stream",
     "text": [
      "--------------------------------------------------------------------------------\n"
     ]
    },
    {
     "name": "stderr",
     "output_type": "stream",
     "text": [
      "Your max_length is set to 512, but your input_length is only 373. Since this is a summarization task, where outputs shorter than the input are typically wanted, you might consider decreasing max_length manually, e.g. summarizer('...', max_length=186)\n"
     ]
    },
    {
     "name": "stdout",
     "output_type": "stream",
     "text": [
      "> A map is drawn for them by an Englishman named Jonathan Small. You remember that we saw the name upon the chart in Captain Morstan's possession. He had signed it in behalf of himself and his associates,-the sign of the four, as he somewhat dramatically called it. Aided by this chart, the officers-or one of them-gets the treasure and brings it to England, leaving, we will suppose, some condition under which he received it unfulfilled. Now, then, why did not Jonathan Small get the treasure himself? The answer is obvious. The chart is dated at a time when Morstan was brought into close association with convicts. Jonathan Small did not get the treasure because he and his associates were themselves convicts and could not get away.\" \"But that is mere speculation,\" said I. \"It is more than that. It is the only hypothesis which covers the facts. Let us see how it fits in with the sequel. Major Sholto remains at peace for some years, happy in the possession of his treasure. Then he receives a letter from India which gives him a great fright. What was that?\" \"A letter to say that the men whom he had wronged had been set free.\" \"Or had escaped. That is much more likely, for he would have known what their term of imprisonment was. It would not have been a surprise to him. What does he do then? He guards himself against a wooden-legged man,-a white man, mark you, for he mistakes a white tradesman for him, and actually fires a pistol at him. Now, only one white man's name is on the chart. The others are Hindoos or Mohammedans. There is no other white man. Therefore we may say with confidence that the wooden-legged man is identical with Jonathan Small. Does\n",
      "> Jonathan Small draws a map for the four men. He signs it in behalf himself and his friends. The officers or one of them gets the treasure and returns it to England. Jonathan Small does not get it because he and the other convicts were themselves prisoners and could not escape. This is the only explanation that covers the facts, and it fits in well with the next chapter. Sholto is happy with his treasure for a long time, but then he receives a fright from India. He receives a letter saying that the men who he wronged had been released or had escaped. He guards himself with a white man. The white man mistakes him for a tradesman, and fires a gun at him\n"
     ]
    },
    {
     "name": "stderr",
     "output_type": "stream",
     "text": [
      "Some weights of RobertaModel were not initialized from the model checkpoint at roberta-large and are newly initialized: ['roberta.pooler.dense.bias', 'roberta.pooler.dense.weight']\n",
      "You should probably TRAIN this model on a down-stream task to be able to use it for predictions and inference.\n"
     ]
    },
    {
     "name": "stdout",
     "output_type": "stream",
     "text": [
      "--------------------------------------------------------------------------------\n",
      "> A map is drawn for them by an Englishman named Jonathan Small. You remember that we saw the name upon the chart in Captain Morstan's possession. He had signed it in behalf of himself and his associates,-the sign of the four, as he somewhat dramatically called it. Aided by this chart, the officers-or one of them-gets the treasure and brings it to England, leaving, we will suppose, some condition under which he received it unfulfilled. Now, then, why did not Jonathan Small get the treasure himself? The answer is obvious. The chart is dated at a time when Morstan was brought into close association with convicts. Jonathan Small did not get the treasure because he and his associates were themselves convicts and could not get away.\" \"But that is mere speculation,\" said I. \"It is more than that. It is the only hypothesis which covers the facts. Let us see how it fits in with the sequel. Major Sholto remains at peace for some years, happy in the possession of his treasure. Then he receives a letter from India which gives him a great fright. What was that?\" \"A letter to say that the men whom he had wronged had been set free.\" \"Or had escaped. That is much more likely, for he would have known what their term of imprisonment was. It would not have been a surprise to him. What does he do then? He guards himself against a wooden-legged man,-a white man, mark you, for he mistakes a white tradesman for him, and actually fires a pistol at him. Now, only one white man's name is on the chart. The others are Hindoos or Mohammedans. There is no other white man. Therefore we may say with confidence that the wooden-legged man is identical with Jonathan Small. Does\n",
      "> A map is drawn for them by an Englishman named Jonathan Small . Aided by this chart, the officers- or one of them- gets the treasure and brings it to England . Now, then, why did not Jonathan Small get the treasure himself? The answer is obvious . The chart is dated at a time when Morstan was brought into close association with convicts .\n",
      "--------------------------------------------------------------------------------\n",
      "> A map is drawn for them by an Englishman named Jonathan Small. You remember that we saw the name upon the chart in Captain Morstan's possession. He had signed it in behalf of himself and his associates,-the sign of the four, as he somewhat dramatically called it. Aided by this chart, the officers-or one of them-gets the treasure and brings it to England, leaving, we will suppose, some condition under which he received it unfulfilled. Now, then, why did not Jonathan Small get the treasure himself? The answer is obvious. The chart is dated at a time when Morstan was brought into close association with convicts. Jonathan Small did not get the treasure because he and his associates were themselves convicts and could not get away.\" \"But that is mere speculation,\" said I. \"It is more than that. It is the only hypothesis which covers the facts. Let us see how it fits in with the sequel. Major Sholto remains at peace for some years, happy in the possession of his treasure. Then he receives a letter from India which gives him a great fright. What was that?\" \"A letter to say that the men whom he had wronged had been set free.\" \"Or had escaped. That is much more likely, for he would have known what their term of imprisonment was. It would not have been a surprise to him. What does he do then? He guards himself against a wooden-legged man,-a white man, mark you, for he mistakes a white tradesman for him, and actually fires a pistol at him. Now, only one white man's name is on the chart. The others are Hindoos or Mohammedans. There is no other white man. Therefore we may say with confidence that the wooden-legged man is identical with Jonathan Small. Does\n",
      "> Jonathan Small drew a map for Captain Morstan and his associates and they got the treasure. Major Sholto received a letter from India saying that the men whom he had wronged had been set free or escaped. He guards himself against a wooden-legged man and fires a pistol at him.\n",
      "--------------------------------------------------------------------------------\n"
     ]
    },
    {
     "name": "stderr",
     "output_type": "stream",
     "text": [
      "Your max_length is set to 512, but your input_length is only 373. Since this is a summarization task, where outputs shorter than the input are typically wanted, you might consider decreasing max_length manually, e.g. summarizer('...', max_length=186)\n"
     ]
    },
    {
     "name": "stdout",
     "output_type": "stream",
     "text": [
      "> A map is drawn for them by an Englishman named Jonathan Small. You remember that we saw the name upon the chart in Captain Morstan's possession. He had signed it in behalf of himself and his associates,-the sign of the four, as he somewhat dramatically called it. Aided by this chart, the officers-or one of them-gets the treasure and brings it to England, leaving, we will suppose, some condition under which he received it unfulfilled. Now, then, why did not Jonathan Small get the treasure himself? The answer is obvious. The chart is dated at a time when Morstan was brought into close association with convicts. Jonathan Small did not get the treasure because he and his associates were themselves convicts and could not get away.\" \"But that is mere speculation,\" said I. \"It is more than that. It is the only hypothesis which covers the facts. Let us see how it fits in with the sequel. Major Sholto remains at peace for some years, happy in the possession of his treasure. Then he receives a letter from India which gives him a great fright. What was that?\" \"A letter to say that the men whom he had wronged had been set free.\" \"Or had escaped. That is much more likely, for he would have known what their term of imprisonment was. It would not have been a surprise to him. What does he do then? He guards himself against a wooden-legged man,-a white man, mark you, for he mistakes a white tradesman for him, and actually fires a pistol at him. Now, only one white man's name is on the chart. The others are Hindoos or Mohammedans. There is no other white man. Therefore we may say with confidence that the wooden-legged man is identical with Jonathan Small. Does\n",
      "> Jonathan Small draws a map for the four men. He signs it in behalf himself and his friends. The officers or one of them gets the treasure and returns it to England. Jonathan Small does not get it because he and the other convicts were themselves prisoners and could not escape. This is the only explanation that covers the facts, and it fits in well with the next chapter. Sholto is happy with his treasure for a long time, but then he receives a fright from India. He receives a letter saying that the men who he wronged had been released or had escaped. He guards himself with a white man. The white man mistakes him for a tradesman, and fires a gun at him\n"
     ]
    }
   ],
   "source": [
    "ctxs = [\"protagonist\", \"antagonist\", \"crime\", \"evidence\", \"resolution\"]\n",
    "\n",
    "csvfile = \"res_sum.csv\"\n",
    "\n",
    "header = [\n",
    "    \"ctx_name\",\n",
    "    \"ctx_fname\",\n",
    "    \"ctx_text\",\n",
    "    \"model_idx\",\n",
    "    \"model_name\",\n",
    "    \"answer_pred\",\n",
    "]\n",
    "\n",
    "rows = []\n",
    "\n",
    "# Will need to adjust column headers so we know which header is for which metric\n",
    "for ctx_name in ctxs:\n",
    "    for i, (fname, ctx) in enumerate(utils.read_context(ctx_name)):\n",
    "        fname = os.path.basename(fname)\n",
    "        print(\"#\" * 80)\n",
    "        print(\"#\" * 80)\n",
    "        print(ctx)\n",
    "        \n",
    "        scores_by_model = defaultdict(list)\n",
    "        model_answers = defaultdict(list)\n",
    "        \n",
    "        # Loop through the metrics we are using\n",
    "        for metric in score_metrics:\n",
    "            if metric == \"bertscore\":\n",
    "                answers, scores = run_models(\n",
    "                    ctx, \n",
    "                    models=models, \n",
    "                    expected_answer=ctx, \n",
    "                    metric=metric, \n",
    "                    lang='en'\n",
    "                )\n",
    "            else:\n",
    "                answers, scores = run_models(\n",
    "                    ctx, \n",
    "                    models=models, \n",
    "                    expected_answer=ctx, \n",
    "                    metric=metric\n",
    "                )\n",
    "            \n",
    "            for k, (m, a, s) in enumerate(zip(models, answers, scores)):\n",
    "                scores_by_model[m].append(s)\n",
    "                model_answers[m].append(a)\n",
    "            \n",
    "        for k, (m, s) in enumerate(scores_by_model.items()):\n",
    "            row = [\n",
    "                ctx_name,\n",
    "                fname,\n",
    "                ctx,\n",
    "                k,\n",
    "                m,\n",
    "                model_answers[m][0],\n",
    "            ]\n",
    "            for i, val in enumerate(s):\n",
    "                for metric, score in val.items():\n",
    "                    if metric not in header:\n",
    "                        if metric in rouge_metric_data:\n",
    "                            metric = \"Rouge: \" + metric\n",
    "                            if metric not in header: \n",
    "                                header.append(metric)\n",
    "                        elif metric in bleu_metric_data:\n",
    "                            metric = \"Bleu: \" + metric\n",
    "                            if metric not in header: \n",
    "                                header.append(metric)\n",
    "                        elif metric in bert_metric_data:\n",
    "                            metric = \"Bert: \" + metric\n",
    "                            if metric not in header: \n",
    "                                header.append(metric)\n",
    "                        else:\n",
    "                            header.append(metric)\n",
    "                    row.append(score)\n",
    "            rows.append(row)\n",
    "\n",
    "\n",
    "with open(csvfile, \"w\") as f:\n",
    "    writer = csv.writer(f)\n",
    "    writer.writerow(header)\n",
    "    writer.writerows(rows)"
   ]
  }
 ],
 "metadata": {
  "kernelspec": {
   "display_name": "Python 3.11.5 ('.venv': venv)",
   "language": "python",
   "name": "python3"
  },
  "language_info": {
   "codemirror_mode": {
    "name": "ipython",
    "version": 3
   },
   "file_extension": ".py",
   "mimetype": "text/x-python",
   "name": "python",
   "nbconvert_exporter": "python",
   "pygments_lexer": "ipython3",
   "version": "3.11.5"
  },
  "vscode": {
   "interpreter": {
    "hash": "e22577b96ae4292ce4f56ac62ee5d572607fd90aee9aa8e67f8a1f5a6d69949d"
   }
  }
 },
 "nbformat": 4,
 "nbformat_minor": 2
}
