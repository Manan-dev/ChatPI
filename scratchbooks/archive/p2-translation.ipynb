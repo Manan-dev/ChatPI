{
 "cells": [
  {
   "cell_type": "markdown",
   "metadata": {},
   "source": [
    "# Part 2 - Translation\n",
    "\n",
    "You will modify Part 1 to generate the translations of your answers from Part 1 into a particular language (see below) and then back to English.\n",
    "\n",
    "So, your prompt should look like:\n",
    "\n",
    "> Your question.  \n",
    "> Answer in English.  \n",
    "> Answer in the assigned Language.  \n",
    "> Answer in English, translated from the above language.\n",
    "\n",
    "The language you will use for your project is:\n",
    "\n",
    "Team 1, 4, 7, 10, 13 - Spanish\n",
    "\n",
    "Team 2,5,8,11 - German\n",
    "\n",
    "Team 3,6,9,12 - French\n",
    "\n",
    "Observe the effects of the cyclical translation (e.g., English->French->English) and critique the results in your slides and the report.\n",
    "\n",
    "Part 2.2 -- use two different HF translation models: use the default translation pipeline, then use other models of choice and discuss the differences in the result.\n",
    "\n",
    "https://huggingface.co/docs/transformers/main_classes/pipelines\n",
    "\n",
    "https://huggingface.co/docs/transformers/v4.35.0/en/main_classes/pipelines#transformers.TranslationPipeline\n"
   ]
  },
  {
   "cell_type": "code",
   "execution_count": 1,
   "metadata": {},
   "outputs": [
    {
     "name": "stdout",
     "output_type": "stream",
     "text": [
      "Requirement already satisfied: matplotlib==3.8.2 in /usr/local/lib/python3.11/site-packages (from -r ../requirements.txt (line 1)) (3.8.2)\n",
      "Requirement already satisfied: spacy==3.7.2 in /usr/local/lib/python3.11/site-packages (from -r ../requirements.txt (line 2)) (3.7.2)\n",
      "Requirement already satisfied: torch==2.1.1 in /usr/local/lib/python3.11/site-packages (from -r ../requirements.txt (line 3)) (2.1.1)\n",
      "Requirement already satisfied: tqdm==4.66.1 in /usr/local/lib/python3.11/site-packages (from -r ../requirements.txt (line 4)) (4.66.1)\n",
      "Requirement already satisfied: transformers==4.35.0 in /usr/local/lib/python3.11/site-packages (from -r ../requirements.txt (line 5)) (4.35.0)\n",
      "Requirement already satisfied: sentencepiece==0.1.99 in /usr/local/lib/python3.11/site-packages (from -r ../requirements.txt (line 6)) (0.1.99)\n",
      "Requirement already satisfied: sacremoses==0.1.1 in /usr/local/lib/python3.11/site-packages (from -r ../requirements.txt (line 7)) (0.1.1)\n",
      "Requirement already satisfied: termcolor==2.3.0 in /usr/local/lib/python3.11/site-packages (from -r ../requirements.txt (line 8)) (2.3.0)\n",
      "Requirement already satisfied: tabulate==0.9.0 in /usr/local/lib/python3.11/site-packages (from -r ../requirements.txt (line 9)) (0.9.0)\n",
      "Requirement already satisfied: evaluate==0.4.1 in /usr/local/lib/python3.11/site-packages (from -r ../requirements.txt (line 10)) (0.4.1)\n",
      "Requirement already satisfied: contourpy>=1.0.1 in /usr/local/lib/python3.11/site-packages (from matplotlib==3.8.2->-r ../requirements.txt (line 1)) (1.1.1)\n",
      "Requirement already satisfied: cycler>=0.10 in /usr/local/lib/python3.11/site-packages (from matplotlib==3.8.2->-r ../requirements.txt (line 1)) (0.12.1)\n",
      "Requirement already satisfied: fonttools>=4.22.0 in /usr/local/lib/python3.11/site-packages (from matplotlib==3.8.2->-r ../requirements.txt (line 1)) (4.43.1)\n",
      "Requirement already satisfied: kiwisolver>=1.3.1 in /usr/local/lib/python3.11/site-packages (from matplotlib==3.8.2->-r ../requirements.txt (line 1)) (1.4.5)\n",
      "Requirement already satisfied: numpy<2,>=1.21 in /usr/local/lib/python3.11/site-packages (from matplotlib==3.8.2->-r ../requirements.txt (line 1)) (1.26.1)\n",
      "Requirement already satisfied: packaging>=20.0 in /usr/local/Cellar/sip/6.7.11/libexec/lib/python3.11/site-packages (from matplotlib==3.8.2->-r ../requirements.txt (line 1)) (23.1)\n",
      "Requirement already satisfied: pillow>=8 in /usr/local/lib/python3.11/site-packages (from matplotlib==3.8.2->-r ../requirements.txt (line 1)) (10.1.0)\n",
      "Requirement already satisfied: pyparsing>=2.3.1 in /usr/local/lib/python3.11/site-packages (from matplotlib==3.8.2->-r ../requirements.txt (line 1)) (3.1.1)\n",
      "Requirement already satisfied: python-dateutil>=2.7 in /Users/acozma/Library/Python/3.11/lib/python/site-packages (from matplotlib==3.8.2->-r ../requirements.txt (line 1)) (2.8.2)\n",
      "Requirement already satisfied: spacy-legacy<3.1.0,>=3.0.11 in /usr/local/lib/python3.11/site-packages (from spacy==3.7.2->-r ../requirements.txt (line 2)) (3.0.12)\n",
      "Requirement already satisfied: spacy-loggers<2.0.0,>=1.0.0 in /usr/local/lib/python3.11/site-packages (from spacy==3.7.2->-r ../requirements.txt (line 2)) (1.0.5)\n",
      "Requirement already satisfied: murmurhash<1.1.0,>=0.28.0 in /usr/local/lib/python3.11/site-packages (from spacy==3.7.2->-r ../requirements.txt (line 2)) (1.0.10)\n",
      "Requirement already satisfied: cymem<2.1.0,>=2.0.2 in /usr/local/lib/python3.11/site-packages (from spacy==3.7.2->-r ../requirements.txt (line 2)) (2.0.8)\n",
      "Requirement already satisfied: preshed<3.1.0,>=3.0.2 in /usr/local/lib/python3.11/site-packages (from spacy==3.7.2->-r ../requirements.txt (line 2)) (3.0.9)\n",
      "Requirement already satisfied: thinc<8.3.0,>=8.1.8 in /usr/local/lib/python3.11/site-packages (from spacy==3.7.2->-r ../requirements.txt (line 2)) (8.2.1)\n",
      "Requirement already satisfied: wasabi<1.2.0,>=0.9.1 in /usr/local/lib/python3.11/site-packages (from spacy==3.7.2->-r ../requirements.txt (line 2)) (1.1.2)\n",
      "Requirement already satisfied: srsly<3.0.0,>=2.4.3 in /usr/local/lib/python3.11/site-packages (from spacy==3.7.2->-r ../requirements.txt (line 2)) (2.4.8)\n",
      "Requirement already satisfied: catalogue<2.1.0,>=2.0.6 in /usr/local/lib/python3.11/site-packages (from spacy==3.7.2->-r ../requirements.txt (line 2)) (2.0.10)\n",
      "Requirement already satisfied: weasel<0.4.0,>=0.1.0 in /usr/local/lib/python3.11/site-packages (from spacy==3.7.2->-r ../requirements.txt (line 2)) (0.3.4)\n",
      "Requirement already satisfied: typer<0.10.0,>=0.3.0 in /usr/local/lib/python3.11/site-packages (from spacy==3.7.2->-r ../requirements.txt (line 2)) (0.9.0)\n",
      "Requirement already satisfied: smart-open<7.0.0,>=5.2.1 in /usr/local/lib/python3.11/site-packages (from spacy==3.7.2->-r ../requirements.txt (line 2)) (6.4.0)\n",
      "Requirement already satisfied: requests<3.0.0,>=2.13.0 in /usr/local/lib/python3.11/site-packages (from spacy==3.7.2->-r ../requirements.txt (line 2)) (2.28.2)\n",
      "Requirement already satisfied: pydantic!=1.8,!=1.8.1,<3.0.0,>=1.7.4 in /usr/local/lib/python3.11/site-packages (from spacy==3.7.2->-r ../requirements.txt (line 2)) (2.4.2)\n",
      "Requirement already satisfied: jinja2 in /usr/local/lib/python3.11/site-packages (from spacy==3.7.2->-r ../requirements.txt (line 2)) (3.1.2)\n",
      "Requirement already satisfied: setuptools in /usr/local/lib/python3.11/site-packages (from spacy==3.7.2->-r ../requirements.txt (line 2)) (68.1.2)\n",
      "Requirement already satisfied: langcodes<4.0.0,>=3.2.0 in /usr/local/lib/python3.11/site-packages (from spacy==3.7.2->-r ../requirements.txt (line 2)) (3.3.0)\n",
      "Requirement already satisfied: filelock in /usr/local/lib/python3.11/site-packages (from torch==2.1.1->-r ../requirements.txt (line 3)) (3.13.0)\n",
      "Requirement already satisfied: typing-extensions in /usr/local/lib/python3.11/site-packages (from torch==2.1.1->-r ../requirements.txt (line 3)) (4.8.0)\n",
      "Requirement already satisfied: sympy in /usr/local/lib/python3.11/site-packages (from torch==2.1.1->-r ../requirements.txt (line 3)) (1.12)\n",
      "Requirement already satisfied: networkx in /usr/local/lib/python3.11/site-packages (from torch==2.1.1->-r ../requirements.txt (line 3)) (3.2.1)\n",
      "Requirement already satisfied: fsspec in /usr/local/lib/python3.11/site-packages (from torch==2.1.1->-r ../requirements.txt (line 3)) (2023.10.0)\n",
      "Requirement already satisfied: huggingface-hub<1.0,>=0.16.4 in /usr/local/lib/python3.11/site-packages (from transformers==4.35.0->-r ../requirements.txt (line 5)) (0.17.3)\n",
      "Requirement already satisfied: pyyaml>=5.1 in /usr/local/lib/python3.11/site-packages (from transformers==4.35.0->-r ../requirements.txt (line 5)) (6.0.1)\n",
      "Requirement already satisfied: regex!=2019.12.17 in /usr/local/lib/python3.11/site-packages (from transformers==4.35.0->-r ../requirements.txt (line 5)) (2023.10.3)\n",
      "Requirement already satisfied: tokenizers<0.15,>=0.14 in /usr/local/lib/python3.11/site-packages (from transformers==4.35.0->-r ../requirements.txt (line 5)) (0.14.1)\n",
      "Requirement already satisfied: safetensors>=0.3.1 in /usr/local/lib/python3.11/site-packages (from transformers==4.35.0->-r ../requirements.txt (line 5)) (0.4.0)\n",
      "Requirement already satisfied: click in /usr/local/lib/python3.11/site-packages (from sacremoses==0.1.1->-r ../requirements.txt (line 7)) (8.1.7)\n",
      "Requirement already satisfied: joblib in /usr/local/lib/python3.11/site-packages (from sacremoses==0.1.1->-r ../requirements.txt (line 7)) (1.3.2)\n",
      "Requirement already satisfied: datasets>=2.0.0 in /usr/local/lib/python3.11/site-packages (from evaluate==0.4.1->-r ../requirements.txt (line 10)) (2.14.7)\n",
      "Requirement already satisfied: dill in /usr/local/lib/python3.11/site-packages (from evaluate==0.4.1->-r ../requirements.txt (line 10)) (0.3.7)\n",
      "Requirement already satisfied: pandas in /usr/local/lib/python3.11/site-packages (from evaluate==0.4.1->-r ../requirements.txt (line 10)) (2.1.2)\n",
      "Requirement already satisfied: xxhash in /usr/local/lib/python3.11/site-packages (from evaluate==0.4.1->-r ../requirements.txt (line 10)) (3.4.1)\n",
      "Requirement already satisfied: multiprocess in /usr/local/lib/python3.11/site-packages (from evaluate==0.4.1->-r ../requirements.txt (line 10)) (0.70.15)\n",
      "Requirement already satisfied: responses<0.19 in /usr/local/lib/python3.11/site-packages (from evaluate==0.4.1->-r ../requirements.txt (line 10)) (0.18.0)\n",
      "Requirement already satisfied: pyarrow>=8.0.0 in /usr/local/lib/python3.11/site-packages (from datasets>=2.0.0->evaluate==0.4.1->-r ../requirements.txt (line 10)) (14.0.1)\n",
      "Requirement already satisfied: pyarrow-hotfix in /usr/local/lib/python3.11/site-packages (from datasets>=2.0.0->evaluate==0.4.1->-r ../requirements.txt (line 10)) (0.6)\n",
      "Requirement already satisfied: aiohttp in /usr/local/lib/python3.11/site-packages (from datasets>=2.0.0->evaluate==0.4.1->-r ../requirements.txt (line 10)) (3.8.5)\n",
      "Requirement already satisfied: annotated-types>=0.4.0 in /usr/local/lib/python3.11/site-packages (from pydantic!=1.8,!=1.8.1,<3.0.0,>=1.7.4->spacy==3.7.2->-r ../requirements.txt (line 2)) (0.6.0)\n",
      "Requirement already satisfied: pydantic-core==2.10.1 in /usr/local/lib/python3.11/site-packages (from pydantic!=1.8,!=1.8.1,<3.0.0,>=1.7.4->spacy==3.7.2->-r ../requirements.txt (line 2)) (2.10.1)\n",
      "Requirement already satisfied: six>=1.5 in /Users/acozma/Library/Python/3.11/lib/python/site-packages (from python-dateutil>=2.7->matplotlib==3.8.2->-r ../requirements.txt (line 1)) (1.16.0)\n",
      "Requirement already satisfied: charset-normalizer<4,>=2 in /usr/local/lib/python3.11/site-packages (from requests<3.0.0,>=2.13.0->spacy==3.7.2->-r ../requirements.txt (line 2)) (3.2.0)\n",
      "Requirement already satisfied: idna<4,>=2.5 in /usr/local/lib/python3.11/site-packages (from requests<3.0.0,>=2.13.0->spacy==3.7.2->-r ../requirements.txt (line 2)) (3.4)\n",
      "Requirement already satisfied: urllib3<1.27,>=1.21.1 in /usr/local/lib/python3.11/site-packages (from requests<3.0.0,>=2.13.0->spacy==3.7.2->-r ../requirements.txt (line 2)) (1.26.16)\n",
      "Requirement already satisfied: certifi>=2017.4.17 in /usr/local/lib/python3.11/site-packages (from requests<3.0.0,>=2.13.0->spacy==3.7.2->-r ../requirements.txt (line 2)) (2023.7.22)\n",
      "Requirement already satisfied: blis<0.8.0,>=0.7.8 in /usr/local/lib/python3.11/site-packages (from thinc<8.3.0,>=8.1.8->spacy==3.7.2->-r ../requirements.txt (line 2)) (0.7.11)\n",
      "Requirement already satisfied: confection<1.0.0,>=0.0.1 in /usr/local/lib/python3.11/site-packages (from thinc<8.3.0,>=8.1.8->spacy==3.7.2->-r ../requirements.txt (line 2)) (0.1.3)\n",
      "Requirement already satisfied: cloudpathlib<0.17.0,>=0.7.0 in /usr/local/lib/python3.11/site-packages (from weasel<0.4.0,>=0.1.0->spacy==3.7.2->-r ../requirements.txt (line 2)) (0.16.0)\n",
      "Requirement already satisfied: MarkupSafe>=2.0 in /usr/local/lib/python3.11/site-packages (from jinja2->spacy==3.7.2->-r ../requirements.txt (line 2)) (2.1.3)\n",
      "Requirement already satisfied: pytz>=2020.1 in /usr/local/lib/python3.11/site-packages (from pandas->evaluate==0.4.1->-r ../requirements.txt (line 10)) (2023.3.post1)\n",
      "Requirement already satisfied: tzdata>=2022.1 in /usr/local/lib/python3.11/site-packages (from pandas->evaluate==0.4.1->-r ../requirements.txt (line 10)) (2023.3)\n",
      "Requirement already satisfied: mpmath>=0.19 in /usr/local/lib/python3.11/site-packages (from sympy->torch==2.1.1->-r ../requirements.txt (line 3)) (1.3.0)\n",
      "Requirement already satisfied: attrs>=17.3.0 in /usr/local/lib/python3.11/site-packages (from aiohttp->datasets>=2.0.0->evaluate==0.4.1->-r ../requirements.txt (line 10)) (22.2.0)\n",
      "Requirement already satisfied: multidict<7.0,>=4.5 in /usr/local/lib/python3.11/site-packages (from aiohttp->datasets>=2.0.0->evaluate==0.4.1->-r ../requirements.txt (line 10)) (6.0.4)\n",
      "Requirement already satisfied: async-timeout<5.0,>=4.0.0a3 in /usr/local/lib/python3.11/site-packages (from aiohttp->datasets>=2.0.0->evaluate==0.4.1->-r ../requirements.txt (line 10)) (4.0.3)\n",
      "Requirement already satisfied: yarl<2.0,>=1.0 in /usr/local/lib/python3.11/site-packages (from aiohttp->datasets>=2.0.0->evaluate==0.4.1->-r ../requirements.txt (line 10)) (1.9.2)\n",
      "Requirement already satisfied: frozenlist>=1.1.1 in /usr/local/lib/python3.11/site-packages (from aiohttp->datasets>=2.0.0->evaluate==0.4.1->-r ../requirements.txt (line 10)) (1.4.0)\n",
      "Requirement already satisfied: aiosignal>=1.1.2 in /usr/local/lib/python3.11/site-packages (from aiohttp->datasets>=2.0.0->evaluate==0.4.1->-r ../requirements.txt (line 10)) (1.3.1)\n"
     ]
    }
   ],
   "source": [
    "!pip3 install -r ../requirements.txt\n",
    "\n",
    "%load_ext autoreload\n",
    "%autoreload 2\n"
   ]
  },
  {
   "cell_type": "code",
   "execution_count": 2,
   "metadata": {},
   "outputs": [
    {
     "name": "stderr",
     "output_type": "stream",
     "text": [
      "/usr/local/lib/python3.11/site-packages/tqdm/auto.py:21: TqdmWarning: IProgress not found. Please update jupyter and ipywidgets. See https://ipywidgets.readthedocs.io/en/stable/user_install.html\n",
      "  from .autonotebook import tqdm as notebook_tqdm\n"
     ]
    }
   ],
   "source": [
    "from src.translation import run, run_models\n"
   ]
  },
  {
   "cell_type": "code",
   "execution_count": 3,
   "metadata": {},
   "outputs": [],
   "source": [
    "test_txt = \"\"\"\n",
    "Sherlock Holmes took his bottle from the corner of the mantel-piece and\n",
    "his hypodermic syringe from its neat morocco case. With his long,\n",
    "white, nervous fingers he adjusted the delicate needle, and rolled back\n",
    "his left shirt-cuff. For some little time his eyes rested thoughtfully\n",
    "upon the sinewy forearm and wrist all dotted and scarred with\n",
    "innumerable puncture-marks. Finally he thrust the sharp point home,\n",
    "pressed down the tiny piston, and sank back into the velvet-lined\n",
    "arm-chair with a long sigh of satisfaction.\n",
    "\"\"\"\n"
   ]
  },
  {
   "cell_type": "code",
   "execution_count": 4,
   "metadata": {},
   "outputs": [
    {
     "name": "stderr",
     "output_type": "stream",
     "text": [
      "No model was supplied, defaulted to t5-base and revision 686f1db (https://huggingface.co/t5-base).\n",
      "Using a pipeline without specifying a model name and revision in production is not recommended.\n"
     ]
    },
    {
     "name": "stdout",
     "output_type": "stream",
     "text": [
      "----------------------------------------------------------------------------------------------------\n",
      "model: None\n"
     ]
    },
    {
     "name": "stderr",
     "output_type": "stream",
     "text": [
      "Downloading model.safetensors: 100%|██████████| 892M/892M [00:49<00:00, 18.1MB/s] \n",
      "Downloading generation_config.json: 100%|██████████| 147/147 [00:00<00:00, 659kB/s]\n",
      "Downloading spiece.model: 100%|██████████| 792k/792k [00:00<00:00, 14.3MB/s]\n",
      "Downloading tokenizer.json: 100%|██████████| 1.39M/1.39M [00:00<00:00, 21.5MB/s]\n",
      "/usr/local/lib/python3.11/site-packages/transformers/models/t5/tokenization_t5_fast.py:160: FutureWarning: This tokenizer was incorrectly instantiated with a model max length of 512 which will be corrected in Transformers v5.\n",
      "For now, this behavior is kept to avoid breaking backwards compatibility when padding/encoding with `truncation is True`.\n",
      "- Be aware that you SHOULD NOT rely on t5-base automatically truncating your input to 512 when padding/encoding.\n",
      "- If you want to encode/pad to sequences longer than 512 you can either instantiate this tokenizer with `model_max_length` or pass `max_length` when encoding/padding.\n",
      "- To avoid this warning, please instantiate this tokenizer with `model_max_length` set to your preferred value.\n",
      "  warnings.warn(\n"
     ]
    },
    {
     "name": "stdout",
     "output_type": "stream",
     "text": [
      "> Sherlock Holmes a pris sa bouteille du coin du manteau et sa seringue hypodermique de son étui morocco. Avec ses longs doigts blancs et nerveux, il ajusta la délicate aiguille et roulait à l'envers de sa manche gauche. Pendant un peu de temps, ses yeux reposèrent soigneusement sur l'avant-bras\n"
     ]
    }
   ],
   "source": [
    "# https://huggingface.co/t5-base\n",
    "_ = run(test_txt)\n"
   ]
  },
  {
   "cell_type": "code",
   "execution_count": 5,
   "metadata": {},
   "outputs": [
    {
     "name": "stdout",
     "output_type": "stream",
     "text": [
      "----------------------------------------------------------------------------------------------------\n",
      "model: t5-large\n"
     ]
    },
    {
     "name": "stderr",
     "output_type": "stream",
     "text": [
      "Downloading config.json: 100%|██████████| 1.21k/1.21k [00:00<00:00, 3.90MB/s]\n",
      "Downloading model.safetensors: 100%|██████████| 2.95G/2.95G [05:44<00:00, 8.56MB/s]\n",
      "Downloading generation_config.json: 100%|██████████| 147/147 [00:00<00:00, 138kB/s]\n",
      "Downloading spiece.model: 100%|██████████| 792k/792k [00:00<00:00, 1.87MB/s]\n",
      "Downloading tokenizer.json: 100%|██████████| 1.39M/1.39M [00:00<00:00, 2.32MB/s]\n",
      "/usr/local/lib/python3.11/site-packages/transformers/models/t5/tokenization_t5_fast.py:160: FutureWarning: This tokenizer was incorrectly instantiated with a model max length of 512 which will be corrected in Transformers v5.\n",
      "For now, this behavior is kept to avoid breaking backwards compatibility when padding/encoding with `truncation is True`.\n",
      "- Be aware that you SHOULD NOT rely on t5-large automatically truncating your input to 512 when padding/encoding.\n",
      "- If you want to encode/pad to sequences longer than 512 you can either instantiate this tokenizer with `model_max_length` or pass `max_length` when encoding/padding.\n",
      "- To avoid this warning, please instantiate this tokenizer with `model_max_length` set to your preferred value.\n",
      "  warnings.warn(\n"
     ]
    },
    {
     "name": "stdout",
     "output_type": "stream",
     "text": [
      "> Sherlock Holmes prenait sa bouteille de l'angle du manteau et sa seringue hypodermique de son étui morocain soigné. Avec ses longs doigts blancs et nerveux, il ajustait l'aiguille délicate et roulait son manteau gauche. Pendant un peu de temps, ses yeux restaient soigneusement sur l'avant-bra\n"
     ]
    }
   ],
   "source": [
    "# https://huggingface.co/t5-large\n",
    "_ = run(test_txt, model=\"t5-large\")\n"
   ]
  },
  {
   "cell_type": "code",
   "execution_count": 6,
   "metadata": {},
   "outputs": [
    {
     "name": "stdout",
     "output_type": "stream",
     "text": [
      "----------------------------------------------------------------------------------------------------\n",
      "model: Helsinki-NLP/opus-mt-en-fr\n",
      "> Sherlock Holmes a pris sa bouteille du coin de la cheminée et sa seringue hypodermique de son boîtier morocco soigné. Avec ses doigts longs, blancs et nerveux, il a ajusté l'aiguille délicate, et a roulé sa chemise-cuisse gauche. Pendant un peu de temps, ses yeux reposaient délicatement sur l'avant-bras et le poignet sinueux tous parsemés et marqués d'innombrables marques de ponction. Enfin, il a poussé le point aigu à la maison, a pressé le petit piston, et a coulé dans la chaise de bras doublée de velours avec un long soupir de satisfaction.\n"
     ]
    }
   ],
   "source": [
    "# https://huggingface.co/Helsinki-NLP/opus-mt-en-fr\n",
    "_ = run(test_txt, model=\"Helsinki-NLP/opus-mt-en-fr\")\n"
   ]
  }
 ],
 "metadata": {
  "kernelspec": {
   "display_name": "Python 3",
   "language": "python",
   "name": "python3"
  },
  "language_info": {
   "codemirror_mode": {
    "name": "ipython",
    "version": 3
   },
   "file_extension": ".py",
   "mimetype": "text/x-python",
   "name": "python",
   "nbconvert_exporter": "python",
   "pygments_lexer": "ipython3",
   "version": "3.11.5"
  }
 },
 "nbformat": 4,
 "nbformat_minor": 2
}
