{
 "cells": [
  {
   "cell_type": "code",
   "execution_count": 4,
   "metadata": {},
   "outputs": [
    {
     "name": "stdout",
     "output_type": "stream",
     "text": [
      "The autoreload extension is already loaded. To reload it, use:\n",
      "  %reload_ext autoreload\n"
     ]
    }
   ],
   "source": [
    "%load_ext autoreload\n",
    "%autoreload 2\n"
   ]
  },
  {
   "cell_type": "code",
   "execution_count": 5,
   "metadata": {},
   "outputs": [],
   "source": [
    "from src.utils import read_context, read_qa\n"
   ]
  },
  {
   "cell_type": "code",
   "execution_count": 6,
   "metadata": {},
   "outputs": [
    {
     "name": "stdout",
     "output_type": "stream",
     "text": [
      "Found: ['protagonist.0.md', 'protagonist.qa.md']\n",
      "################################################################################\n",
      "################################################################################\n",
      "Sherlock Holmes took his bottle from the corner of the mantel-piece and his hypodermic syringe from its neat morocco case. With his long, white, nervous fingers he adjusted the delicate needle, and rolled back his left shirt-cuff. For some little time his eyes rested thoughtfully upon the sinewy forearm and wrist all dotted and scarred with innumerable puncture-marks. Finally he thrust the sharp point home, pressed down the tiny piston, and sank back into the velvet-lined arm-chair with a long sigh of satisfaction. Three times a day for many months I had witnessed this performance, but custom had not reconciled my mind to it. On the contrary, from day to day I had become more irritable at the sight, and my conscience swelled nightly within me at the thought that I had lacked the courage to protest. Again and again I had registered a vow that I should deliver my soul upon the subject, but there was that in the cool, nonchalant air of my companion which made him the last man with whom one would care to take anything approaching to a liberty. His great powers, his masterly manner, and the experience which I had had of his many extraordinary qualities, all made me diffident and backward in crossing him. Yet upon that afternoon, whether it was the Beaune which I had taken with my lunch, or the additional exasperation produced by the extreme deliberation of his manner, I suddenly felt that I could hold out no longer. \"Which is it to-day?\" I asked,-\"morphine or cocaine?\" He raised his eyes languidly from the old black-letter volume which he had opened. \"It is cocaine,\" he said,-\"a seven-per-cent. solution. Would you care to try it?\" \"No, indeed,\" I answered, brusquely. \"My constitution has not got over the Afghan campaign yet. I\n",
      "================================================================================\n",
      "================================================================================\n",
      "Current Question: Who is the main character that the story revolves around?\n",
      "Expected Answer: Sherlock Holmes\n",
      "================================================================================\n",
      "================================================================================\n",
      "Current Question: Who is the detective in the story?\n",
      "Expected Answer: Sherlock Holmes\n",
      "================================================================================\n",
      "================================================================================\n",
      "Current Question: Who is the main protagonist in the story?\n",
      "Expected Answer: Sherlock Holmes\n",
      "================================================================================\n",
      "================================================================================\n",
      "Current Question: What are the defining characteristics or traits of the central character?\n",
      "Expected Answer: [EXPECTED ANSWER HERE]\n",
      "================================================================================\n",
      "================================================================================\n",
      "Current Question: What are the characteristics of the main protagonist?\n",
      "Expected Answer: [EXPECTED ANSWER HERE]\n",
      "\n"
     ]
    }
   ],
   "source": [
    "ctx_name = \"protagonist\"\n",
    "\n",
    "for i, (fname, ctx) in enumerate(read_context(ctx_name)):\n",
    "    print(\"#\" * 80)\n",
    "    print(\"#\" * 80)\n",
    "    print(ctx)\n",
    "\n",
    "    for j, (question, true_answer) in enumerate(read_qa(ctx_name)):\n",
    "        print(\"=\" * 80)\n",
    "        print(\"=\" * 80)\n",
    "        print(f\"Current Question: {question}\")\n",
    "        print(f\"Expected Answer: {true_answer}\")\n",
    "\n",
    "    print()\n"
   ]
  },
  {
   "cell_type": "code",
   "execution_count": null,
   "metadata": {},
   "outputs": [],
   "source": []
  }
 ],
 "metadata": {
  "kernelspec": {
   "display_name": "Python 3",
   "language": "python",
   "name": "python3"
  },
  "language_info": {
   "codemirror_mode": {
    "name": "ipython",
    "version": 3
   },
   "file_extension": ".py",
   "mimetype": "text/x-python",
   "name": "python",
   "nbconvert_exporter": "python",
   "pygments_lexer": "ipython3",
   "version": "3.10.12"
  }
 },
 "nbformat": 4,
 "nbformat_minor": 2
}
