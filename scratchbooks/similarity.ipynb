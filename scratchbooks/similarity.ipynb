{
 "cells": [
  {
   "cell_type": "code",
   "execution_count": 9,
   "metadata": {},
   "outputs": [],
   "source": [
    "from transformers import AutoTokenizer\n",
    "import torch\n",
    "from IPython.display import display, Markdown\n"
   ]
  },
  {
   "cell_type": "code",
   "execution_count": 10,
   "metadata": {},
   "outputs": [
    {
     "name": "stdout",
     "output_type": "stream",
     "text": [
      "cover The Sign of the Four by Arthur Conan Doyle Contents Chapter I. The Science of Deduction Chapter II. The Statement of the Case Chapter III. In Quest of a Solution Chapter IV. The Story of the Bald-Headed Man Chapter V. The Tragedy of Pondicherry Lodge Chapter VI. Sherlock Holmes Gives a Demonstration Chapter VII. The Episode of the Barrel Chapter VIII. The Baker Street Irregulars Chapter IX. A Break in the Chain Chapter X. The End of the Islander Chapter XI. The Great Agra Treasure Chapter XII. The Strange Story of Jonathan Small Chapter I The Science of Deduction Sherlock Holmes took his bottle from the corner of the mantel-piece and his hypodermic syringe from its neat morocco case. With his long, white, nervous fingers he adjusted the delicate needle, and rolled back his left shirt-cuff. For some little time his eyes rested thoughtfully upon the sinewy forearm and wrist all dotted and scarred with innumerable puncture-marks. Finally he thrust the sharp point home, pressed down the tiny piston, and sank back into the velvet-lined arm-chair with a long sigh of satisfaction. Three times a day for many months I had witnessed this performance, but custom had not reconciled my mind to it. On the contrary, from day to day I had become more irritable at the sight, and my conscience swelled nightly within me at the thought that I had lacked the courage to protest. Again and again I had registered a vow that I should deliver my soul upon the subject, but there was that in the cool, nonchalant air of my companion which made him the last man with whom one would care to take anything approaching to a liberty. His great powers, his masterly manner, and the experience which I had had of his many\n",
      "-----------------------\n",
      "extraordinary qualities, all made me diffident and backward in crossing him. Yet upon that afternoon, whether it was the Beaune which I had taken with my lunch, or the additional exasperation produced by the extreme deliberation of his manner, I suddenly felt that I could hold out no longer. \"Which is it to-day?\" I asked,-\"morphine or cocaine?\" He raised his eyes languidly from the old black-letter volume which he had opened. \"It is cocaine,\" he said,-\"a seven-per-cent. solution. Would you care to try it?\" \"No, indeed,\" I answered, brusquely. \"My constitution has not got over the Afghan campaign yet. I cannot afford to throw any extra strain upon it.\" He smiled at my vehemence. \"Perhaps you are right, Watson,\" he said. \"I suppose that its influence is physically a bad one. I find it, however, so transcendently stimulating and clarifying to the mind that its secondary action is a matter of small moment.\" \"But consider!\" I said, earnestly. \"Count the cost! Your brain may, as you say, be roused and excited, but it is a pathological and morbid process, which involves increased tissue-change and may at last leave a permanent weakness. You know, too, what a black reaction comes upon you. Surely the game is hardly worth the candle. Why should you, for a mere passing pleasure, risk the loss of those great powers with which you have been endowed? Remember that I speak not only as one comrade to another, but as a medical man to one for whose constitution he is to some extent answerable.\" He did not seem offended. On the contrary, he put his finger-tips together and leaned his elbows on the arms of his chair, like one who has a relish for conversation. \"My mind,\" he said, \"rebels at stagnation. Give me problems, give me\n",
      "-----------------------\n",
      "work, give me the most abstruse cryptogram or the most intricate analysis, and I am in my own proper atmosphere. I can dispense then with artificial stimulants. But I abhor the dull routine of existence. I crave for mental exaltation. That is why I have chosen my own particular profession,-or rather created it, for I am the only one in the world.\" \"The only unofficial detective?\" I said, raising my eyebrows. \"The only unofficial consulting detective,\" he answered. \"I am the last and highest court of appeal in detection. When Gregson or Lestrade or Athelney Jones are out of their depths-which, by the way, is their normal state-the matter is laid before me. I examine the data, as an expert, and pronounce a specialist's opinion. I claim no credit in such cases. My name figures in no newspaper. The work itself, the pleasure of finding a field for my peculiar powers, is my highest reward. But you have yourself had some experience of my methods of work in the Jefferson Hope case.\" \"Yes, indeed,\" said I, cordially. \"I was never so struck by anything in my life. I even embodied it in a small brochure with the somewhat fantastic title of 'A Study in Scarlet.'\" He shook his head sadly. \"I glanced over it,\" said he. \"Honestly, I cannot congratulate you upon it. Detection is, or ought to be, an exact science, and should be treated in the same cold and unemotional manner. You have attempted to tinge it with romanticism, which produces much the same effect as if you worked a love-story or an elopement into the fifth proposition of Euclid.\" \"But the romance was there,\" I remonstrated. \"I could not tamper with the facts.\" \"Some facts should be suppressed, or at least a just sense of proportion should\n",
      "-----------------------\n"
     ]
    }
   ],
   "source": [
    "with open('../dataset/the_sign_of_the_four_proc.txt', 'r') as f:\n",
    "  text = f.read()\n",
    "\n",
    "chunks = []\n",
    "chunk_size = 300\n",
    "text = text.split()\n",
    "for i in range(0, len(text), chunk_size):\n",
    "  chunks.append(' '.join(text[i:i+chunk_size]))\n",
    "  # chunks.append(text)\n",
    "\n",
    "for chunk in chunks[:3]:\n",
    "  print(chunk)\n",
    "  print('-----------------------')\n"
   ]
  },
  {
   "cell_type": "code",
   "execution_count": 15,
   "metadata": {},
   "outputs": [
    {
     "name": "stdout",
     "output_type": "stream",
     "text": [
      "torch.Size([144, 468])\n",
      "<class 'torch.Tensor'>\n",
      "468\n",
      "468\n",
      "468\n",
      "468\n",
      "468\n",
      "468\n",
      "468\n",
      "468\n",
      "468\n",
      "468\n",
      "468\n",
      "468\n",
      "468\n",
      "468\n",
      "468\n",
      "468\n",
      "468\n",
      "468\n",
      "468\n",
      "468\n",
      "468\n",
      "468\n",
      "468\n",
      "468\n",
      "468\n",
      "468\n",
      "468\n",
      "468\n",
      "468\n",
      "468\n",
      "468\n",
      "468\n",
      "468\n",
      "468\n",
      "468\n",
      "468\n",
      "468\n",
      "468\n",
      "468\n",
      "468\n",
      "468\n",
      "468\n",
      "468\n",
      "468\n",
      "468\n",
      "468\n",
      "468\n",
      "468\n",
      "468\n",
      "468\n",
      "468\n",
      "468\n",
      "468\n",
      "468\n",
      "468\n",
      "468\n",
      "468\n",
      "468\n",
      "468\n",
      "468\n",
      "468\n",
      "468\n",
      "468\n",
      "468\n",
      "468\n",
      "468\n",
      "468\n",
      "468\n",
      "468\n",
      "468\n",
      "468\n",
      "468\n",
      "468\n",
      "468\n",
      "468\n",
      "468\n",
      "468\n",
      "468\n",
      "468\n",
      "468\n",
      "468\n",
      "468\n",
      "468\n",
      "468\n",
      "468\n",
      "468\n",
      "468\n",
      "468\n",
      "468\n",
      "468\n",
      "468\n",
      "468\n",
      "468\n",
      "468\n",
      "468\n",
      "468\n",
      "468\n",
      "468\n",
      "468\n",
      "468\n",
      "468\n",
      "468\n",
      "468\n",
      "468\n",
      "468\n",
      "468\n",
      "468\n",
      "468\n",
      "468\n",
      "468\n",
      "468\n",
      "468\n",
      "468\n",
      "468\n",
      "468\n",
      "468\n",
      "468\n",
      "468\n",
      "468\n",
      "468\n",
      "468\n",
      "468\n",
      "468\n",
      "468\n",
      "468\n",
      "468\n",
      "468\n",
      "468\n",
      "468\n",
      "468\n",
      "468\n",
      "468\n",
      "468\n",
      "468\n",
      "468\n",
      "468\n",
      "468\n",
      "468\n",
      "468\n",
      "468\n",
      "468\n",
      "468\n",
      "468\n",
      "468\n",
      "-----------------------\n",
      "tensor(113)\n",
      "tensor(113)\n"
     ]
    },
    {
     "data": {
      "text/markdown": [
       "finest swimmers in the service. A crocodile took me, just as I was half-way across, and nipped off my right leg as clean as a surgeon could have done it, just above the knee. What with the shock and the loss of blood, I fainted, and should have drowned if Holder had not caught hold of me and paddled for the bank. I was five months in hospital over it, and when at last I was able to limp out of it with this timber toe strapped to my stump I found myself invalided out of the army and unfitted for any active occupation. \"I was, as you can imagine, pretty down on my luck at this time, for I was a useless cripple though not yet in my twentieth year. However, my misfortune soon proved to be a blessing in disguise. A man named Abel White, who had come out there as an indigo-planter, wanted an overseer to look after his coolies and keep them up to their work. He happened to be a friend of our colonel's, who had taken an interest in me since the accident. To make a long story short, the colonel recommended me strongly for the post and, as the work was mostly to be done on horseback, my leg was no great obstacle, for I had enough knee left to keep good grip on the saddle. What I had to do was to ride over the plantation, to keep an eye on the men as they worked, and to report the idlers. The pay was fair, I had comfortable quarters, and altogether I was content to spend the remainder of my life in indigo-planting. Mr. Abel White was a kind man, and he would often drop into my little shanty and smoke a"
      ],
      "text/plain": [
       "<IPython.core.display.Markdown object>"
      ]
     },
     "metadata": {},
     "output_type": "display_data"
    },
    {
     "name": "stdout",
     "output_type": "stream",
     "text": [
      "tensor(0.2228)\n",
      "----------------------------------------------------------------------------------------------------\n",
      "tensor(48)\n"
     ]
    },
    {
     "data": {
      "text/markdown": [
       "pungent a smell as this? It sounds like a sum in the rule of three. The answer should give us the-But halloa! here are the accredited representatives of the law.\" Heavy steps and the clamour of loud voices were audible from below, and the hall door shut with a loud crash. \"Before they come,\" said Holmes, \"just put your hand here on this poor fellow's arm, and here on his leg. What do you feel?\" \"The muscles are as hard as a board,\" I answered. \"Quite so. They are in a state of extreme contraction, far exceeding the usual _rigor mortis_. Coupled with this distortion of the face, this Hippocratic smile, or '_risus sardonicus_,' as the old writers called it, what conclusion would it suggest to your mind?\" \"Death from some powerful vegetable alkaloid,\" I answered,-\"some strychnine-like substance which would produce tetanus.\" \"That was the idea which occurred to me the instant I saw the drawn muscles of the face. On getting into the room I at once looked for the means by which the poison had entered the system. As you saw, I discovered a thorn which had been driven or shot with no great force into the scalp. You observe that the part struck was that which would be turned towards the hole in the ceiling if the man were erect in his chair. Now examine the thorn.\" I took it up gingerly and held it in the light of the lantern. It was long, sharp, and black, with a glazed look near the point as though some gummy substance had dried upon it. The blunt end had been trimmed and rounded off with a knife. \"Is that an English thorn?\" he asked. \"No, it certainly is not.\" \"With all these data you should be able to draw"
      ],
      "text/plain": [
       "<IPython.core.display.Markdown object>"
      ]
     },
     "metadata": {},
     "output_type": "display_data"
    },
    {
     "name": "stdout",
     "output_type": "stream",
     "text": [
      "tensor(0.2100)\n",
      "----------------------------------------------------------------------------------------------------\n",
      "tensor(115)\n"
     ]
    },
    {
     "data": {
      "text/markdown": [
       "ribbons, and half eaten by jackals and native dogs. A little further up the road Dawson himself was lying on his face, quite dead, with an empty revolver in his hand and four Sepoys lying across each other in front of him. I reined up my horse, wondering which way I should turn, but at that moment I saw thick smoke curling up from Abel White's bungalow and the flames beginning to burst through the roof. I knew then that I could do my employer no good, but would only throw my own life away if I meddled in the matter. From where I stood I could see hundreds of the black fiends, with their red coats still on their backs, dancing and howling round the burning house. Some of them pointed at me, and a couple of bullets sang past my head; so I broke away across the paddy-fields, and found myself late at night safe within the walls at Agra. \"As it proved, however, there was no great safety there, either. The whole country was up like a swarm of bees. Wherever the English could collect in little bands they held just the ground that their guns commanded. Everywhere else they were helpless fugitives. It was a fight of the millions against the hundreds; and the cruellest part of it was that these men that we fought against, foot, horse, and gunners, were our own picked troops, whom we had taught and trained, handling our own weapons, and blowing our own bugle-calls. At Agra there were the 3rd Bengal Fusiliers, some Sikhs, two troops of horse, and a battery of artillery. A volunteer corps of clerks and merchants had been formed, and this I joined, wooden leg and all. We went out to meet the rebels at Shahgunge"
      ],
      "text/plain": [
       "<IPython.core.display.Markdown object>"
      ]
     },
     "metadata": {},
     "output_type": "display_data"
    },
    {
     "name": "stdout",
     "output_type": "stream",
     "text": [
      "tensor(0.2083)\n",
      "----------------------------------------------------------------------------------------------------\n",
      "tensor(113)\n",
      "tensor([0.0198, 0.1365, 0.0083, 0.0295, 0.0875, 0.0198, 0.0173, 0.0285, 0.1534,\n",
      "        0.0127, 0.0066, 0.0265, 0.0171, 0.0265, 0.1281, 0.1009, 0.0932, 0.0331,\n",
      "        0.0151, 0.0559, 0.0175, 0.0152, 0.1116, 0.1615, 0.0185, 0.0417, 0.0199,\n",
      "        0.0174, 0.0170, 0.0395, 0.0186, 0.0716, 0.0154, 0.0173, 0.0168, 0.0213,\n",
      "        0.0551, 0.1393, 0.0168, 0.1239, 0.0173, 0.0173, 0.0283, 0.0147, 0.0195,\n",
      "        0.0310, 0.0188, 0.0152, 0.2100, 0.0133, 0.0118, 0.0107, 0.0176, 0.0166,\n",
      "        0.0140, 0.0604, 0.0161, 0.0336, 0.0140, 0.1860, 0.0076, 0.0191, 0.0872,\n",
      "        0.0202, 0.0167, 0.0660, 0.0685, 0.0356, 0.0168, 0.0442, 0.1258, 0.0288,\n",
      "        0.0234, 0.0880, 0.0196, 0.1145, 0.0180, 0.0134, 0.0159, 0.0546, 0.1413,\n",
      "        0.0022, 0.1240, 0.0174, 0.0190, 0.0311, 0.0113, 0.0817, 0.0180, 0.0204,\n",
      "        0.0165, 0.0253, 0.0583, 0.0115, 0.0165, 0.0359, 0.0140, 0.0703, 0.0145,\n",
      "        0.0314, 0.0269, 0.0509, 0.0996, 0.0853, 0.0168, 0.0134, 0.1353, 0.0108,\n",
      "        0.0226, 0.0180, 0.0558, 0.0124, 0.0122, 0.2228, 0.0822, 0.2083, 0.0181,\n",
      "        0.0996, 0.0111, 0.0157, 0.0258, 0.0099, 0.0209, 0.0152, 0.0453, 0.0673,\n",
      "        0.0401, 0.0158, 0.0172, 0.0122, 0.0156, 0.0178, 0.0212, 0.0213, 0.0115,\n",
      "        0.0177, 0.0281, 0.0180, 0.0310, 0.0718, 0.1547, 0.0201, 0.0107, 0.0958])\n"
     ]
    }
   ],
   "source": [
    "\n",
    "tokenizer = AutoTokenizer.from_pretrained(\"bert-base-cased\")\n",
    "\n",
    "# for chunk in chunks[:3]:\n",
    "chunk_vec = tokenizer(chunks, padding=True, return_tensors=\"pt\")['input_ids']\n",
    "print(chunk_vec.shape)\n",
    "\n",
    "# chunks_vecs.append(chunk_vec)\n",
    "print(type(chunk_vec))\n",
    "for ch in chunk_vec:\n",
    "  print(len(ch))\n",
    "print('-----------------------')\n",
    "\n",
    "question = \"\"\"\n",
    "crime scene\n",
    "\"\"\"\n",
    "\n",
    "question = question.strip()\n",
    "question_vec = tokenizer(question, padding=True, return_tensors=\"pt\")['input_ids']\n",
    "\n",
    "vec_len = len(chunk_vec[0])\n",
    "# print(question_vec.shape)\n",
    "# print(vec_len)\n",
    "# pad 0 to question_vec\n",
    "question_vec = torch.cat((question_vec, torch.zeros((1, vec_len - len(question_vec[0])), dtype=chunk_vec.dtype)), dim=1)\n",
    "\n",
    "# print(question_vec.shape)\n",
    "chunk_vec = chunk_vec.float()\n",
    "question_vec = question_vec.float()\n",
    "cs = torch.nn.functional.cosine_similarity(chunk_vec, question_vec, dim=1)\n",
    "print(cs.argmax(dim=0))\n",
    "# print top 3 most cs chunks\n",
    "topk = cs.topk(3)\n",
    "# print chunks at topk indices\n",
    "for i in topk.indices:\n",
    "  print(i)\n",
    "  display(Markdown(chunks[i]))\n",
    "  print(cs[i])\n",
    "  print('-'*100)\n",
    "\n",
    "# print first occurence of question in text based on cs\n",
    "print(cs.argmax(dim=0))\n",
    "print(cs)\n"
   ]
  }
 ],
 "metadata": {
  "kernelspec": {
   "display_name": "Python 3",
   "language": "python",
   "name": "python3"
  },
  "language_info": {
   "codemirror_mode": {
    "name": "ipython",
    "version": 3
   },
   "file_extension": ".py",
   "mimetype": "text/x-python",
   "name": "python",
   "nbconvert_exporter": "python",
   "pygments_lexer": "ipython3",
   "version": "3.10.12"
  }
 },
 "nbformat": 4,
 "nbformat_minor": 2
}
