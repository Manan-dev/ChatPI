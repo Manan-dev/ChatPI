{
 "cells": [
  {
   "cell_type": "markdown",
   "metadata": {},
   "source": [
    "# Part 2 - Translation\n",
    "\n",
    "You will modify Part 1 to generate the translations of your answers from Part 1 into a particular language (see below) and then back to English.\n",
    "\n",
    "So, your prompt should look like:\n",
    "\n",
    "> Your question.  \n",
    "> Answer in English.  \n",
    "> Answer in the assigned Language.  \n",
    "> Answer in English, translated from the above language.\n",
    "\n",
    "The language you will use for your project is:\n",
    "\n",
    "Team 1, 4, 7, 10, 13 - Spanish\n",
    "\n",
    "Team 2,5,8,11 - German\n",
    "\n",
    "Team 3,6,9,12 - French\n",
    "\n",
    "Observe the effects of the cyclical translation (e.g., English->French->English) and critique the results in your slides and the report.\n",
    "\n",
    "Part 2.2 -- use two different HF translation models: use the default translation pipeline, then use other models of choice and discuss the differences in the result.\n",
    "\n",
    "https://huggingface.co/docs/transformers/main_classes/pipelines\n",
    "\n",
    "https://huggingface.co/docs/transformers/v4.35.0/en/main_classes/pipelines#transformers.TranslationPipeline\n"
   ]
  },
  {
   "cell_type": "code",
   "execution_count": 6,
   "metadata": {},
   "outputs": [
    {
     "name": "stdout",
     "output_type": "stream",
     "text": [
      "Looking in indexes: https://pypi.org/simple, https://pypi.ngc.nvidia.com\n",
      "Requirement already satisfied: matplotlib==3.8.2 in /mnt/Documents/GitHub/UTK-Classes/CS524-Natural-Language-Processing/projects/ChatPI/.venv/lib/python3.10/site-packages (from -r ../requirements.txt (line 1)) (3.8.2)\n",
      "Requirement already satisfied: spacy==3.7.2 in /mnt/Documents/GitHub/UTK-Classes/CS524-Natural-Language-Processing/projects/ChatPI/.venv/lib/python3.10/site-packages (from -r ../requirements.txt (line 2)) (3.7.2)\n",
      "Requirement already satisfied: torch==2.1.1 in /mnt/Documents/GitHub/UTK-Classes/CS524-Natural-Language-Processing/projects/ChatPI/.venv/lib/python3.10/site-packages (from -r ../requirements.txt (line 3)) (2.1.1)\n",
      "Requirement already satisfied: tqdm==4.66.1 in /mnt/Documents/GitHub/UTK-Classes/CS524-Natural-Language-Processing/projects/ChatPI/.venv/lib/python3.10/site-packages (from -r ../requirements.txt (line 4)) (4.66.1)\n",
      "Requirement already satisfied: transformers==4.35.0 in /mnt/Documents/GitHub/UTK-Classes/CS524-Natural-Language-Processing/projects/ChatPI/.venv/lib/python3.10/site-packages (from -r ../requirements.txt (line 5)) (4.35.0)\n",
      "Requirement already satisfied: sentencepiece==0.1.99 in /mnt/Documents/GitHub/UTK-Classes/CS524-Natural-Language-Processing/projects/ChatPI/.venv/lib/python3.10/site-packages (from -r ../requirements.txt (line 6)) (0.1.99)\n",
      "Requirement already satisfied: sacremoses==0.1.1 in /mnt/Documents/GitHub/UTK-Classes/CS524-Natural-Language-Processing/projects/ChatPI/.venv/lib/python3.10/site-packages (from -r ../requirements.txt (line 7)) (0.1.1)\n",
      "Requirement already satisfied: termcolor==2.3.0 in /mnt/Documents/GitHub/UTK-Classes/CS524-Natural-Language-Processing/projects/ChatPI/.venv/lib/python3.10/site-packages (from -r ../requirements.txt (line 8)) (2.3.0)\n",
      "Requirement already satisfied: tabulate==0.9.0 in /mnt/Documents/GitHub/UTK-Classes/CS524-Natural-Language-Processing/projects/ChatPI/.venv/lib/python3.10/site-packages (from -r ../requirements.txt (line 9)) (0.9.0)\n",
      "Requirement already satisfied: packaging>=20.0 in /mnt/Documents/GitHub/UTK-Classes/CS524-Natural-Language-Processing/projects/ChatPI/.venv/lib/python3.10/site-packages (from matplotlib==3.8.2->-r ../requirements.txt (line 1)) (23.2)\n",
      "Requirement already satisfied: numpy<2,>=1.21 in /mnt/Documents/GitHub/UTK-Classes/CS524-Natural-Language-Processing/projects/ChatPI/.venv/lib/python3.10/site-packages (from matplotlib==3.8.2->-r ../requirements.txt (line 1)) (1.26.2)\n",
      "Requirement already satisfied: pillow>=8 in /mnt/Documents/GitHub/UTK-Classes/CS524-Natural-Language-Processing/projects/ChatPI/.venv/lib/python3.10/site-packages (from matplotlib==3.8.2->-r ../requirements.txt (line 1)) (10.1.0)\n",
      "Requirement already satisfied: contourpy>=1.0.1 in /mnt/Documents/GitHub/UTK-Classes/CS524-Natural-Language-Processing/projects/ChatPI/.venv/lib/python3.10/site-packages (from matplotlib==3.8.2->-r ../requirements.txt (line 1)) (1.2.0)\n",
      "Requirement already satisfied: kiwisolver>=1.3.1 in /mnt/Documents/GitHub/UTK-Classes/CS524-Natural-Language-Processing/projects/ChatPI/.venv/lib/python3.10/site-packages (from matplotlib==3.8.2->-r ../requirements.txt (line 1)) (1.4.5)\n",
      "Requirement already satisfied: python-dateutil>=2.7 in /mnt/Documents/GitHub/UTK-Classes/CS524-Natural-Language-Processing/projects/ChatPI/.venv/lib/python3.10/site-packages (from matplotlib==3.8.2->-r ../requirements.txt (line 1)) (2.8.2)\n",
      "Requirement already satisfied: cycler>=0.10 in /mnt/Documents/GitHub/UTK-Classes/CS524-Natural-Language-Processing/projects/ChatPI/.venv/lib/python3.10/site-packages (from matplotlib==3.8.2->-r ../requirements.txt (line 1)) (0.12.1)\n",
      "Requirement already satisfied: fonttools>=4.22.0 in /mnt/Documents/GitHub/UTK-Classes/CS524-Natural-Language-Processing/projects/ChatPI/.venv/lib/python3.10/site-packages (from matplotlib==3.8.2->-r ../requirements.txt (line 1)) (4.45.1)\n",
      "Requirement already satisfied: pyparsing>=2.3.1 in /mnt/Documents/GitHub/UTK-Classes/CS524-Natural-Language-Processing/projects/ChatPI/.venv/lib/python3.10/site-packages (from matplotlib==3.8.2->-r ../requirements.txt (line 1)) (3.1.1)\n",
      "Requirement already satisfied: murmurhash<1.1.0,>=0.28.0 in /mnt/Documents/GitHub/UTK-Classes/CS524-Natural-Language-Processing/projects/ChatPI/.venv/lib/python3.10/site-packages (from spacy==3.7.2->-r ../requirements.txt (line 2)) (1.0.10)\n",
      "Requirement already satisfied: requests<3.0.0,>=2.13.0 in /mnt/Documents/GitHub/UTK-Classes/CS524-Natural-Language-Processing/projects/ChatPI/.venv/lib/python3.10/site-packages (from spacy==3.7.2->-r ../requirements.txt (line 2)) (2.31.0)\n",
      "Requirement already satisfied: langcodes<4.0.0,>=3.2.0 in /mnt/Documents/GitHub/UTK-Classes/CS524-Natural-Language-Processing/projects/ChatPI/.venv/lib/python3.10/site-packages (from spacy==3.7.2->-r ../requirements.txt (line 2)) (3.3.0)\n",
      "Requirement already satisfied: cymem<2.1.0,>=2.0.2 in /mnt/Documents/GitHub/UTK-Classes/CS524-Natural-Language-Processing/projects/ChatPI/.venv/lib/python3.10/site-packages (from spacy==3.7.2->-r ../requirements.txt (line 2)) (2.0.8)\n",
      "Requirement already satisfied: pydantic!=1.8,!=1.8.1,<3.0.0,>=1.7.4 in /mnt/Documents/GitHub/UTK-Classes/CS524-Natural-Language-Processing/projects/ChatPI/.venv/lib/python3.10/site-packages (from spacy==3.7.2->-r ../requirements.txt (line 2)) (2.5.2)\n",
      "Requirement already satisfied: spacy-legacy<3.1.0,>=3.0.11 in /mnt/Documents/GitHub/UTK-Classes/CS524-Natural-Language-Processing/projects/ChatPI/.venv/lib/python3.10/site-packages (from spacy==3.7.2->-r ../requirements.txt (line 2)) (3.0.12)\n",
      "Requirement already satisfied: weasel<0.4.0,>=0.1.0 in /mnt/Documents/GitHub/UTK-Classes/CS524-Natural-Language-Processing/projects/ChatPI/.venv/lib/python3.10/site-packages (from spacy==3.7.2->-r ../requirements.txt (line 2)) (0.3.4)\n",
      "Requirement already satisfied: preshed<3.1.0,>=3.0.2 in /mnt/Documents/GitHub/UTK-Classes/CS524-Natural-Language-Processing/projects/ChatPI/.venv/lib/python3.10/site-packages (from spacy==3.7.2->-r ../requirements.txt (line 2)) (3.0.9)\n",
      "Requirement already satisfied: jinja2 in /mnt/Documents/GitHub/UTK-Classes/CS524-Natural-Language-Processing/projects/ChatPI/.venv/lib/python3.10/site-packages (from spacy==3.7.2->-r ../requirements.txt (line 2)) (3.1.2)\n",
      "Requirement already satisfied: srsly<3.0.0,>=2.4.3 in /mnt/Documents/GitHub/UTK-Classes/CS524-Natural-Language-Processing/projects/ChatPI/.venv/lib/python3.10/site-packages (from spacy==3.7.2->-r ../requirements.txt (line 2)) (2.4.8)\n",
      "Requirement already satisfied: thinc<8.3.0,>=8.1.8 in /mnt/Documents/GitHub/UTK-Classes/CS524-Natural-Language-Processing/projects/ChatPI/.venv/lib/python3.10/site-packages (from spacy==3.7.2->-r ../requirements.txt (line 2)) (8.2.1)\n",
      "Requirement already satisfied: wasabi<1.2.0,>=0.9.1 in /mnt/Documents/GitHub/UTK-Classes/CS524-Natural-Language-Processing/projects/ChatPI/.venv/lib/python3.10/site-packages (from spacy==3.7.2->-r ../requirements.txt (line 2)) (1.1.2)\n",
      "Requirement already satisfied: spacy-loggers<2.0.0,>=1.0.0 in /mnt/Documents/GitHub/UTK-Classes/CS524-Natural-Language-Processing/projects/ChatPI/.venv/lib/python3.10/site-packages (from spacy==3.7.2->-r ../requirements.txt (line 2)) (1.0.5)\n",
      "Requirement already satisfied: typer<0.10.0,>=0.3.0 in /mnt/Documents/GitHub/UTK-Classes/CS524-Natural-Language-Processing/projects/ChatPI/.venv/lib/python3.10/site-packages (from spacy==3.7.2->-r ../requirements.txt (line 2)) (0.9.0)\n",
      "Requirement already satisfied: smart-open<7.0.0,>=5.2.1 in /mnt/Documents/GitHub/UTK-Classes/CS524-Natural-Language-Processing/projects/ChatPI/.venv/lib/python3.10/site-packages (from spacy==3.7.2->-r ../requirements.txt (line 2)) (6.4.0)\n",
      "Requirement already satisfied: catalogue<2.1.0,>=2.0.6 in /mnt/Documents/GitHub/UTK-Classes/CS524-Natural-Language-Processing/projects/ChatPI/.venv/lib/python3.10/site-packages (from spacy==3.7.2->-r ../requirements.txt (line 2)) (2.0.10)\n",
      "Requirement already satisfied: setuptools in /mnt/Documents/GitHub/UTK-Classes/CS524-Natural-Language-Processing/projects/ChatPI/.venv/lib/python3.10/site-packages (from spacy==3.7.2->-r ../requirements.txt (line 2)) (59.6.0)\n",
      "Requirement already satisfied: nvidia-cuda-nvrtc-cu12==12.1.105 in /mnt/Documents/GitHub/UTK-Classes/CS524-Natural-Language-Processing/projects/ChatPI/.venv/lib/python3.10/site-packages (from torch==2.1.1->-r ../requirements.txt (line 3)) (12.1.105)\n",
      "Requirement already satisfied: nvidia-cuda-cupti-cu12==12.1.105 in /mnt/Documents/GitHub/UTK-Classes/CS524-Natural-Language-Processing/projects/ChatPI/.venv/lib/python3.10/site-packages (from torch==2.1.1->-r ../requirements.txt (line 3)) (12.1.105)\n",
      "Requirement already satisfied: nvidia-cufft-cu12==11.0.2.54 in /mnt/Documents/GitHub/UTK-Classes/CS524-Natural-Language-Processing/projects/ChatPI/.venv/lib/python3.10/site-packages (from torch==2.1.1->-r ../requirements.txt (line 3)) (11.0.2.54)\n",
      "Requirement already satisfied: nvidia-cuda-runtime-cu12==12.1.105 in /mnt/Documents/GitHub/UTK-Classes/CS524-Natural-Language-Processing/projects/ChatPI/.venv/lib/python3.10/site-packages (from torch==2.1.1->-r ../requirements.txt (line 3)) (12.1.105)\n",
      "Requirement already satisfied: nvidia-cublas-cu12==12.1.3.1 in /mnt/Documents/GitHub/UTK-Classes/CS524-Natural-Language-Processing/projects/ChatPI/.venv/lib/python3.10/site-packages (from torch==2.1.1->-r ../requirements.txt (line 3)) (12.1.3.1)\n",
      "Requirement already satisfied: nvidia-cusparse-cu12==12.1.0.106 in /mnt/Documents/GitHub/UTK-Classes/CS524-Natural-Language-Processing/projects/ChatPI/.venv/lib/python3.10/site-packages (from torch==2.1.1->-r ../requirements.txt (line 3)) (12.1.0.106)\n",
      "Requirement already satisfied: nvidia-cusolver-cu12==11.4.5.107 in /mnt/Documents/GitHub/UTK-Classes/CS524-Natural-Language-Processing/projects/ChatPI/.venv/lib/python3.10/site-packages (from torch==2.1.1->-r ../requirements.txt (line 3)) (11.4.5.107)\n",
      "Requirement already satisfied: triton==2.1.0 in /mnt/Documents/GitHub/UTK-Classes/CS524-Natural-Language-Processing/projects/ChatPI/.venv/lib/python3.10/site-packages (from torch==2.1.1->-r ../requirements.txt (line 3)) (2.1.0)\n",
      "Requirement already satisfied: nvidia-nccl-cu12==2.18.1 in /mnt/Documents/GitHub/UTK-Classes/CS524-Natural-Language-Processing/projects/ChatPI/.venv/lib/python3.10/site-packages (from torch==2.1.1->-r ../requirements.txt (line 3)) (2.18.1)\n",
      "Requirement already satisfied: filelock in /mnt/Documents/GitHub/UTK-Classes/CS524-Natural-Language-Processing/projects/ChatPI/.venv/lib/python3.10/site-packages (from torch==2.1.1->-r ../requirements.txt (line 3)) (3.13.1)\n",
      "Requirement already satisfied: typing-extensions in /mnt/Documents/GitHub/UTK-Classes/CS524-Natural-Language-Processing/projects/ChatPI/.venv/lib/python3.10/site-packages (from torch==2.1.1->-r ../requirements.txt (line 3)) (4.8.0)\n",
      "Requirement already satisfied: nvidia-nvtx-cu12==12.1.105 in /mnt/Documents/GitHub/UTK-Classes/CS524-Natural-Language-Processing/projects/ChatPI/.venv/lib/python3.10/site-packages (from torch==2.1.1->-r ../requirements.txt (line 3)) (12.1.105)\n",
      "Requirement already satisfied: networkx in /mnt/Documents/GitHub/UTK-Classes/CS524-Natural-Language-Processing/projects/ChatPI/.venv/lib/python3.10/site-packages (from torch==2.1.1->-r ../requirements.txt (line 3)) (3.2.1)\n",
      "Requirement already satisfied: fsspec in /mnt/Documents/GitHub/UTK-Classes/CS524-Natural-Language-Processing/projects/ChatPI/.venv/lib/python3.10/site-packages (from torch==2.1.1->-r ../requirements.txt (line 3)) (2023.10.0)\n",
      "Requirement already satisfied: sympy in /mnt/Documents/GitHub/UTK-Classes/CS524-Natural-Language-Processing/projects/ChatPI/.venv/lib/python3.10/site-packages (from torch==2.1.1->-r ../requirements.txt (line 3)) (1.12)\n",
      "Requirement already satisfied: nvidia-curand-cu12==10.3.2.106 in /mnt/Documents/GitHub/UTK-Classes/CS524-Natural-Language-Processing/projects/ChatPI/.venv/lib/python3.10/site-packages (from torch==2.1.1->-r ../requirements.txt (line 3)) (10.3.2.106)\n",
      "Requirement already satisfied: nvidia-cudnn-cu12==8.9.2.26 in /mnt/Documents/GitHub/UTK-Classes/CS524-Natural-Language-Processing/projects/ChatPI/.venv/lib/python3.10/site-packages (from torch==2.1.1->-r ../requirements.txt (line 3)) (8.9.2.26)\n",
      "Requirement already satisfied: pyyaml>=5.1 in /mnt/Documents/GitHub/UTK-Classes/CS524-Natural-Language-Processing/projects/ChatPI/.venv/lib/python3.10/site-packages (from transformers==4.35.0->-r ../requirements.txt (line 5)) (6.0.1)\n",
      "Requirement already satisfied: tokenizers<0.15,>=0.14 in /mnt/Documents/GitHub/UTK-Classes/CS524-Natural-Language-Processing/projects/ChatPI/.venv/lib/python3.10/site-packages (from transformers==4.35.0->-r ../requirements.txt (line 5)) (0.14.1)\n",
      "Requirement already satisfied: safetensors>=0.3.1 in /mnt/Documents/GitHub/UTK-Classes/CS524-Natural-Language-Processing/projects/ChatPI/.venv/lib/python3.10/site-packages (from transformers==4.35.0->-r ../requirements.txt (line 5)) (0.4.0)\n",
      "Requirement already satisfied: regex!=2019.12.17 in /mnt/Documents/GitHub/UTK-Classes/CS524-Natural-Language-Processing/projects/ChatPI/.venv/lib/python3.10/site-packages (from transformers==4.35.0->-r ../requirements.txt (line 5)) (2023.10.3)\n",
      "Requirement already satisfied: huggingface-hub<1.0,>=0.16.4 in /mnt/Documents/GitHub/UTK-Classes/CS524-Natural-Language-Processing/projects/ChatPI/.venv/lib/python3.10/site-packages (from transformers==4.35.0->-r ../requirements.txt (line 5)) (0.17.3)\n",
      "Requirement already satisfied: click in /mnt/Documents/GitHub/UTK-Classes/CS524-Natural-Language-Processing/projects/ChatPI/.venv/lib/python3.10/site-packages (from sacremoses==0.1.1->-r ../requirements.txt (line 7)) (8.1.7)\n",
      "Requirement already satisfied: joblib in /mnt/Documents/GitHub/UTK-Classes/CS524-Natural-Language-Processing/projects/ChatPI/.venv/lib/python3.10/site-packages (from sacremoses==0.1.1->-r ../requirements.txt (line 7)) (1.3.2)\n",
      "Requirement already satisfied: nvidia-nvjitlink-cu12 in /mnt/Documents/GitHub/UTK-Classes/CS524-Natural-Language-Processing/projects/ChatPI/.venv/lib/python3.10/site-packages (from nvidia-cusolver-cu12==11.4.5.107->torch==2.1.1->-r ../requirements.txt (line 3)) (12.3.101)\n",
      "Requirement already satisfied: annotated-types>=0.4.0 in /mnt/Documents/GitHub/UTK-Classes/CS524-Natural-Language-Processing/projects/ChatPI/.venv/lib/python3.10/site-packages (from pydantic!=1.8,!=1.8.1,<3.0.0,>=1.7.4->spacy==3.7.2->-r ../requirements.txt (line 2)) (0.6.0)\n",
      "Requirement already satisfied: pydantic-core==2.14.5 in /mnt/Documents/GitHub/UTK-Classes/CS524-Natural-Language-Processing/projects/ChatPI/.venv/lib/python3.10/site-packages (from pydantic!=1.8,!=1.8.1,<3.0.0,>=1.7.4->spacy==3.7.2->-r ../requirements.txt (line 2)) (2.14.5)\n",
      "Requirement already satisfied: six>=1.5 in /mnt/Documents/GitHub/UTK-Classes/CS524-Natural-Language-Processing/projects/ChatPI/.venv/lib/python3.10/site-packages (from python-dateutil>=2.7->matplotlib==3.8.2->-r ../requirements.txt (line 1)) (1.16.0)\n",
      "Requirement already satisfied: idna<4,>=2.5 in /mnt/Documents/GitHub/UTK-Classes/CS524-Natural-Language-Processing/projects/ChatPI/.venv/lib/python3.10/site-packages (from requests<3.0.0,>=2.13.0->spacy==3.7.2->-r ../requirements.txt (line 2)) (3.6)\n",
      "Requirement already satisfied: urllib3<3,>=1.21.1 in /mnt/Documents/GitHub/UTK-Classes/CS524-Natural-Language-Processing/projects/ChatPI/.venv/lib/python3.10/site-packages (from requests<3.0.0,>=2.13.0->spacy==3.7.2->-r ../requirements.txt (line 2)) (2.1.0)\n",
      "Requirement already satisfied: certifi>=2017.4.17 in /mnt/Documents/GitHub/UTK-Classes/CS524-Natural-Language-Processing/projects/ChatPI/.venv/lib/python3.10/site-packages (from requests<3.0.0,>=2.13.0->spacy==3.7.2->-r ../requirements.txt (line 2)) (2023.11.17)\n",
      "Requirement already satisfied: charset-normalizer<4,>=2 in /mnt/Documents/GitHub/UTK-Classes/CS524-Natural-Language-Processing/projects/ChatPI/.venv/lib/python3.10/site-packages (from requests<3.0.0,>=2.13.0->spacy==3.7.2->-r ../requirements.txt (line 2)) (3.3.2)\n",
      "Requirement already satisfied: blis<0.8.0,>=0.7.8 in /mnt/Documents/GitHub/UTK-Classes/CS524-Natural-Language-Processing/projects/ChatPI/.venv/lib/python3.10/site-packages (from thinc<8.3.0,>=8.1.8->spacy==3.7.2->-r ../requirements.txt (line 2)) (0.7.11)\n",
      "Requirement already satisfied: confection<1.0.0,>=0.0.1 in /mnt/Documents/GitHub/UTK-Classes/CS524-Natural-Language-Processing/projects/ChatPI/.venv/lib/python3.10/site-packages (from thinc<8.3.0,>=8.1.8->spacy==3.7.2->-r ../requirements.txt (line 2)) (0.1.4)\n",
      "Requirement already satisfied: cloudpathlib<0.17.0,>=0.7.0 in /mnt/Documents/GitHub/UTK-Classes/CS524-Natural-Language-Processing/projects/ChatPI/.venv/lib/python3.10/site-packages (from weasel<0.4.0,>=0.1.0->spacy==3.7.2->-r ../requirements.txt (line 2)) (0.16.0)\n",
      "Requirement already satisfied: MarkupSafe>=2.0 in /mnt/Documents/GitHub/UTK-Classes/CS524-Natural-Language-Processing/projects/ChatPI/.venv/lib/python3.10/site-packages (from jinja2->spacy==3.7.2->-r ../requirements.txt (line 2)) (2.1.3)\n",
      "Requirement already satisfied: mpmath>=0.19 in /mnt/Documents/GitHub/UTK-Classes/CS524-Natural-Language-Processing/projects/ChatPI/.venv/lib/python3.10/site-packages (from sympy->torch==2.1.1->-r ../requirements.txt (line 3)) (1.3.0)\n",
      "The autoreload extension is already loaded. To reload it, use:\n",
      "  %reload_ext autoreload\n"
     ]
    }
   ],
   "source": [
    "!pip3 install -r ../requirements.txt\n",
    "\n",
    "%load_ext autoreload\n",
    "%autoreload 2\n"
   ]
  },
  {
   "cell_type": "code",
   "execution_count": 7,
   "metadata": {},
   "outputs": [],
   "source": [
    "from src.utils import read_context, read_context\n",
    "from src.translation import run, run_models\n"
   ]
  },
  {
   "cell_type": "markdown",
   "metadata": {},
   "source": [
    "---\n",
    "---\n",
    "\n",
    "## Experiments & Results\n",
    "\n",
    "You will modify Part 1 to generate the translations of your answers from Part 1 into a particular language (see below) and then back to English.\n",
    "\n",
    "Observe the effects of the cyclical translation (e.g., English->French->English) and critique the results in your slides and the report.\n"
   ]
  },
  {
   "cell_type": "code",
   "execution_count": 8,
   "metadata": {},
   "outputs": [],
   "source": [
    "# TODO: Try out a good selection of models and keep some interesting ones\n",
    "models = [\n",
    "    # \"t5-base\",\n",
    "    # \"t5-large\",\n",
    "    (\"Helsinki-NLP/opus-mt-en-fr\", \"Helsinki-NLP/opus-mt-fr-en\"),\n",
    "]\n"
   ]
  },
  {
   "cell_type": "code",
   "execution_count": 10,
   "metadata": {},
   "outputs": [
    {
     "name": "stdout",
     "output_type": "stream",
     "text": [
      "----------------------------------------------------------------------------------------------------\n",
      "model: Helsinki-NLP/opus-mt-en-fr\n",
      "> Sherlock Holmes a pris sa bouteille du coin de la cheminée et sa seringue hypodermique de son boîtier morocco soigné. Avec ses doigts longs, blancs et nerveux, il a ajusté l'aiguille délicate, et a roulé sa chemise-cuisse gauche. Pendant un peu de temps, ses yeux reposaient délicatement sur l'avant-bras et le poignet sinueux tous parsemés et marqués d'innombrables marques de ponction. Enfin, il a poussé le point aigu à la maison, a pressé le petit piston, et a coulé dans la chaise de bras doublée de velours avec un long soupir de satisfaction.\n",
      "----------------------------------------------------------------------------------------------------\n",
      "model: Helsinki-NLP/opus-mt-fr-en\n",
      "> Sherlock Holmes took his bottle from the corner of the fireplace and his hypodermic syringe from his neat morocco case. With his long, white and nervous fingers, he adjusted the delicate needle, and rolled his left blouse shirt. For a little while, his eyes were gently resting on the forearm and wrist sinuous all dotted and marked with countless puncture marks. Finally, he pushed the sharp point home, pressed the small plunger, and sank into the arm chair lined with velvet with a long sigh of satisfaction.\n",
      "SIMILARITY: \u001b[32m0.9901\u001b[0m\n"
     ]
    }
   ],
   "source": [
    "## TODO: add experiments and results\n",
    "\n",
    "test_txt = \"\"\"\n",
    "Sherlock Holmes took his bottle from the corner of the mantel-piece and\n",
    "his hypodermic syringe from its neat morocco case. With his long,\n",
    "white, nervous fingers he adjusted the delicate needle, and rolled back\n",
    "his left shirt-cuff. For some little time his eyes rested thoughtfully\n",
    "upon the sinewy forearm and wrist all dotted and scarred with\n",
    "innumerable puncture-marks. Finally he thrust the sharp point home,\n",
    "pressed down the tiny piston, and sank back into the velvet-lined\n",
    "arm-chair with a long sigh of satisfaction.\n",
    "\"\"\"\n",
    "\n",
    "\n",
    "answers, scores = run_models(test_txt, models=models)\n"
   ]
  },
  {
   "cell_type": "code",
   "execution_count": 13,
   "metadata": {},
   "outputs": [
    {
     "name": "stdout",
     "output_type": "stream",
     "text": [
      "[(\"Sherlock Holmes a pris sa bouteille du coin de la cheminée et sa seringue hypodermique de son boîtier morocco soigné. Avec ses doigts longs, blancs et nerveux, il a ajusté l'aiguille délicate, et a roulé sa chemise-cuisse gauche. Pendant un peu de temps, ses yeux reposaient délicatement sur l'avant-bras et le poignet sinueux tous parsemés et marqués d'innombrables marques de ponction. Enfin, il a poussé le point aigu à la maison, a pressé le petit piston, et a coulé dans la chaise de bras doublée de velours avec un long soupir de satisfaction.\", 'Sherlock Holmes took his bottle from the corner of the fireplace and his hypodermic syringe from his neat morocco case. With his long, white and nervous fingers, he adjusted the delicate needle, and rolled his left blouse shirt. For a little while, his eyes were gently resting on the forearm and wrist sinuous all dotted and marked with countless puncture marks. Finally, he pushed the sharp point home, pressed the small plunger, and sank into the arm chair lined with velvet with a long sigh of satisfaction.')]\n",
      "[0.9900604519384838]\n"
     ]
    }
   ],
   "source": [
    "print(answers)\n",
    "\n",
    "print(scores)\n"
   ]
  },
  {
   "cell_type": "code",
   "execution_count": null,
   "metadata": {},
   "outputs": [],
   "source": []
  }
 ],
 "metadata": {
  "kernelspec": {
   "display_name": "Python 3",
   "language": "python",
   "name": "python3"
  },
  "language_info": {
   "codemirror_mode": {
    "name": "ipython",
    "version": 3
   },
   "file_extension": ".py",
   "mimetype": "text/x-python",
   "name": "python",
   "nbconvert_exporter": "python",
   "pygments_lexer": "ipython3",
   "version": "3.10.12"
  }
 },
 "nbformat": 4,
 "nbformat_minor": 2
}
