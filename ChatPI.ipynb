{
 "cells": [
  {
   "cell_type": "code",
   "execution_count": 1,
   "metadata": {},
   "outputs": [
    {
     "name": "stdout",
     "output_type": "stream",
     "text": [
      "Hello World!\n"
     ]
    }
   ],
   "source": [
    "print(\"Hello World!\")"
   ]
  },
  {
   "cell_type": "code",
   "execution_count": 39,
   "metadata": {},
   "outputs": [
    {
     "name": "stdout",
     "output_type": "stream",
     "text": [
      "467\n",
      "['\"Just', 'sit', 'in', 'the', 'corner', 'there,', 'that', 'your', 'footprints', 'may', 'not', 'complicate', 'matters.', 'Now', 'to', 'work!', 'In', 'the', 'first', 'place,', 'how', 'did', 'these', 'folk', 'come,', 'and', 'how', 'did', 'they', 'go?', 'The', 'door', 'has', 'not', 'been', 'opened', 'since', 'last', 'night.', 'How', 'of', 'the', 'window?\"', 'He', 'carried', 'the', 'lamp', 'across', 'to', 'it,', 'muttering', 'his', 'observations', 'aloud', 'the', 'while,', 'but', 'addressing', 'them', 'to', 'himself', 'rather', 'than', 'to', 'me.', '\"Window', 'is', 'snibbed', 'on', 'the', 'inner', 'side.', 'Framework', 'is', 'solid.', 'No', 'hinges', 'at', 'the', 'side.', 'Let', 'us', 'open', 'it.', 'No', 'water-pipe', 'near.', 'Roof', 'quite', 'out', 'of', 'reach.', 'Yet', 'a', 'man', 'has', 'mounted', 'by', 'the', 'window.', 'It', 'rained', 'a', 'little', 'last', 'night.', 'Here', 'is', 'the', 'print', 'of', 'a', 'foot', 'in', 'mould', 'upon', 'the', 'sill.', 'And', 'here', 'is', 'a', 'circular', 'muddy', 'mark,', 'and', 'here', 'again', 'upon', 'the', 'floor,', 'and', 'here', 'again', 'by', 'the', 'table.', 'See', 'here,', 'Watson!', 'This', 'is', 'really', 'a', 'very', 'pretty', 'demonstration.\"', 'I', 'looked', 'at', 'the', 'round,', 'well-defined', 'muddy', 'discs.', '\"This', 'is', 'not', 'a', 'footmark,\"', 'said', 'I.', '\"It', 'is', 'something', 'much', 'more', 'valuable', 'to', 'us.', 'It', 'is', 'the', 'impression', 'of', 'a', 'wooden', 'stump.', 'You', 'see', 'here', 'on', 'the', 'sill', 'is', 'the', 'boot-mark,', 'a', 'heavy', 'boot', 'with', 'the', 'broad', 'metal', 'heel,', 'and', 'beside', 'it', 'is', 'the', 'mark', 'of', 'the', 'timber-toe.\"', '\"It', 'is', 'the', 'wooden-legged', 'man.\"', '\"Quite', 'so.', 'But', 'there', 'has', 'been', 'some', 'one', 'else,-a', 'very', 'able', 'and', 'efficient', 'ally.', 'Could', 'you', 'scale', 'that', 'wall,', 'doctor?\"', 'I', 'looked', 'out', 'of', 'the', 'open', 'window.', 'The', 'moon', 'still', 'shone', 'brightly', 'on', 'that', 'angle', 'of', 'the', 'house.', 'We', 'were', 'a', 'good', 'sixty', 'feet', 'from', 'the', 'ground,', 'and,', 'look', 'where', 'I', 'would,', 'I', 'could', 'see', 'no', 'foothold,', 'nor', 'as', 'much', 'as', 'a', 'crevice', 'in', 'the', 'brick-work.', '\"It', 'is', 'absolutely', 'impossible,\"', 'I', 'answered.', '\"Without', 'aid', 'it', 'is', 'so.', 'But', 'suppose', 'you', 'had', 'a', 'friend', 'up', 'here', 'who', 'lowered', 'you', 'this', 'good', 'stout']\n",
      "\"Just sit in the corner there, that your footprints may not complicate matters. Now to work! In the first place, how did these folk come, and how did they go? The door has not been opened since last night. How of the window?\" He carried the lamp across to it, muttering his observations aloud the while, but addressing them to himself rather than to me. \"Window is snibbed on the inner side. Framework is solid. No hinges at the side. Let us open it. No water-pipe near. Roof quite out of reach. Yet a man has mounted by the window. It rained a little last night. Here is the print of a foot in mould upon the sill. And here is a circular muddy mark, and here again upon the floor, and here again by the table. See here, Watson! This is really a very pretty demonstration.\" I looked at the round, well-defined muddy discs. \"This is not a footmark,\" said I. \"It is something much more valuable to us. It is the impression of a wooden stump. You see here on the sill is the boot-mark, a heavy boot with the broad metal heel, and beside it is the mark of the timber-toe.\" \"It is the wooden-legged man.\" \"Quite so. But there has been some one else,-a very able and efficient ally. Could you scale that wall, doctor?\" I looked out of the open window. The moon still shone brightly on that angle of the house. We were a good sixty feet from the ground, and, look where I would, I could see no foothold, nor as much as a crevice in the brick-work. \"It is absolutely impossible,\" I answered. \"Without aid it is so. But suppose you had a friend up here who lowered you this good stout\n"
     ]
    }
   ],
   "source": [
    "text = \"\"\"\n",
    "\"Just sit in the corner there, that your footprints may not complicate matters. Now to work! In the first place, how did these folk come, and how did they go? The door has not been opened since last night. How of the window?\" He carried the lamp across to it, muttering his observations aloud the while, but addressing them to himself rather than to me. \"Window is snibbed on the inner side. Framework is solid. No hinges at the side. Let us open it. No water-pipe near. Roof quite out of reach. Yet a man has mounted by the window. It rained a little last night. Here is the print of a foot in mould upon the sill. And here is a circular muddy mark, and here again upon the floor, and here again by the table. See here, Watson! This is really a very pretty demonstration.\"\n",
    "\n",
    "I looked at the round, well-defined muddy discs. \"This is not a footmark,\" said I.\n",
    "\n",
    "\"It is something much more valuable to us. It is the impression of a wooden stump. You see here on the sill is the boot-mark, a heavy boot with the broad metal heel, and beside it is the mark of the timber-toe.\"\n",
    "\n",
    "\"It is the wooden-legged man.\"\n",
    "\n",
    "\"Quite so. But there has been some one else,-a very able and efficient ally. Could you scale that wall, doctor?\"\n",
    "\n",
    "I looked out of the open window. The moon still shone brightly on that angle of the house. We were a good sixty feet from the ground, and, look where I would, I could see no foothold, nor as much as a crevice in the brick-work.\n",
    "\n",
    "\"It is absolutely impossible,\" I answered.\n",
    "\n",
    "\"Without aid it is so. But suppose you had a friend up here who lowered you this good stout rope which I see in the corner, securing one end of it to this great hook in the wall. Then, I think, if you were an active man, You might swarm up, wooden leg and all. You would depart, of course, in the same fashion, and your ally would draw up the rope, untie it from the hook, shut the window, snib it on the inside, and get away in the way that he originally came. As a minor point it may be noted,\" he continued, fingering the rope, \"that our wooden-legged friend, though a fair climber, was not a professional sailor. His hands were far from horny. My lens discloses more than one blood-mark, especially towards the end of the rope, from which I gather that he slipped down with such velocity that he took the skin off his hand.\"\n",
    "\n",
    "\"This is all very well,\" said I, \"but the thing becomes more unintelligible than ever. How about this mysterious ally? How came he into the room?\"\n",
    "\"\"\"\n",
    "\n",
    "text = text.strip().split()\n",
    "print(len(text))\n",
    "top = \" \".join(text[:300])\n",
    "print(text[:300])\n",
    "print(top)"
   ]
  },
  {
   "cell_type": "code",
   "execution_count": 40,
   "metadata": {},
   "outputs": [
    {
     "name": "stdout",
     "output_type": "stream",
     "text": [
      "300\n"
     ]
    }
   ],
   "source": [
    "temp = \"\"\"\"Just sit in the corner there, that your footprints may not complicate matters. Now to work! In the first place, how did these folk come, and how did they go? The door has not been opened since last night. How of the window?\" He carried the lamp across to it, muttering his observations aloud the while, but addressing them to himself rather than to me. \"Window is snibbed on the inner side. Framework is solid. No hinges at the side. Let us open it. No water-pipe near. Roof quite out of reach. Yet a man has mounted by the window. It rained a little last night. Here is the print of a foot in mould upon the sill. And here is a circular muddy mark, and here again upon the floor, and here again by the table. See here, Watson! This is really a very pretty demonstration.\" I looked at the round, well-defined muddy discs. \"This is not a footmark,\" said I. \"It is something much more valuable to us. It is the impression of a wooden stump. You see here on the sill is the boot-mark, a heavy boot with the broad metal heel, and beside it is the mark of the timber-toe.\" \"It is the wooden-legged man.\" \"Quite so. But there has been some one else,-a very able and efficient ally. Could you scale that wall, doctor?\" I looked out of the open window. The moon still shone brightly on that angle of the house. We were a good sixty feet from the ground, and, look where I would, I could see no foothold, nor as much as a crevice in the brick-work. \"It is absolutely impossible,\" I answered. \"Without aid it is so. But suppose you had a friend up here who lowered you this good stout\n",
    "\n",
    "\"\"\"\n",
    "temp = temp.strip().split()\n",
    "print(len(temp))"
   ]
  }
 ],
 "metadata": {
  "kernelspec": {
   "display_name": "Python 3",
   "language": "python",
   "name": "python3"
  },
  "language_info": {
   "codemirror_mode": {
    "name": "ipython",
    "version": 3
   },
   "file_extension": ".py",
   "mimetype": "text/x-python",
   "name": "python",
   "nbconvert_exporter": "python",
   "pygments_lexer": "ipython3",
   "version": "3.10.10"
  }
 },
 "nbformat": 4,
 "nbformat_minor": 2
}
