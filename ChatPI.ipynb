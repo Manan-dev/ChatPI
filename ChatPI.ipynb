{
 "cells": [
  {
   "cell_type": "markdown",
   "metadata": {},
   "source": [
    "# ChatPI"
   ]
  },
  {
   "cell_type": "code",
   "execution_count": null,
   "metadata": {},
   "outputs": [],
   "source": [
    "%load_ext autoreload\n",
    "%autoreload 2"
   ]
  },
  {
   "cell_type": "code",
   "execution_count": null,
   "metadata": {},
   "outputs": [],
   "source": [
    "\n",
    "# REMEMBER TO CHANGE TO MAIN\n",
    "!pip install git+https://github.com/Manan-dev/ChatPI.git@final-notebook"
   ]
  },
  {
   "cell_type": "code",
   "execution_count": 17,
   "metadata": {},
   "outputs": [],
   "source": [
    "from chatpi import utils\n",
    "from chatpi.question_answering import run_qa\n",
    "from chatpi.translation import run_tr\n",
    "from chatpi.summarization import run_sum\n",
    "\n",
    "from chatpi.utils import read_context, read_quiz"
   ]
  },
  {
   "cell_type": "markdown",
   "metadata": {},
   "source": [
    "## Part 1 - Question-Answering pipeline\n"
   ]
  },
  {
   "cell_type": "markdown",
   "metadata": {},
   "source": [
    "## Part 2 - Translation pipeline (French)"
   ]
  },
  {
   "cell_type": "markdown",
   "metadata": {},
   "source": [
    "## Part 3 - Summarization pipeline"
   ]
  },
  {
   "cell_type": "markdown",
   "metadata": {},
   "source": [
    "## Part 4: ChatBot Implementation"
   ]
  },
  {
   "cell_type": "code",
   "execution_count": null,
   "metadata": {},
   "outputs": [],
   "source": [
    "model = [\n",
    "    \"distilbert-base-uncased-distilled-squad\",\n",
    "]\n",
    "\n",
    "def QA_Func(ctx_name, question):\n",
    "  for ctx_idx, (ctx_fname, ctx_text) in enumerate(read_context(ctx_name)):\n",
    "    ctx_fname = os.path.basename(ctx_fname)\n",
    "    print(\"#\" * 80)\n",
    "    print(\"#\" * 80)\n",
    "    print(ctx_text)"
   ]
  },
  {
   "cell_type": "code",
   "execution_count": null,
   "metadata": {},
   "outputs": [],
   "source": [
    "# translation"
   ]
  },
  {
   "cell_type": "code",
   "execution_count": null,
   "metadata": {},
   "outputs": [],
   "source": [
    "# summarization"
   ]
  },
  {
   "cell_type": "code",
   "execution_count": null,
   "metadata": {},
   "outputs": [],
   "source": [
    "# function to call for qa\n",
    "# function to call for translation\n",
    "# function to call for summarization\n",
    "import sys\n",
    "\n",
    "logo = \"\"\"\n",
    "=================================\n",
    "  ____ _           _   ____ ___ \n",
    " / ___| |__   __ _| |_|  _ \\_ _|\n",
    "| |   | '_ \\ / _` | __| |_) | | \n",
    "| |___| | | | (_| | |_|  __/| | \n",
    " \\____|_| |_|\\__,_|\\__|_|  |___|\n",
    " \n",
    "=================================\n",
    "    \"\"\"\n",
    "print(logo)\n",
    "print(\"Welcome! Please select a context!\")\n",
    "print(\"[1] Protagonist\\n[2] Antagonist\\n[3] Crime\\n[4] Evidence\\n[5] Resolution\\n\")\n",
    "print(\"Type 'help' for more commands!\")\n",
    "\n",
    "context_dictionary = {\n",
    "    1: \"protagonist\",\n",
    "    2: \"antagonist\",\n",
    "    3: \"crime\",\n",
    "    4: \"evidence\",\n",
    "    5: \"resolution\"\n",
    "}\n",
    "\n",
    "# Pick context\n",
    "# Give example questions to use for said context\n",
    "# When asked, run the pipeline and return \n",
    "\n",
    "while True:  \n",
    "    user_input = input(\"> \")\n",
    "\n",
    "    match user_input.lower():\n",
    "      case 'protagonist' | '1':\n",
    "        print(\" Loading protagonist\\n\")\n",
    "        # handle qa and translation stuff first\n",
    "        ctx_name = 'protagonist'\n",
    "        QA_Func(ctx_name, \"Who is the main character that the story revolves around?\")\n",
    "\n",
    "      case 'antagonist' | '2':\n",
    "        print(\" Loading antagonist\\n\")\n",
    "\n",
    "      case 'crime' | '3':\n",
    "        print(\" Loading crime\\n\")\n",
    "\n",
    "      case 'evidence' | '4':\n",
    "        print(\" Loading evidence\\n\")\n",
    "\n",
    "      case 'resolution' | '5':\n",
    "        print(\" Loading resolution\\n\")\n",
    "\n",
    "      case 'help':\n",
    "        print(\"Select a context: \\n[1] Protagonist\\n[2] Antagonist\\n[3] Crime\\n[4] Evidence\\n[5] Resolution\\n\\nOr type\\nHelp -- list commands\\nQuit -- exit the program\\n\")\n",
    "\n",
    "      case 'quit':\n",
    "        print(\"exiting program...\\n\")\n",
    "        sys.exit()\n",
    "\n",
    "      case _:\n",
    "        print(\"please enter a command\\n\")\n",
    "    "
   ]
  }
 ],
 "metadata": {
  "kernelspec": {
   "display_name": "Python 3.11.5 ('.venv': venv)",
   "language": "python",
   "name": "python3"
  },
  "language_info": {
   "codemirror_mode": {
    "name": "ipython",
    "version": 3
   },
   "file_extension": ".py",
   "mimetype": "text/x-python",
   "name": "python",
   "nbconvert_exporter": "python",
   "pygments_lexer": "ipython3",
   "version": "3.11.5"
  },
  "vscode": {
   "interpreter": {
    "hash": "e22577b96ae4292ce4f56ac62ee5d572607fd90aee9aa8e67f8a1f5a6d69949d"
   }
  }
 },
 "nbformat": 4,
 "nbformat_minor": 2
}
